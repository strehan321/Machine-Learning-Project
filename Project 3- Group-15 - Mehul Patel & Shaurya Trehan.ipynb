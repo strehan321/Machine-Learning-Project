{
 "cells": [
  {
   "cell_type": "markdown",
   "metadata": {},
   "source": [
    "## <font color=red> Reading data and creating required columns"
   ]
  },
  {
   "cell_type": "code",
   "execution_count": 1,
   "metadata": {},
   "outputs": [],
   "source": [
    "import pandas as pd\n",
    "import numpy as np\n",
    "import matplotlib.pyplot as plt\n",
    "import seaborn as sns\n",
    "%matplotlib inline\n",
    "import warnings\n",
    "warnings.filterwarnings('ignore')\n",
    "from sklearn.model_selection import train_test_split\n",
    "from sklearn.preprocessing import MinMaxScaler"
   ]
  },
  {
   "cell_type": "code",
   "execution_count": 2,
   "metadata": {},
   "outputs": [],
   "source": [
    "data = pd.read_csv('ENB2012_data.csv')"
   ]
  },
  {
   "cell_type": "code",
   "execution_count": 3,
   "metadata": {},
   "outputs": [
    {
     "data": {
      "text/html": [
       "<div>\n",
       "<style scoped>\n",
       "    .dataframe tbody tr th:only-of-type {\n",
       "        vertical-align: middle;\n",
       "    }\n",
       "\n",
       "    .dataframe tbody tr th {\n",
       "        vertical-align: top;\n",
       "    }\n",
       "\n",
       "    .dataframe thead th {\n",
       "        text-align: right;\n",
       "    }\n",
       "</style>\n",
       "<table border=\"1\" class=\"dataframe\">\n",
       "  <thead>\n",
       "    <tr style=\"text-align: right;\">\n",
       "      <th></th>\n",
       "      <th>X1</th>\n",
       "      <th>X2</th>\n",
       "      <th>X3</th>\n",
       "      <th>X4</th>\n",
       "      <th>X5</th>\n",
       "      <th>X6</th>\n",
       "      <th>X7</th>\n",
       "      <th>X8</th>\n",
       "      <th>Y1</th>\n",
       "      <th>Y2</th>\n",
       "    </tr>\n",
       "  </thead>\n",
       "  <tbody>\n",
       "    <tr>\n",
       "      <th>0</th>\n",
       "      <td>0.98</td>\n",
       "      <td>514.5</td>\n",
       "      <td>294.0</td>\n",
       "      <td>110.25</td>\n",
       "      <td>7.0</td>\n",
       "      <td>2</td>\n",
       "      <td>0.0</td>\n",
       "      <td>0</td>\n",
       "      <td>15.55</td>\n",
       "      <td>21.33</td>\n",
       "    </tr>\n",
       "    <tr>\n",
       "      <th>1</th>\n",
       "      <td>0.98</td>\n",
       "      <td>514.5</td>\n",
       "      <td>294.0</td>\n",
       "      <td>110.25</td>\n",
       "      <td>7.0</td>\n",
       "      <td>3</td>\n",
       "      <td>0.0</td>\n",
       "      <td>0</td>\n",
       "      <td>15.55</td>\n",
       "      <td>21.33</td>\n",
       "    </tr>\n",
       "    <tr>\n",
       "      <th>2</th>\n",
       "      <td>0.98</td>\n",
       "      <td>514.5</td>\n",
       "      <td>294.0</td>\n",
       "      <td>110.25</td>\n",
       "      <td>7.0</td>\n",
       "      <td>4</td>\n",
       "      <td>0.0</td>\n",
       "      <td>0</td>\n",
       "      <td>15.55</td>\n",
       "      <td>21.33</td>\n",
       "    </tr>\n",
       "    <tr>\n",
       "      <th>3</th>\n",
       "      <td>0.98</td>\n",
       "      <td>514.5</td>\n",
       "      <td>294.0</td>\n",
       "      <td>110.25</td>\n",
       "      <td>7.0</td>\n",
       "      <td>5</td>\n",
       "      <td>0.0</td>\n",
       "      <td>0</td>\n",
       "      <td>15.55</td>\n",
       "      <td>21.33</td>\n",
       "    </tr>\n",
       "    <tr>\n",
       "      <th>4</th>\n",
       "      <td>0.90</td>\n",
       "      <td>563.5</td>\n",
       "      <td>318.5</td>\n",
       "      <td>122.50</td>\n",
       "      <td>7.0</td>\n",
       "      <td>2</td>\n",
       "      <td>0.0</td>\n",
       "      <td>0</td>\n",
       "      <td>20.84</td>\n",
       "      <td>28.28</td>\n",
       "    </tr>\n",
       "  </tbody>\n",
       "</table>\n",
       "</div>"
      ],
      "text/plain": [
       "     X1     X2     X3      X4   X5  X6   X7  X8     Y1     Y2\n",
       "0  0.98  514.5  294.0  110.25  7.0   2  0.0   0  15.55  21.33\n",
       "1  0.98  514.5  294.0  110.25  7.0   3  0.0   0  15.55  21.33\n",
       "2  0.98  514.5  294.0  110.25  7.0   4  0.0   0  15.55  21.33\n",
       "3  0.98  514.5  294.0  110.25  7.0   5  0.0   0  15.55  21.33\n",
       "4  0.90  563.5  318.5  122.50  7.0   2  0.0   0  20.84  28.28"
      ]
     },
     "execution_count": 3,
     "metadata": {},
     "output_type": "execute_result"
    }
   ],
   "source": [
    "data.head()"
   ]
  },
  {
   "cell_type": "code",
   "execution_count": 4,
   "metadata": {},
   "outputs": [],
   "source": [
    "data.columns= [\"Relative Compactness\", \"Surface Area\", \"Wall Area\", \"Roof Area\", \"Overall Height\", \"Orientation\", \n",
    "               \"Glazing Area\", \"Glazing Area Distribution\", \"Heating Load\", \"Cooling Load\"]"
   ]
  },
  {
   "cell_type": "code",
   "execution_count": 5,
   "metadata": {},
   "outputs": [
    {
     "data": {
      "text/plain": [
       "Index(['Relative Compactness', 'Surface Area', 'Wall Area', 'Roof Area',\n",
       "       'Overall Height', 'Orientation', 'Glazing Area',\n",
       "       'Glazing Area Distribution', 'Heating Load', 'Cooling Load'],\n",
       "      dtype='object')"
      ]
     },
     "execution_count": 5,
     "metadata": {},
     "output_type": "execute_result"
    }
   ],
   "source": [
    "data.columns"
   ]
  },
  {
   "cell_type": "code",
   "execution_count": 6,
   "metadata": {},
   "outputs": [
    {
     "data": {
      "text/html": [
       "<div>\n",
       "<style scoped>\n",
       "    .dataframe tbody tr th:only-of-type {\n",
       "        vertical-align: middle;\n",
       "    }\n",
       "\n",
       "    .dataframe tbody tr th {\n",
       "        vertical-align: top;\n",
       "    }\n",
       "\n",
       "    .dataframe thead th {\n",
       "        text-align: right;\n",
       "    }\n",
       "</style>\n",
       "<table border=\"1\" class=\"dataframe\">\n",
       "  <thead>\n",
       "    <tr style=\"text-align: right;\">\n",
       "      <th></th>\n",
       "      <th>Relative Compactness</th>\n",
       "      <th>Surface Area</th>\n",
       "      <th>Wall Area</th>\n",
       "      <th>Roof Area</th>\n",
       "      <th>Overall Height</th>\n",
       "      <th>Orientation</th>\n",
       "      <th>Glazing Area</th>\n",
       "      <th>Glazing Area Distribution</th>\n",
       "      <th>Heating Load</th>\n",
       "      <th>Cooling Load</th>\n",
       "    </tr>\n",
       "  </thead>\n",
       "  <tbody>\n",
       "    <tr>\n",
       "      <th>0</th>\n",
       "      <td>0.98</td>\n",
       "      <td>514.5</td>\n",
       "      <td>294.0</td>\n",
       "      <td>110.25</td>\n",
       "      <td>7.0</td>\n",
       "      <td>2</td>\n",
       "      <td>0.0</td>\n",
       "      <td>0</td>\n",
       "      <td>15.55</td>\n",
       "      <td>21.33</td>\n",
       "    </tr>\n",
       "    <tr>\n",
       "      <th>1</th>\n",
       "      <td>0.98</td>\n",
       "      <td>514.5</td>\n",
       "      <td>294.0</td>\n",
       "      <td>110.25</td>\n",
       "      <td>7.0</td>\n",
       "      <td>3</td>\n",
       "      <td>0.0</td>\n",
       "      <td>0</td>\n",
       "      <td>15.55</td>\n",
       "      <td>21.33</td>\n",
       "    </tr>\n",
       "    <tr>\n",
       "      <th>2</th>\n",
       "      <td>0.98</td>\n",
       "      <td>514.5</td>\n",
       "      <td>294.0</td>\n",
       "      <td>110.25</td>\n",
       "      <td>7.0</td>\n",
       "      <td>4</td>\n",
       "      <td>0.0</td>\n",
       "      <td>0</td>\n",
       "      <td>15.55</td>\n",
       "      <td>21.33</td>\n",
       "    </tr>\n",
       "    <tr>\n",
       "      <th>3</th>\n",
       "      <td>0.98</td>\n",
       "      <td>514.5</td>\n",
       "      <td>294.0</td>\n",
       "      <td>110.25</td>\n",
       "      <td>7.0</td>\n",
       "      <td>5</td>\n",
       "      <td>0.0</td>\n",
       "      <td>0</td>\n",
       "      <td>15.55</td>\n",
       "      <td>21.33</td>\n",
       "    </tr>\n",
       "    <tr>\n",
       "      <th>4</th>\n",
       "      <td>0.90</td>\n",
       "      <td>563.5</td>\n",
       "      <td>318.5</td>\n",
       "      <td>122.50</td>\n",
       "      <td>7.0</td>\n",
       "      <td>2</td>\n",
       "      <td>0.0</td>\n",
       "      <td>0</td>\n",
       "      <td>20.84</td>\n",
       "      <td>28.28</td>\n",
       "    </tr>\n",
       "  </tbody>\n",
       "</table>\n",
       "</div>"
      ],
      "text/plain": [
       "   Relative Compactness  Surface Area  Wall Area  Roof Area  Overall Height  \\\n",
       "0                  0.98         514.5      294.0     110.25             7.0   \n",
       "1                  0.98         514.5      294.0     110.25             7.0   \n",
       "2                  0.98         514.5      294.0     110.25             7.0   \n",
       "3                  0.98         514.5      294.0     110.25             7.0   \n",
       "4                  0.90         563.5      318.5     122.50             7.0   \n",
       "\n",
       "   Orientation  Glazing Area  Glazing Area Distribution  Heating Load  \\\n",
       "0            2           0.0                          0         15.55   \n",
       "1            3           0.0                          0         15.55   \n",
       "2            4           0.0                          0         15.55   \n",
       "3            5           0.0                          0         15.55   \n",
       "4            2           0.0                          0         20.84   \n",
       "\n",
       "   Cooling Load  \n",
       "0         21.33  \n",
       "1         21.33  \n",
       "2         21.33  \n",
       "3         21.33  \n",
       "4         28.28  "
      ]
     },
     "execution_count": 6,
     "metadata": {},
     "output_type": "execute_result"
    }
   ],
   "source": [
    "data.head()"
   ]
  },
  {
   "cell_type": "code",
   "execution_count": 7,
   "metadata": {},
   "outputs": [
    {
     "data": {
      "text/plain": [
       "(768, 10)"
      ]
     },
     "execution_count": 7,
     "metadata": {},
     "output_type": "execute_result"
    }
   ],
   "source": [
    "data.shape"
   ]
  },
  {
   "cell_type": "code",
   "execution_count": 8,
   "metadata": {},
   "outputs": [
    {
     "data": {
      "text/plain": [
       "Relative Compactness         0\n",
       "Surface Area                 0\n",
       "Wall Area                    0\n",
       "Roof Area                    0\n",
       "Overall Height               0\n",
       "Orientation                  0\n",
       "Glazing Area                 0\n",
       "Glazing Area Distribution    0\n",
       "Heating Load                 0\n",
       "Cooling Load                 0\n",
       "dtype: int64"
      ]
     },
     "execution_count": 8,
     "metadata": {},
     "output_type": "execute_result"
    }
   ],
   "source": [
    "pd.isnull(data).sum()"
   ]
  },
  {
   "cell_type": "markdown",
   "metadata": {},
   "source": [
    "## Adding column for overall load"
   ]
  },
  {
   "cell_type": "code",
   "execution_count": 9,
   "metadata": {},
   "outputs": [
    {
     "data": {
      "text/html": [
       "<div>\n",
       "<style scoped>\n",
       "    .dataframe tbody tr th:only-of-type {\n",
       "        vertical-align: middle;\n",
       "    }\n",
       "\n",
       "    .dataframe tbody tr th {\n",
       "        vertical-align: top;\n",
       "    }\n",
       "\n",
       "    .dataframe thead th {\n",
       "        text-align: right;\n",
       "    }\n",
       "</style>\n",
       "<table border=\"1\" class=\"dataframe\">\n",
       "  <thead>\n",
       "    <tr style=\"text-align: right;\">\n",
       "      <th></th>\n",
       "      <th>Relative Compactness</th>\n",
       "      <th>Surface Area</th>\n",
       "      <th>Wall Area</th>\n",
       "      <th>Roof Area</th>\n",
       "      <th>Overall Height</th>\n",
       "      <th>Orientation</th>\n",
       "      <th>Glazing Area</th>\n",
       "      <th>Glazing Area Distribution</th>\n",
       "      <th>Heating Load</th>\n",
       "      <th>Cooling Load</th>\n",
       "      <th>Overall Load</th>\n",
       "    </tr>\n",
       "  </thead>\n",
       "  <tbody>\n",
       "    <tr>\n",
       "      <th>0</th>\n",
       "      <td>0.98</td>\n",
       "      <td>514.5</td>\n",
       "      <td>294.0</td>\n",
       "      <td>110.25</td>\n",
       "      <td>7.0</td>\n",
       "      <td>2</td>\n",
       "      <td>0.0</td>\n",
       "      <td>0</td>\n",
       "      <td>15.55</td>\n",
       "      <td>21.33</td>\n",
       "      <td>36.88</td>\n",
       "    </tr>\n",
       "    <tr>\n",
       "      <th>1</th>\n",
       "      <td>0.98</td>\n",
       "      <td>514.5</td>\n",
       "      <td>294.0</td>\n",
       "      <td>110.25</td>\n",
       "      <td>7.0</td>\n",
       "      <td>3</td>\n",
       "      <td>0.0</td>\n",
       "      <td>0</td>\n",
       "      <td>15.55</td>\n",
       "      <td>21.33</td>\n",
       "      <td>36.88</td>\n",
       "    </tr>\n",
       "    <tr>\n",
       "      <th>2</th>\n",
       "      <td>0.98</td>\n",
       "      <td>514.5</td>\n",
       "      <td>294.0</td>\n",
       "      <td>110.25</td>\n",
       "      <td>7.0</td>\n",
       "      <td>4</td>\n",
       "      <td>0.0</td>\n",
       "      <td>0</td>\n",
       "      <td>15.55</td>\n",
       "      <td>21.33</td>\n",
       "      <td>36.88</td>\n",
       "    </tr>\n",
       "    <tr>\n",
       "      <th>3</th>\n",
       "      <td>0.98</td>\n",
       "      <td>514.5</td>\n",
       "      <td>294.0</td>\n",
       "      <td>110.25</td>\n",
       "      <td>7.0</td>\n",
       "      <td>5</td>\n",
       "      <td>0.0</td>\n",
       "      <td>0</td>\n",
       "      <td>15.55</td>\n",
       "      <td>21.33</td>\n",
       "      <td>36.88</td>\n",
       "    </tr>\n",
       "    <tr>\n",
       "      <th>4</th>\n",
       "      <td>0.90</td>\n",
       "      <td>563.5</td>\n",
       "      <td>318.5</td>\n",
       "      <td>122.50</td>\n",
       "      <td>7.0</td>\n",
       "      <td>2</td>\n",
       "      <td>0.0</td>\n",
       "      <td>0</td>\n",
       "      <td>20.84</td>\n",
       "      <td>28.28</td>\n",
       "      <td>49.12</td>\n",
       "    </tr>\n",
       "  </tbody>\n",
       "</table>\n",
       "</div>"
      ],
      "text/plain": [
       "   Relative Compactness  Surface Area  Wall Area  Roof Area  Overall Height  \\\n",
       "0                  0.98         514.5      294.0     110.25             7.0   \n",
       "1                  0.98         514.5      294.0     110.25             7.0   \n",
       "2                  0.98         514.5      294.0     110.25             7.0   \n",
       "3                  0.98         514.5      294.0     110.25             7.0   \n",
       "4                  0.90         563.5      318.5     122.50             7.0   \n",
       "\n",
       "   Orientation  Glazing Area  Glazing Area Distribution  Heating Load  \\\n",
       "0            2           0.0                          0         15.55   \n",
       "1            3           0.0                          0         15.55   \n",
       "2            4           0.0                          0         15.55   \n",
       "3            5           0.0                          0         15.55   \n",
       "4            2           0.0                          0         20.84   \n",
       "\n",
       "   Cooling Load  Overall Load  \n",
       "0         21.33         36.88  \n",
       "1         21.33         36.88  \n",
       "2         21.33         36.88  \n",
       "3         21.33         36.88  \n",
       "4         28.28         49.12  "
      ]
     },
     "execution_count": 9,
     "metadata": {},
     "output_type": "execute_result"
    }
   ],
   "source": [
    "data['Overall Load'] = data['Heating Load'] + data['Cooling Load']\n",
    "data.head()"
   ]
  },
  {
   "cell_type": "code",
   "execution_count": 10,
   "metadata": {},
   "outputs": [
    {
     "data": {
      "image/png": "[encoded data removed]",
      "text/plain": [
       "<matplotlib.figure.Figure at 0x265be96c828>"
      ]
     },
     "metadata": {},
     "output_type": "display_data"
    }
   ],
   "source": [
    "data.hist(bins=50, figsize=(20,15))\n",
    "plt.show()"
   ]
  },
  {
   "cell_type": "code",
   "execution_count": 11,
   "metadata": {},
   "outputs": [
    {
     "data": {
      "text/html": [
       "<div>\n",
       "<style scoped>\n",
       "    .dataframe tbody tr th:only-of-type {\n",
       "        vertical-align: middle;\n",
       "    }\n",
       "\n",
       "    .dataframe tbody tr th {\n",
       "        vertical-align: top;\n",
       "    }\n",
       "\n",
       "    .dataframe thead th {\n",
       "        text-align: right;\n",
       "    }\n",
       "</style>\n",
       "<table border=\"1\" class=\"dataframe\">\n",
       "  <thead>\n",
       "    <tr style=\"text-align: right;\">\n",
       "      <th></th>\n",
       "      <th>Relative Compactness</th>\n",
       "      <th>Surface Area</th>\n",
       "      <th>Wall Area</th>\n",
       "      <th>Roof Area</th>\n",
       "      <th>Overall Height</th>\n",
       "      <th>Orientation</th>\n",
       "      <th>Glazing Area</th>\n",
       "      <th>Glazing Area Distribution</th>\n",
       "      <th>Heating Load</th>\n",
       "      <th>Cooling Load</th>\n",
       "      <th>Overall Load</th>\n",
       "    </tr>\n",
       "  </thead>\n",
       "  <tbody>\n",
       "    <tr>\n",
       "      <th>Relative Compactness</th>\n",
       "      <td>1.000000e+00</td>\n",
       "      <td>-9.919015e-01</td>\n",
       "      <td>-2.037817e-01</td>\n",
       "      <td>-8.688234e-01</td>\n",
       "      <td>8.277473e-01</td>\n",
       "      <td>0.000000</td>\n",
       "      <td>1.283986e-17</td>\n",
       "      <td>1.764620e-17</td>\n",
       "      <td>0.622272</td>\n",
       "      <td>0.634339</td>\n",
       "      <td>0.631950</td>\n",
       "    </tr>\n",
       "    <tr>\n",
       "      <th>Surface Area</th>\n",
       "      <td>-9.919015e-01</td>\n",
       "      <td>1.000000e+00</td>\n",
       "      <td>1.955016e-01</td>\n",
       "      <td>8.807195e-01</td>\n",
       "      <td>-8.581477e-01</td>\n",
       "      <td>0.000000</td>\n",
       "      <td>1.318356e-16</td>\n",
       "      <td>-3.558613e-16</td>\n",
       "      <td>-0.658120</td>\n",
       "      <td>-0.672999</td>\n",
       "      <td>-0.669389</td>\n",
       "    </tr>\n",
       "    <tr>\n",
       "      <th>Wall Area</th>\n",
       "      <td>-2.037817e-01</td>\n",
       "      <td>1.955016e-01</td>\n",
       "      <td>1.000000e+00</td>\n",
       "      <td>-2.923165e-01</td>\n",
       "      <td>2.809757e-01</td>\n",
       "      <td>0.000000</td>\n",
       "      <td>-7.969726e-19</td>\n",
       "      <td>0.000000e+00</td>\n",
       "      <td>0.455671</td>\n",
       "      <td>0.427117</td>\n",
       "      <td>0.444502</td>\n",
       "    </tr>\n",
       "    <tr>\n",
       "      <th>Roof Area</th>\n",
       "      <td>-8.688234e-01</td>\n",
       "      <td>8.807195e-01</td>\n",
       "      <td>-2.923165e-01</td>\n",
       "      <td>1.000000e+00</td>\n",
       "      <td>-9.725122e-01</td>\n",
       "      <td>0.000000</td>\n",
       "      <td>-1.381805e-16</td>\n",
       "      <td>-1.079129e-16</td>\n",
       "      <td>-0.861828</td>\n",
       "      <td>-0.862547</td>\n",
       "      <td>-0.867423</td>\n",
       "    </tr>\n",
       "    <tr>\n",
       "      <th>Overall Height</th>\n",
       "      <td>8.277473e-01</td>\n",
       "      <td>-8.581477e-01</td>\n",
       "      <td>2.809757e-01</td>\n",
       "      <td>-9.725122e-01</td>\n",
       "      <td>1.000000e+00</td>\n",
       "      <td>0.000000</td>\n",
       "      <td>1.861418e-18</td>\n",
       "      <td>0.000000e+00</td>\n",
       "      <td>0.889431</td>\n",
       "      <td>0.895785</td>\n",
       "      <td>0.897945</td>\n",
       "    </tr>\n",
       "    <tr>\n",
       "      <th>Orientation</th>\n",
       "      <td>0.000000e+00</td>\n",
       "      <td>0.000000e+00</td>\n",
       "      <td>0.000000e+00</td>\n",
       "      <td>0.000000e+00</td>\n",
       "      <td>0.000000e+00</td>\n",
       "      <td>1.000000</td>\n",
       "      <td>0.000000e+00</td>\n",
       "      <td>0.000000e+00</td>\n",
       "      <td>-0.002587</td>\n",
       "      <td>0.014290</td>\n",
       "      <td>0.005637</td>\n",
       "    </tr>\n",
       "    <tr>\n",
       "      <th>Glazing Area</th>\n",
       "      <td>1.283986e-17</td>\n",
       "      <td>1.318356e-16</td>\n",
       "      <td>-7.969726e-19</td>\n",
       "      <td>-1.381805e-16</td>\n",
       "      <td>1.861418e-18</td>\n",
       "      <td>0.000000</td>\n",
       "      <td>1.000000e+00</td>\n",
       "      <td>2.129642e-01</td>\n",
       "      <td>0.269841</td>\n",
       "      <td>0.207505</td>\n",
       "      <td>0.241048</td>\n",
       "    </tr>\n",
       "    <tr>\n",
       "      <th>Glazing Area Distribution</th>\n",
       "      <td>1.764620e-17</td>\n",
       "      <td>-3.558613e-16</td>\n",
       "      <td>0.000000e+00</td>\n",
       "      <td>-1.079129e-16</td>\n",
       "      <td>0.000000e+00</td>\n",
       "      <td>0.000000</td>\n",
       "      <td>2.129642e-01</td>\n",
       "      <td>1.000000e+00</td>\n",
       "      <td>0.087368</td>\n",
       "      <td>0.050525</td>\n",
       "      <td>0.069911</td>\n",
       "    </tr>\n",
       "    <tr>\n",
       "      <th>Heating Load</th>\n",
       "      <td>6.222722e-01</td>\n",
       "      <td>-6.581202e-01</td>\n",
       "      <td>4.556712e-01</td>\n",
       "      <td>-8.618283e-01</td>\n",
       "      <td>8.894307e-01</td>\n",
       "      <td>-0.002587</td>\n",
       "      <td>2.698410e-01</td>\n",
       "      <td>8.736759e-02</td>\n",
       "      <td>1.000000</td>\n",
       "      <td>0.975862</td>\n",
       "      <td>0.994299</td>\n",
       "    </tr>\n",
       "    <tr>\n",
       "      <th>Cooling Load</th>\n",
       "      <td>6.343391e-01</td>\n",
       "      <td>-6.729989e-01</td>\n",
       "      <td>4.271170e-01</td>\n",
       "      <td>-8.625466e-01</td>\n",
       "      <td>8.957852e-01</td>\n",
       "      <td>0.014290</td>\n",
       "      <td>2.075050e-01</td>\n",
       "      <td>5.052512e-02</td>\n",
       "      <td>0.975862</td>\n",
       "      <td>1.000000</td>\n",
       "      <td>0.993585</td>\n",
       "    </tr>\n",
       "    <tr>\n",
       "      <th>Overall Load</th>\n",
       "      <td>6.319499e-01</td>\n",
       "      <td>-6.693889e-01</td>\n",
       "      <td>4.445024e-01</td>\n",
       "      <td>-8.674227e-01</td>\n",
       "      <td>8.979448e-01</td>\n",
       "      <td>0.005637</td>\n",
       "      <td>2.410480e-01</td>\n",
       "      <td>6.991125e-02</td>\n",
       "      <td>0.994299</td>\n",
       "      <td>0.993585</td>\n",
       "      <td>1.000000</td>\n",
       "    </tr>\n",
       "  </tbody>\n",
       "</table>\n",
       "</div>"
      ],
      "text/plain": [
       "                           Relative Compactness  Surface Area     Wall Area  \\\n",
       "Relative Compactness               1.000000e+00 -9.919015e-01 -2.037817e-01   \n",
       "Surface Area                      -9.919015e-01  1.000000e+00  1.955016e-01   \n",
       "Wall Area                         -2.037817e-01  1.955016e-01  1.000000e+00   \n",
       "Roof Area                         -8.688234e-01  8.807195e-01 -2.923165e-01   \n",
       "Overall Height                     8.277473e-01 -8.581477e-01  2.809757e-01   \n",
       "Orientation                        0.000000e+00  0.000000e+00  0.000000e+00   \n",
       "Glazing Area                       1.283986e-17  1.318356e-16 -7.969726e-19   \n",
       "Glazing Area Distribution          1.764620e-17 -3.558613e-16  0.000000e+00   \n",
       "Heating Load                       6.222722e-01 -6.581202e-01  4.556712e-01   \n",
       "Cooling Load                       6.343391e-01 -6.729989e-01  4.271170e-01   \n",
       "Overall Load                       6.319499e-01 -6.693889e-01  4.445024e-01   \n",
       "\n",
       "                              Roof Area  Overall Height  Orientation  \\\n",
       "Relative Compactness      -8.688234e-01    8.277473e-01     0.000000   \n",
       "Surface Area               8.807195e-01   -8.581477e-01     0.000000   \n",
       "Wall Area                 -2.923165e-01    2.809757e-01     0.000000   \n",
       "Roof Area                  1.000000e+00   -9.725122e-01     0.000000   \n",
       "Overall Height            -9.725122e-01    1.000000e+00     0.000000   \n",
       "Orientation                0.000000e+00    0.000000e+00     1.000000   \n",
       "Glazing Area              -1.381805e-16    1.861418e-18     0.000000   \n",
       "Glazing Area Distribution -1.079129e-16    0.000000e+00     0.000000   \n",
       "Heating Load              -8.618283e-01    8.894307e-01    -0.002587   \n",
       "Cooling Load              -8.625466e-01    8.957852e-01     0.014290   \n",
       "Overall Load              -8.674227e-01    8.979448e-01     0.005637   \n",
       "\n",
       "                           Glazing Area  Glazing Area Distribution  \\\n",
       "Relative Compactness       1.283986e-17               1.764620e-17   \n",
       "Surface Area               1.318356e-16              -3.558613e-16   \n",
       "Wall Area                 -7.969726e-19               0.000000e+00   \n",
       "Roof Area                 -1.381805e-16              -1.079129e-16   \n",
       "Overall Height             1.861418e-18               0.000000e+00   \n",
       "Orientation                0.000000e+00               0.000000e+00   \n",
       "Glazing Area               1.000000e+00               2.129642e-01   \n",
       "Glazing Area Distribution  2.129642e-01               1.000000e+00   \n",
       "Heating Load               2.698410e-01               8.736759e-02   \n",
       "Cooling Load               2.075050e-01               5.052512e-02   \n",
       "Overall Load               2.410480e-01               6.991125e-02   \n",
       "\n",
       "                           Heating Load  Cooling Load  Overall Load  \n",
       "Relative Compactness           0.622272      0.634339      0.631950  \n",
       "Surface Area                  -0.658120     -0.672999     -0.669389  \n",
       "Wall Area                      0.455671      0.427117      0.444502  \n",
       "Roof Area                     -0.861828     -0.862547     -0.867423  \n",
       "Overall Height                 0.889431      0.895785      0.897945  \n",
       "Orientation                   -0.002587      0.014290      0.005637  \n",
       "Glazing Area                   0.269841      0.207505      0.241048  \n",
       "Glazing Area Distribution      0.087368      0.050525      0.069911  \n",
       "Heating Load                   1.000000      0.975862      0.994299  \n",
       "Cooling Load                   0.975862      1.000000      0.993585  \n",
       "Overall Load                   0.994299      0.993585      1.000000  "
      ]
     },
     "execution_count": 11,
     "metadata": {},
     "output_type": "execute_result"
    }
   ],
   "source": [
    "data.corr()"
   ]
  },
  {
   "cell_type": "code",
   "execution_count": 12,
   "metadata": {},
   "outputs": [
    {
     "data": {
      "text/plain": [
       "<matplotlib.axes._subplots.AxesSubplot at 0x265c28b0a20>"
      ]
     },
     "execution_count": 12,
     "metadata": {},
     "output_type": "execute_result"
    },
    {
     "data": {
      "image/png": "[encoded data removed]",
      "text/plain": [
       "<matplotlib.figure.Figure at 0x265c28845f8>"
      ]
     },
     "metadata": {},
     "output_type": "display_data"
    }
   ],
   "source": [
    "sns.kdeplot(data)"
   ]
  },
  {
   "cell_type": "code",
   "execution_count": 13,
   "metadata": {},
   "outputs": [
    {
     "data": {
      "text/plain": [
       "<seaborn.axisgrid.PairGrid at 0x265c275fe48>"
      ]
     },
     "execution_count": 13,
     "metadata": {},
     "output_type": "execute_result"
    },
    {
     "data": {
      "image/png": "[encoded data removed]",
      "text/plain": [
       "<matplotlib.figure.Figure at 0x265c2769ba8>"
      ]
     },
     "metadata": {},
     "output_type": "display_data"
    }
   ],
   "source": [
    "sns.pairplot(data, kind=\"scatter\", diag_kind='kde')"
   ]
  },
  {
   "cell_type": "code",
   "execution_count": 14,
   "metadata": {},
   "outputs": [
    {
     "data": {
      "text/plain": [
       "<matplotlib.axes._subplots.AxesSubplot at 0x265c5ffcfd0>"
      ]
     },
     "execution_count": 14,
     "metadata": {},
     "output_type": "execute_result"
    },
    {
     "data": {
      "image/png": "[encoded data removed]",
      "text/plain": [
       "<matplotlib.figure.Figure at 0x265c5be6c18>"
      ]
     },
     "metadata": {},
     "output_type": "display_data"
    }
   ],
   "source": [
    "plt.subplots(figsize=(15,12))\n",
    "corr = data.corr()\n",
    "sns.heatmap(corr, annot=True,cmap=\"YlGnBu\")"
   ]
  },
  {
   "cell_type": "markdown",
   "metadata": {},
   "source": [
    "## Trend of overall load"
   ]
  },
  {
   "cell_type": "code",
   "execution_count": 15,
   "metadata": {},
   "outputs": [
    {
     "data": {
      "text/plain": [
       "<matplotlib.axes._subplots.AxesSubplot at 0x265c70bf400>"
      ]
     },
     "execution_count": 15,
     "metadata": {},
     "output_type": "execute_result"
    },
    {
     "data": {
      "image/png": "[encoded data removed]",
      "text/plain": [
       "<matplotlib.figure.Figure at 0x265c5ad17b8>"
      ]
     },
     "metadata": {},
     "output_type": "display_data"
    }
   ],
   "source": [
    "sns.distplot(data['Overall Load'])"
   ]
  },
  {
   "cell_type": "code",
   "execution_count": 16,
   "metadata": {},
   "outputs": [
    {
     "data": {
      "text/plain": [
       "{'boxes': [<matplotlib.lines.Line2D at 0x265c8156978>],\n",
       " 'caps': [<matplotlib.lines.Line2D at 0x265c815f4e0>,\n",
       "  <matplotlib.lines.Line2D at 0x265c815f940>],\n",
       " 'fliers': [<matplotlib.lines.Line2D at 0x265c8164240>],\n",
       " 'means': [],\n",
       " 'medians': [<matplotlib.lines.Line2D at 0x265c815fda0>],\n",
       " 'whiskers': [<matplotlib.lines.Line2D at 0x265c8156ba8>,\n",
       "  <matplotlib.lines.Line2D at 0x265c815f080>]}"
      ]
     },
     "execution_count": 16,
     "metadata": {},
     "output_type": "execute_result"
    },
    {
     "data": {
      "image/png": "[encoded data removed]",
      "text/plain": [
       "<matplotlib.figure.Figure at 0x265c810d828>"
      ]
     },
     "metadata": {},
     "output_type": "display_data"
    }
   ],
   "source": [
    "plt.boxplot(data['Overall Load'])"
   ]
  },
  {
   "cell_type": "code",
   "execution_count": 17,
   "metadata": {},
   "outputs": [
    {
     "data": {
      "text/plain": [
       "0.25    28.750\n",
       "0.50    40.970\n",
       "0.75    64.335\n",
       "Name: Overall Load, dtype: float64"
      ]
     },
     "execution_count": 17,
     "metadata": {},
     "output_type": "execute_result"
    }
   ],
   "source": [
    "data['Overall Load'].quantile([.25, .50, 0.75])"
   ]
  },
  {
   "cell_type": "markdown",
   "metadata": {},
   "source": [
    "## Adding column for classes for efficiency"
   ]
  },
  {
   "cell_type": "code",
   "execution_count": 18,
   "metadata": {},
   "outputs": [
    {
     "data": {
      "text/html": [
       "<div>\n",
       "<style scoped>\n",
       "    .dataframe tbody tr th:only-of-type {\n",
       "        vertical-align: middle;\n",
       "    }\n",
       "\n",
       "    .dataframe tbody tr th {\n",
       "        vertical-align: top;\n",
       "    }\n",
       "\n",
       "    .dataframe thead th {\n",
       "        text-align: right;\n",
       "    }\n",
       "</style>\n",
       "<table border=\"1\" class=\"dataframe\">\n",
       "  <thead>\n",
       "    <tr style=\"text-align: right;\">\n",
       "      <th></th>\n",
       "      <th>Relative Compactness</th>\n",
       "      <th>Surface Area</th>\n",
       "      <th>Wall Area</th>\n",
       "      <th>Roof Area</th>\n",
       "      <th>Overall Height</th>\n",
       "      <th>Orientation</th>\n",
       "      <th>Glazing Area</th>\n",
       "      <th>Glazing Area Distribution</th>\n",
       "      <th>Heating Load</th>\n",
       "      <th>Cooling Load</th>\n",
       "      <th>Overall Load</th>\n",
       "      <th>Efficiency</th>\n",
       "    </tr>\n",
       "  </thead>\n",
       "  <tbody>\n",
       "    <tr>\n",
       "      <th>0</th>\n",
       "      <td>0.98</td>\n",
       "      <td>514.5</td>\n",
       "      <td>294.0</td>\n",
       "      <td>110.25</td>\n",
       "      <td>7.0</td>\n",
       "      <td>2</td>\n",
       "      <td>0.0</td>\n",
       "      <td>0</td>\n",
       "      <td>15.55</td>\n",
       "      <td>21.33</td>\n",
       "      <td>36.88</td>\n",
       "      <td>Average</td>\n",
       "    </tr>\n",
       "    <tr>\n",
       "      <th>1</th>\n",
       "      <td>0.98</td>\n",
       "      <td>514.5</td>\n",
       "      <td>294.0</td>\n",
       "      <td>110.25</td>\n",
       "      <td>7.0</td>\n",
       "      <td>3</td>\n",
       "      <td>0.0</td>\n",
       "      <td>0</td>\n",
       "      <td>15.55</td>\n",
       "      <td>21.33</td>\n",
       "      <td>36.88</td>\n",
       "      <td>Average</td>\n",
       "    </tr>\n",
       "    <tr>\n",
       "      <th>2</th>\n",
       "      <td>0.98</td>\n",
       "      <td>514.5</td>\n",
       "      <td>294.0</td>\n",
       "      <td>110.25</td>\n",
       "      <td>7.0</td>\n",
       "      <td>4</td>\n",
       "      <td>0.0</td>\n",
       "      <td>0</td>\n",
       "      <td>15.55</td>\n",
       "      <td>21.33</td>\n",
       "      <td>36.88</td>\n",
       "      <td>Average</td>\n",
       "    </tr>\n",
       "    <tr>\n",
       "      <th>3</th>\n",
       "      <td>0.98</td>\n",
       "      <td>514.5</td>\n",
       "      <td>294.0</td>\n",
       "      <td>110.25</td>\n",
       "      <td>7.0</td>\n",
       "      <td>5</td>\n",
       "      <td>0.0</td>\n",
       "      <td>0</td>\n",
       "      <td>15.55</td>\n",
       "      <td>21.33</td>\n",
       "      <td>36.88</td>\n",
       "      <td>Average</td>\n",
       "    </tr>\n",
       "    <tr>\n",
       "      <th>4</th>\n",
       "      <td>0.90</td>\n",
       "      <td>563.5</td>\n",
       "      <td>318.5</td>\n",
       "      <td>122.50</td>\n",
       "      <td>7.0</td>\n",
       "      <td>2</td>\n",
       "      <td>0.0</td>\n",
       "      <td>0</td>\n",
       "      <td>20.84</td>\n",
       "      <td>28.28</td>\n",
       "      <td>49.12</td>\n",
       "      <td>Average</td>\n",
       "    </tr>\n",
       "  </tbody>\n",
       "</table>\n",
       "</div>"
      ],
      "text/plain": [
       "   Relative Compactness  Surface Area  Wall Area  Roof Area  Overall Height  \\\n",
       "0                  0.98         514.5      294.0     110.25             7.0   \n",
       "1                  0.98         514.5      294.0     110.25             7.0   \n",
       "2                  0.98         514.5      294.0     110.25             7.0   \n",
       "3                  0.98         514.5      294.0     110.25             7.0   \n",
       "4                  0.90         563.5      318.5     122.50             7.0   \n",
       "\n",
       "   Orientation  Glazing Area  Glazing Area Distribution  Heating Load  \\\n",
       "0            2           0.0                          0         15.55   \n",
       "1            3           0.0                          0         15.55   \n",
       "2            4           0.0                          0         15.55   \n",
       "3            5           0.0                          0         15.55   \n",
       "4            2           0.0                          0         20.84   \n",
       "\n",
       "   Cooling Load  Overall Load Efficiency  \n",
       "0         21.33         36.88    Average  \n",
       "1         21.33         36.88    Average  \n",
       "2         21.33         36.88    Average  \n",
       "3         21.33         36.88    Average  \n",
       "4         28.28         49.12    Average  "
      ]
     },
     "execution_count": 18,
     "metadata": {},
     "output_type": "execute_result"
    }
   ],
   "source": [
    "data['Efficiency'] = np.where(data['Overall Load']<29, 'Low', np.where(data['Overall Load']<64, 'Average', 'High'))\n",
    "data.head()"
   ]
  },
  {
   "cell_type": "code",
   "execution_count": 19,
   "metadata": {},
   "outputs": [
    {
     "data": {
      "text/plain": [
       "(768, 12)"
      ]
     },
     "execution_count": 19,
     "metadata": {},
     "output_type": "execute_result"
    }
   ],
   "source": [
    "data.shape"
   ]
  },
  {
   "cell_type": "code",
   "execution_count": 20,
   "metadata": {},
   "outputs": [
    {
     "data": {
      "text/plain": [
       "Average    368\n",
       "Low        207\n",
       "High       193\n",
       "Name: Efficiency, dtype: int64"
      ]
     },
     "execution_count": 20,
     "metadata": {},
     "output_type": "execute_result"
    }
   ],
   "source": [
    "data['Efficiency'].value_counts()"
   ]
  },
  {
   "cell_type": "code",
   "execution_count": 21,
   "metadata": {},
   "outputs": [
    {
     "data": {
      "text/plain": [
       "<matplotlib.axes._subplots.AxesSubplot at 0x265c819dc18>"
      ]
     },
     "execution_count": 21,
     "metadata": {},
     "output_type": "execute_result"
    },
    {
     "data": {
      "image/png": "[encoded data removed]",
      "text/plain": [
       "<matplotlib.figure.Figure at 0x265c2781a20>"
      ]
     },
     "metadata": {},
     "output_type": "display_data"
    }
   ],
   "source": [
    "sns.countplot(x='Efficiency', data=data, order=['Low','Average','High'])"
   ]
  },
  {
   "cell_type": "markdown",
   "metadata": {},
   "source": [
    "## <font color=red> Creating different datasets for different Y variables"
   ]
  },
  {
   "cell_type": "markdown",
   "metadata": {},
   "source": [
    "## Data set for heating load"
   ]
  },
  {
   "cell_type": "code",
   "execution_count": 22,
   "metadata": {},
   "outputs": [],
   "source": [
    "data_heat = data.drop(columns=['Cooling Load','Overall Load','Efficiency'])"
   ]
  },
  {
   "cell_type": "code",
   "execution_count": 23,
   "metadata": {},
   "outputs": [
    {
     "data": {
      "text/html": [
       "<div>\n",
       "<style scoped>\n",
       "    .dataframe tbody tr th:only-of-type {\n",
       "        vertical-align: middle;\n",
       "    }\n",
       "\n",
       "    .dataframe tbody tr th {\n",
       "        vertical-align: top;\n",
       "    }\n",
       "\n",
       "    .dataframe thead th {\n",
       "        text-align: right;\n",
       "    }\n",
       "</style>\n",
       "<table border=\"1\" class=\"dataframe\">\n",
       "  <thead>\n",
       "    <tr style=\"text-align: right;\">\n",
       "      <th></th>\n",
       "      <th>Relative Compactness</th>\n",
       "      <th>Surface Area</th>\n",
       "      <th>Wall Area</th>\n",
       "      <th>Roof Area</th>\n",
       "      <th>Overall Height</th>\n",
       "      <th>Orientation</th>\n",
       "      <th>Glazing Area</th>\n",
       "      <th>Glazing Area Distribution</th>\n",
       "      <th>Heating Load</th>\n",
       "    </tr>\n",
       "  </thead>\n",
       "  <tbody>\n",
       "    <tr>\n",
       "      <th>0</th>\n",
       "      <td>0.98</td>\n",
       "      <td>514.5</td>\n",
       "      <td>294.0</td>\n",
       "      <td>110.25</td>\n",
       "      <td>7.0</td>\n",
       "      <td>2</td>\n",
       "      <td>0.0</td>\n",
       "      <td>0</td>\n",
       "      <td>15.55</td>\n",
       "    </tr>\n",
       "    <tr>\n",
       "      <th>1</th>\n",
       "      <td>0.98</td>\n",
       "      <td>514.5</td>\n",
       "      <td>294.0</td>\n",
       "      <td>110.25</td>\n",
       "      <td>7.0</td>\n",
       "      <td>3</td>\n",
       "      <td>0.0</td>\n",
       "      <td>0</td>\n",
       "      <td>15.55</td>\n",
       "    </tr>\n",
       "    <tr>\n",
       "      <th>2</th>\n",
       "      <td>0.98</td>\n",
       "      <td>514.5</td>\n",
       "      <td>294.0</td>\n",
       "      <td>110.25</td>\n",
       "      <td>7.0</td>\n",
       "      <td>4</td>\n",
       "      <td>0.0</td>\n",
       "      <td>0</td>\n",
       "      <td>15.55</td>\n",
       "    </tr>\n",
       "    <tr>\n",
       "      <th>3</th>\n",
       "      <td>0.98</td>\n",
       "      <td>514.5</td>\n",
       "      <td>294.0</td>\n",
       "      <td>110.25</td>\n",
       "      <td>7.0</td>\n",
       "      <td>5</td>\n",
       "      <td>0.0</td>\n",
       "      <td>0</td>\n",
       "      <td>15.55</td>\n",
       "    </tr>\n",
       "    <tr>\n",
       "      <th>4</th>\n",
       "      <td>0.90</td>\n",
       "      <td>563.5</td>\n",
       "      <td>318.5</td>\n",
       "      <td>122.50</td>\n",
       "      <td>7.0</td>\n",
       "      <td>2</td>\n",
       "      <td>0.0</td>\n",
       "      <td>0</td>\n",
       "      <td>20.84</td>\n",
       "    </tr>\n",
       "  </tbody>\n",
       "</table>\n",
       "</div>"
      ],
      "text/plain": [
       "   Relative Compactness  Surface Area  Wall Area  Roof Area  Overall Height  \\\n",
       "0                  0.98         514.5      294.0     110.25             7.0   \n",
       "1                  0.98         514.5      294.0     110.25             7.0   \n",
       "2                  0.98         514.5      294.0     110.25             7.0   \n",
       "3                  0.98         514.5      294.0     110.25             7.0   \n",
       "4                  0.90         563.5      318.5     122.50             7.0   \n",
       "\n",
       "   Orientation  Glazing Area  Glazing Area Distribution  Heating Load  \n",
       "0            2           0.0                          0         15.55  \n",
       "1            3           0.0                          0         15.55  \n",
       "2            4           0.0                          0         15.55  \n",
       "3            5           0.0                          0         15.55  \n",
       "4            2           0.0                          0         20.84  "
      ]
     },
     "execution_count": 23,
     "metadata": {},
     "output_type": "execute_result"
    }
   ],
   "source": [
    "data_heat.head()"
   ]
  },
  {
   "cell_type": "code",
   "execution_count": 24,
   "metadata": {},
   "outputs": [
    {
     "data": {
      "text/plain": [
       "(768, 9)"
      ]
     },
     "execution_count": 24,
     "metadata": {},
     "output_type": "execute_result"
    }
   ],
   "source": [
    "data_heat.shape"
   ]
  },
  {
   "cell_type": "markdown",
   "metadata": {},
   "source": [
    "## Data set for cooling load"
   ]
  },
  {
   "cell_type": "code",
   "execution_count": 25,
   "metadata": {},
   "outputs": [
    {
     "data": {
      "text/html": [
       "<div>\n",
       "<style scoped>\n",
       "    .dataframe tbody tr th:only-of-type {\n",
       "        vertical-align: middle;\n",
       "    }\n",
       "\n",
       "    .dataframe tbody tr th {\n",
       "        vertical-align: top;\n",
       "    }\n",
       "\n",
       "    .dataframe thead th {\n",
       "        text-align: right;\n",
       "    }\n",
       "</style>\n",
       "<table border=\"1\" class=\"dataframe\">\n",
       "  <thead>\n",
       "    <tr style=\"text-align: right;\">\n",
       "      <th></th>\n",
       "      <th>Relative Compactness</th>\n",
       "      <th>Surface Area</th>\n",
       "      <th>Wall Area</th>\n",
       "      <th>Roof Area</th>\n",
       "      <th>Overall Height</th>\n",
       "      <th>Orientation</th>\n",
       "      <th>Glazing Area</th>\n",
       "      <th>Glazing Area Distribution</th>\n",
       "      <th>Cooling Load</th>\n",
       "    </tr>\n",
       "  </thead>\n",
       "  <tbody>\n",
       "    <tr>\n",
       "      <th>0</th>\n",
       "      <td>0.98</td>\n",
       "      <td>514.5</td>\n",
       "      <td>294.0</td>\n",
       "      <td>110.25</td>\n",
       "      <td>7.0</td>\n",
       "      <td>2</td>\n",
       "      <td>0.0</td>\n",
       "      <td>0</td>\n",
       "      <td>21.33</td>\n",
       "    </tr>\n",
       "    <tr>\n",
       "      <th>1</th>\n",
       "      <td>0.98</td>\n",
       "      <td>514.5</td>\n",
       "      <td>294.0</td>\n",
       "      <td>110.25</td>\n",
       "      <td>7.0</td>\n",
       "      <td>3</td>\n",
       "      <td>0.0</td>\n",
       "      <td>0</td>\n",
       "      <td>21.33</td>\n",
       "    </tr>\n",
       "    <tr>\n",
       "      <th>2</th>\n",
       "      <td>0.98</td>\n",
       "      <td>514.5</td>\n",
       "      <td>294.0</td>\n",
       "      <td>110.25</td>\n",
       "      <td>7.0</td>\n",
       "      <td>4</td>\n",
       "      <td>0.0</td>\n",
       "      <td>0</td>\n",
       "      <td>21.33</td>\n",
       "    </tr>\n",
       "    <tr>\n",
       "      <th>3</th>\n",
       "      <td>0.98</td>\n",
       "      <td>514.5</td>\n",
       "      <td>294.0</td>\n",
       "      <td>110.25</td>\n",
       "      <td>7.0</td>\n",
       "      <td>5</td>\n",
       "      <td>0.0</td>\n",
       "      <td>0</td>\n",
       "      <td>21.33</td>\n",
       "    </tr>\n",
       "    <tr>\n",
       "      <th>4</th>\n",
       "      <td>0.90</td>\n",
       "      <td>563.5</td>\n",
       "      <td>318.5</td>\n",
       "      <td>122.50</td>\n",
       "      <td>7.0</td>\n",
       "      <td>2</td>\n",
       "      <td>0.0</td>\n",
       "      <td>0</td>\n",
       "      <td>28.28</td>\n",
       "    </tr>\n",
       "  </tbody>\n",
       "</table>\n",
       "</div>"
      ],
      "text/plain": [
       "   Relative Compactness  Surface Area  Wall Area  Roof Area  Overall Height  \\\n",
       "0                  0.98         514.5      294.0     110.25             7.0   \n",
       "1                  0.98         514.5      294.0     110.25             7.0   \n",
       "2                  0.98         514.5      294.0     110.25             7.0   \n",
       "3                  0.98         514.5      294.0     110.25             7.0   \n",
       "4                  0.90         563.5      318.5     122.50             7.0   \n",
       "\n",
       "   Orientation  Glazing Area  Glazing Area Distribution  Cooling Load  \n",
       "0            2           0.0                          0         21.33  \n",
       "1            3           0.0                          0         21.33  \n",
       "2            4           0.0                          0         21.33  \n",
       "3            5           0.0                          0         21.33  \n",
       "4            2           0.0                          0         28.28  "
      ]
     },
     "execution_count": 25,
     "metadata": {},
     "output_type": "execute_result"
    }
   ],
   "source": [
    "data_cool = data.drop(columns=['Heating Load','Overall Load','Efficiency'])\n",
    "data_cool.head()"
   ]
  },
  {
   "cell_type": "code",
   "execution_count": 26,
   "metadata": {},
   "outputs": [
    {
     "data": {
      "text/plain": [
       "(768, 9)"
      ]
     },
     "execution_count": 26,
     "metadata": {},
     "output_type": "execute_result"
    }
   ],
   "source": [
    "data_cool.shape"
   ]
  },
  {
   "cell_type": "markdown",
   "metadata": {},
   "source": [
    "## Data set for efficiency classification"
   ]
  },
  {
   "cell_type": "code",
   "execution_count": 27,
   "metadata": {},
   "outputs": [
    {
     "data": {
      "text/html": [
       "<div>\n",
       "<style scoped>\n",
       "    .dataframe tbody tr th:only-of-type {\n",
       "        vertical-align: middle;\n",
       "    }\n",
       "\n",
       "    .dataframe tbody tr th {\n",
       "        vertical-align: top;\n",
       "    }\n",
       "\n",
       "    .dataframe thead th {\n",
       "        text-align: right;\n",
       "    }\n",
       "</style>\n",
       "<table border=\"1\" class=\"dataframe\">\n",
       "  <thead>\n",
       "    <tr style=\"text-align: right;\">\n",
       "      <th></th>\n",
       "      <th>Relative Compactness</th>\n",
       "      <th>Surface Area</th>\n",
       "      <th>Wall Area</th>\n",
       "      <th>Roof Area</th>\n",
       "      <th>Overall Height</th>\n",
       "      <th>Orientation</th>\n",
       "      <th>Glazing Area</th>\n",
       "      <th>Glazing Area Distribution</th>\n",
       "      <th>Efficiency</th>\n",
       "    </tr>\n",
       "  </thead>\n",
       "  <tbody>\n",
       "    <tr>\n",
       "      <th>0</th>\n",
       "      <td>0.98</td>\n",
       "      <td>514.5</td>\n",
       "      <td>294.0</td>\n",
       "      <td>110.25</td>\n",
       "      <td>7.0</td>\n",
       "      <td>2</td>\n",
       "      <td>0.0</td>\n",
       "      <td>0</td>\n",
       "      <td>Average</td>\n",
       "    </tr>\n",
       "    <tr>\n",
       "      <th>1</th>\n",
       "      <td>0.98</td>\n",
       "      <td>514.5</td>\n",
       "      <td>294.0</td>\n",
       "      <td>110.25</td>\n",
       "      <td>7.0</td>\n",
       "      <td>3</td>\n",
       "      <td>0.0</td>\n",
       "      <td>0</td>\n",
       "      <td>Average</td>\n",
       "    </tr>\n",
       "    <tr>\n",
       "      <th>2</th>\n",
       "      <td>0.98</td>\n",
       "      <td>514.5</td>\n",
       "      <td>294.0</td>\n",
       "      <td>110.25</td>\n",
       "      <td>7.0</td>\n",
       "      <td>4</td>\n",
       "      <td>0.0</td>\n",
       "      <td>0</td>\n",
       "      <td>Average</td>\n",
       "    </tr>\n",
       "    <tr>\n",
       "      <th>3</th>\n",
       "      <td>0.98</td>\n",
       "      <td>514.5</td>\n",
       "      <td>294.0</td>\n",
       "      <td>110.25</td>\n",
       "      <td>7.0</td>\n",
       "      <td>5</td>\n",
       "      <td>0.0</td>\n",
       "      <td>0</td>\n",
       "      <td>Average</td>\n",
       "    </tr>\n",
       "    <tr>\n",
       "      <th>4</th>\n",
       "      <td>0.90</td>\n",
       "      <td>563.5</td>\n",
       "      <td>318.5</td>\n",
       "      <td>122.50</td>\n",
       "      <td>7.0</td>\n",
       "      <td>2</td>\n",
       "      <td>0.0</td>\n",
       "      <td>0</td>\n",
       "      <td>Average</td>\n",
       "    </tr>\n",
       "  </tbody>\n",
       "</table>\n",
       "</div>"
      ],
      "text/plain": [
       "   Relative Compactness  Surface Area  Wall Area  Roof Area  Overall Height  \\\n",
       "0                  0.98         514.5      294.0     110.25             7.0   \n",
       "1                  0.98         514.5      294.0     110.25             7.0   \n",
       "2                  0.98         514.5      294.0     110.25             7.0   \n",
       "3                  0.98         514.5      294.0     110.25             7.0   \n",
       "4                  0.90         563.5      318.5     122.50             7.0   \n",
       "\n",
       "   Orientation  Glazing Area  Glazing Area Distribution Efficiency  \n",
       "0            2           0.0                          0    Average  \n",
       "1            3           0.0                          0    Average  \n",
       "2            4           0.0                          0    Average  \n",
       "3            5           0.0                          0    Average  \n",
       "4            2           0.0                          0    Average  "
      ]
     },
     "execution_count": 27,
     "metadata": {},
     "output_type": "execute_result"
    }
   ],
   "source": [
    "data_eff = data.drop(columns=['Cooling Load','Heating Load','Overall Load'])\n",
    "data_eff.head()"
   ]
  },
  {
   "cell_type": "markdown",
   "metadata": {},
   "source": [
    "## <font color=red> Models for predicting heating load"
   ]
  },
  {
   "cell_type": "markdown",
   "metadata": {},
   "source": [
    "## Data preprocessing"
   ]
  },
  {
   "cell_type": "code",
   "execution_count": 28,
   "metadata": {},
   "outputs": [],
   "source": [
    "X = data_heat.drop(columns=['Heating Load'])\n",
    "y= data_heat['Heating Load']"
   ]
  },
  {
   "cell_type": "code",
   "execution_count": 29,
   "metadata": {},
   "outputs": [
    {
     "data": {
      "text/plain": [
       "0    15.55\n",
       "1    15.55\n",
       "2    15.55\n",
       "3    15.55\n",
       "4    20.84\n",
       "Name: Heating Load, dtype: float64"
      ]
     },
     "execution_count": 29,
     "metadata": {},
     "output_type": "execute_result"
    }
   ],
   "source": [
    "y.head()"
   ]
  },
  {
   "cell_type": "code",
   "execution_count": 30,
   "metadata": {},
   "outputs": [],
   "source": [
    "X_train_org, X_test_org, y_train, y_test = train_test_split(X, y, test_size=0.25, random_state=42)\n",
    "\n",
    "scaler = MinMaxScaler()\n",
    "X_train = scaler.fit_transform(X_train_org)\n",
    "X_test = scaler.transform(X_test_org)"
   ]
  },
  {
   "cell_type": "markdown",
   "metadata": {},
   "source": [
    "## Neural Network Regressor"
   ]
  },
  {
   "cell_type": "markdown",
   "metadata": {},
   "source": [
    "### Grid Search to find the Best Parameters for Nueral Network"
   ]
  },
  {
   "cell_type": "code",
   "execution_count": 31,
   "metadata": {},
   "outputs": [],
   "source": [
    "# ## Neural Network Regressor with Parameter tuning\n",
    "# from keras.wrappers.scikit_learn import KerasRegressor\n",
    "# from sklearn.model_selection import GridSearchCV\n",
    "\n",
    "# Build the neural network regressor function to be used in the keras-sklearn wrapper\n",
    "# def build_reg(optimizer):\n",
    "#    nn_reg = Sequential()\n",
    "#    nn_reg.add(Dense(5, input_dim=8, kernel_initializer='uniform', activation='relu'))\n",
    "#    nn_reg.add(Dense(5, kernel_initializer='uniform', activation='relu'))\n",
    "#    nn_reg.add(Dense(1, activation='linear'))\n",
    "    \n",
    "#    nn_reg.compile(optimizer=optimizer, loss='mse', metrics=['mse'])\n",
    "#    return nn_reg\n",
    "\n",
    "#    nn_reg = KerasRegressor(build_fn=build_reg)\n",
    "\n",
    "# param_grid = {'batch_size': [10,16,25],\n",
    "#          'epochs': [50,75, 100],\n",
    "#          'optimizer': ['rmsprop','adam']}\n",
    "\n",
    "# nn_reg_grid_heat = GridSearchCV(estimator=nn_reg, param_grid=param_grid, scoring='r2', cv=8)\n",
    "\n",
    "# nn_reg_grid_heat.fit(X_train, y_train)"
   ]
  },
  {
   "cell_type": "markdown",
   "metadata": {},
   "source": [
    "### Best Parameters : - Batch Size= 10 , Epochs= 100, Optimizer= 'rmsprop'"
   ]
  },
  {
   "cell_type": "code",
   "execution_count": 32,
   "metadata": {},
   "outputs": [
    {
     "name": "stderr",
     "output_type": "stream",
     "text": [
      "Using TensorFlow backend.\n"
     ]
    },
    {
     "name": "stdout",
     "output_type": "stream",
     "text": [
      "Epoch 1/100\n",
      "576/576 [==============================] - 0s 320us/step - loss: 583.2290 - mean_squared_error: 583.2290\n",
      "Epoch 2/100\n",
      "576/576 [==============================] - 0s 101us/step - loss: 569.2464 - mean_squared_error: 569.2464\n",
      "Epoch 3/100\n",
      "576/576 [==============================] - 0s 75us/step - loss: 548.4313 - mean_squared_error: 548.4313\n",
      "Epoch 4/100\n",
      "576/576 [==============================] - 0s 77us/step - loss: 520.7321 - mean_squared_error: 520.7321\n",
      "Epoch 5/100\n",
      "576/576 [==============================] - 0s 80us/step - loss: 486.1497 - mean_squared_error: 486.1497\n",
      "Epoch 6/100\n",
      "576/576 [==============================] - 0s 125us/step - loss: 443.9482 - mean_squared_error: 443.9482\n",
      "Epoch 7/100\n",
      "576/576 [==============================] - 0s 75us/step - loss: 396.1820 - mean_squared_error: 396.1820\n",
      "Epoch 8/100\n",
      "576/576 [==============================] - 0s 75us/step - loss: 343.3350 - mean_squared_error: 343.3350\n",
      "Epoch 9/100\n",
      "576/576 [==============================] - 0s 96us/step - loss: 287.6840 - mean_squared_error: 287.6840\n",
      "Epoch 10/100\n",
      "576/576 [==============================] - 0s 89us/step - loss: 231.8305 - mean_squared_error: 231.8305\n",
      "Epoch 11/100\n",
      "576/576 [==============================] - 0s 78us/step - loss: 179.4898 - mean_squared_error: 179.4898\n",
      "Epoch 12/100\n",
      "576/576 [==============================] - 0s 82us/step - loss: 134.8892 - mean_squared_error: 134.8892\n",
      "Epoch 13/100\n",
      "576/576 [==============================] - 0s 113us/step - loss: 102.3805 - mean_squared_error: 102.3805\n",
      "Epoch 14/100\n",
      "576/576 [==============================] - 0s 77us/step - loss: 82.9976 - mean_squared_error: 82.9976\n",
      "Epoch 15/100\n",
      "576/576 [==============================] - 0s 78us/step - loss: 72.5155 - mean_squared_error: 72.5155\n",
      "Epoch 16/100\n",
      "576/576 [==============================] - 0s 113us/step - loss: 66.2587 - mean_squared_error: 66.2587\n",
      "Epoch 17/100\n",
      "576/576 [==============================] - 0s 82us/step - loss: 60.8447 - mean_squared_error: 60.8447\n",
      "Epoch 18/100\n",
      "576/576 [==============================] - 0s 78us/step - loss: 55.7768 - mean_squared_error: 55.7768\n",
      "Epoch 19/100\n",
      "576/576 [==============================] - 0s 89us/step - loss: 50.9943 - mean_squared_error: 50.9943\n",
      "Epoch 20/100\n",
      "576/576 [==============================] - 0s 99us/step - loss: 46.2342 - mean_squared_error: 46.2342\n",
      "Epoch 21/100\n",
      "576/576 [==============================] - 0s 75us/step - loss: 41.7975 - mean_squared_error: 41.7975\n",
      "Epoch 22/100\n",
      "576/576 [==============================] - 0s 75us/step - loss: 37.4407 - mean_squared_error: 37.4407\n",
      "Epoch 23/100\n",
      "576/576 [==============================] - 0s 110us/step - loss: 33.5123 - mean_squared_error: 33.5123\n",
      "Epoch 24/100\n",
      "576/576 [==============================] - 0s 78us/step - loss: 29.9607 - mean_squared_error: 29.9607\n",
      "Epoch 25/100\n",
      "576/576 [==============================] - 0s 78us/step - loss: 26.6720 - mean_squared_error: 26.6720\n",
      "Epoch 26/100\n",
      "576/576 [==============================] - 0s 89us/step - loss: 23.7924 - mean_squared_error: 23.7924\n",
      "Epoch 27/100\n",
      "576/576 [==============================] - 0s 104us/step - loss: 21.3422 - mean_squared_error: 21.3422\n",
      "Epoch 28/100\n",
      "576/576 [==============================] - 0s 78us/step - loss: 19.3277 - mean_squared_error: 19.3277\n",
      "Epoch 29/100\n",
      "576/576 [==============================] - 0s 75us/step - loss: 17.7583 - mean_squared_error: 17.7583\n",
      "Epoch 30/100\n",
      "576/576 [==============================] - 0s 103us/step - loss: 16.4063 - mean_squared_error: 16.4063\n",
      "Epoch 31/100\n",
      "576/576 [==============================] - 0s 82us/step - loss: 15.3527 - mean_squared_error: 15.3527\n",
      "Epoch 32/100\n",
      "576/576 [==============================] - 0s 75us/step - loss: 14.5945 - mean_squared_error: 14.5945\n",
      "Epoch 33/100\n",
      "576/576 [==============================] - 0s 85us/step - loss: 13.9579 - mean_squared_error: 13.9579\n",
      "Epoch 34/100\n",
      "576/576 [==============================] - 0s 101us/step - loss: 13.4377 - mean_squared_error: 13.4377\n",
      "Epoch 35/100\n",
      "576/576 [==============================] - 0s 78us/step - loss: 13.1486 - mean_squared_error: 13.1486\n",
      "Epoch 36/100\n",
      "576/576 [==============================] - 0s 80us/step - loss: 12.8386 - mean_squared_error: 12.8386\n",
      "Epoch 37/100\n",
      "576/576 [==============================] - 0s 87us/step - loss: 12.5067 - mean_squared_error: 12.5067\n",
      "Epoch 38/100\n",
      "576/576 [==============================] - 0s 91us/step - loss: 12.2773 - mean_squared_error: 12.2773\n",
      "Epoch 39/100\n",
      "576/576 [==============================] - 0s 75us/step - loss: 12.0319 - mean_squared_error: 12.0319\n",
      "Epoch 40/100\n",
      "576/576 [==============================] - 0s 77us/step - loss: 11.8645 - mean_squared_error: 11.8645\n",
      "Epoch 41/100\n",
      "576/576 [==============================] - 0s 108us/step - loss: 11.6618 - mean_squared_error: 11.6618\n",
      "Epoch 42/100\n",
      "576/576 [==============================] - 0s 77us/step - loss: 11.5017 - mean_squared_error: 11.5017\n",
      "Epoch 43/100\n",
      "576/576 [==============================] - 0s 77us/step - loss: 11.3351 - mean_squared_error: 11.3351\n",
      "Epoch 44/100\n",
      "576/576 [==============================] - 0s 78us/step - loss: 11.2275 - mean_squared_error: 11.2275\n",
      "Epoch 45/100\n",
      "576/576 [==============================] - 0s 104us/step - loss: 11.0585 - mean_squared_error: 11.0585\n",
      "Epoch 46/100\n",
      "576/576 [==============================] - 0s 78us/step - loss: 10.9803 - mean_squared_error: 10.9803\n",
      "Epoch 47/100\n",
      "576/576 [==============================] - 0s 75us/step - loss: 10.8787 - mean_squared_error: 10.8787\n",
      "Epoch 48/100\n",
      "576/576 [==============================] - 0s 84us/step - loss: 10.7817 - mean_squared_error: 10.7817\n",
      "Epoch 49/100\n",
      "576/576 [==============================] - 0s 94us/step - loss: 10.7019 - mean_squared_error: 10.7019\n",
      "Epoch 50/100\n",
      "576/576 [==============================] - 0s 77us/step - loss: 10.6344 - mean_squared_error: 10.6344\n",
      "Epoch 51/100\n",
      "576/576 [==============================] - 0s 73us/step - loss: 10.5524 - mean_squared_error: 10.5524\n",
      "Epoch 52/100\n",
      "576/576 [==============================] - 0s 110us/step - loss: 10.5062 - mean_squared_error: 10.5062\n",
      "Epoch 53/100\n",
      "576/576 [==============================] - 0s 84us/step - loss: 10.4439 - mean_squared_error: 10.4439\n",
      "Epoch 54/100\n",
      "576/576 [==============================] - 0s 75us/step - loss: 10.3853 - mean_squared_error: 10.3853\n",
      "Epoch 55/100\n",
      "576/576 [==============================] - 0s 80us/step - loss: 10.3237 - mean_squared_error: 10.3237\n",
      "Epoch 56/100\n",
      "576/576 [==============================] - 0s 111us/step - loss: 10.3021 - mean_squared_error: 10.3021\n",
      "Epoch 57/100\n",
      "576/576 [==============================] - 0s 75us/step - loss: 10.2687 - mean_squared_error: 10.2687\n",
      "Epoch 58/100\n",
      "576/576 [==============================] - 0s 77us/step - loss: 10.2359 - mean_squared_error: 10.2359\n",
      "Epoch 59/100\n",
      "576/576 [==============================] - 0s 75us/step - loss: 10.1758 - mean_squared_error: 10.1758\n",
      "Epoch 60/100\n",
      "576/576 [==============================] - 0s 110us/step - loss: 10.1690 - mean_squared_error: 10.1690\n",
      "Epoch 61/100\n",
      "576/576 [==============================] - 0s 80us/step - loss: 10.1015 - mean_squared_error: 10.1015\n",
      "Epoch 62/100\n",
      "576/576 [==============================] - 0s 78us/step - loss: 10.1174 - mean_squared_error: 10.1174\n",
      "Epoch 63/100\n",
      "576/576 [==============================] - 0s 77us/step - loss: 10.1133 - mean_squared_error: 10.1133\n",
      "Epoch 64/100\n",
      "576/576 [==============================] - 0s 80us/step - loss: 10.0977 - mean_squared_error: 10.0977\n",
      "Epoch 65/100\n",
      "576/576 [==============================] - 0s 97us/step - loss: 10.0618 - mean_squared_error: 10.0618\n",
      "Epoch 66/100\n",
      "576/576 [==============================] - 0s 96us/step - loss: 10.0291 - mean_squared_error: 10.0291\n",
      "Epoch 67/100\n",
      "576/576 [==============================] - 0s 87us/step - loss: 10.0109 - mean_squared_error: 10.0109\n",
      "Epoch 68/100\n",
      "576/576 [==============================] - 0s 103us/step - loss: 9.9725 - mean_squared_error: 9.9725\n",
      "Epoch 69/100\n",
      "576/576 [==============================] - 0s 80us/step - loss: 9.9507 - mean_squared_error: 9.9507\n",
      "Epoch 70/100\n",
      "576/576 [==============================] - 0s 99us/step - loss: 9.9651 - mean_squared_error: 9.9651\n",
      "Epoch 71/100\n",
      "576/576 [==============================] - 0s 77us/step - loss: 9.9519 - mean_squared_error: 9.9519\n",
      "Epoch 72/100\n"
     ]
    },
    {
     "name": "stdout",
     "output_type": "stream",
     "text": [
      "576/576 [==============================] - 0s 110us/step - loss: 9.9271 - mean_squared_error: 9.9271\n",
      "Epoch 73/100\n",
      "576/576 [==============================] - 0s 77us/step - loss: 9.8658 - mean_squared_error: 9.8658\n",
      "Epoch 74/100\n",
      "576/576 [==============================] - 0s 84us/step - loss: 9.8840 - mean_squared_error: 9.8840\n",
      "Epoch 75/100\n",
      "576/576 [==============================] - 0s 101us/step - loss: 9.8931 - mean_squared_error: 9.8931\n",
      "Epoch 76/100\n",
      "576/576 [==============================] - 0s 96us/step - loss: 9.8705 - mean_squared_error: 9.8705\n",
      "Epoch 77/100\n",
      "576/576 [==============================] - 0s 94us/step - loss: 9.8389 - mean_squared_error: 9.8389\n",
      "Epoch 78/100\n",
      "576/576 [==============================] - 0s 108us/step - loss: 9.8638 - mean_squared_error: 9.8638\n",
      "Epoch 79/100\n",
      "576/576 [==============================] - 0s 85us/step - loss: 9.8493 - mean_squared_error: 9.8493\n",
      "Epoch 80/100\n",
      "576/576 [==============================] - 0s 101us/step - loss: 9.8535 - mean_squared_error: 9.8535\n",
      "Epoch 81/100\n",
      "576/576 [==============================] - 0s 104us/step - loss: 9.8277 - mean_squared_error: 9.8277\n",
      "Epoch 82/100\n",
      "576/576 [==============================] - 0s 110us/step - loss: 9.7627 - mean_squared_error: 9.7627\n",
      "Epoch 83/100\n",
      "576/576 [==============================] - 0s 103us/step - loss: 9.8250 - mean_squared_error: 9.8250\n",
      "Epoch 84/100\n",
      "576/576 [==============================] - 0s 85us/step - loss: 9.7813 - mean_squared_error: 9.7813\n",
      "Epoch 85/100\n",
      "576/576 [==============================] - 0s 101us/step - loss: 9.7843 - mean_squared_error: 9.7843\n",
      "Epoch 86/100\n",
      "576/576 [==============================] - 0s 91us/step - loss: 9.7734 - mean_squared_error: 9.7734\n",
      "Epoch 87/100\n",
      "576/576 [==============================] - 0s 89us/step - loss: 9.7582 - mean_squared_error: 9.7582\n",
      "Epoch 88/100\n",
      "576/576 [==============================] - 0s 99us/step - loss: 9.7328 - mean_squared_error: 9.7328\n",
      "Epoch 89/100\n",
      "576/576 [==============================] - 0s 96us/step - loss: 9.7401 - mean_squared_error: 9.7401\n",
      "Epoch 90/100\n",
      "576/576 [==============================] - 0s 101us/step - loss: 9.7482 - mean_squared_error: 9.7482\n",
      "Epoch 91/100\n",
      "576/576 [==============================] - 0s 96us/step - loss: 9.7322 - mean_squared_error: 9.7322\n",
      "Epoch 92/100\n",
      "576/576 [==============================] - 0s 104us/step - loss: 9.7077 - mean_squared_error: 9.7077\n",
      "Epoch 93/100\n",
      "576/576 [==============================] - 0s 113us/step - loss: 9.7014 - mean_squared_error: 9.7014\n",
      "Epoch 94/100\n",
      "576/576 [==============================] - 0s 82us/step - loss: 9.7231 - mean_squared_error: 9.7231\n",
      "Epoch 95/100\n",
      "576/576 [==============================] - 0s 103us/step - loss: 9.6901 - mean_squared_error: 9.6901\n",
      "Epoch 96/100\n",
      "576/576 [==============================] - 0s 110us/step - loss: 9.6856 - mean_squared_error: 9.6856\n",
      "Epoch 97/100\n",
      "576/576 [==============================] - 0s 94us/step - loss: 9.6307 - mean_squared_error: 9.6307\n",
      "Epoch 98/100\n",
      "576/576 [==============================] - 0s 84us/step - loss: 9.6993 - mean_squared_error: 9.6993\n",
      "Epoch 99/100\n",
      "576/576 [==============================] - 0s 99us/step - loss: 9.6942 - mean_squared_error: 9.6942\n",
      "Epoch 100/100\n",
      "576/576 [==============================] - 0s 106us/step - loss: 9.6652 - mean_squared_error: 9.6652\n"
     ]
    },
    {
     "data": {
      "text/plain": [
       "<keras.callbacks.History at 0x265cad90240>"
      ]
     },
     "execution_count": 32,
     "metadata": {},
     "output_type": "execute_result"
    }
   ],
   "source": [
    "from keras.models import Sequential\n",
    "from keras.layers import Dense\n",
    "\n",
    "nn_reg = Sequential()\n",
    "nn_reg.add(Dense(5, input_dim=8, kernel_initializer='uniform', activation='relu'))\n",
    "nn_reg.add(Dense(5, kernel_initializer='uniform', activation='relu'))\n",
    "nn_reg.add(Dense(1, activation='linear'))\n",
    "\n",
    "nn_reg.compile(optimizer='rmsprop', loss='mse', metrics=['mse'])\n",
    "\n",
    "nn_reg.fit(X_train, y_train, batch_size=10, epochs=100)"
   ]
  },
  {
   "cell_type": "code",
   "execution_count": 33,
   "metadata": {},
   "outputs": [
    {
     "name": "stdout",
     "output_type": "stream",
     "text": [
      "Train r2: 0.90\n",
      "Test r2: 0.90\n"
     ]
    }
   ],
   "source": [
    "from sklearn.metrics import r2_score\n",
    "\n",
    "y_train_predict = nn_reg.predict(X_train)\n",
    "y_test_predict = nn_reg.predict(X_test)\n",
    "\n",
    "print('Train r2: {:.2f}'.format(r2_score(y_train, y_train_predict)))\n",
    "print('Test r2: {:.2f}'.format(r2_score(y_test, y_test_predict)))"
   ]
  },
  {
   "cell_type": "markdown",
   "metadata": {},
   "source": [
    "## Linear Regression"
   ]
  },
  {
   "cell_type": "code",
   "execution_count": 34,
   "metadata": {},
   "outputs": [
    {
     "name": "stdout",
     "output_type": "stream",
     "text": [
      "Accuracy of Linear Regression on training set: 0.92\n",
      "Accuracy of Linear Regression on test set: 0.91\n"
     ]
    }
   ],
   "source": [
    "from sklearn.linear_model import LinearRegression\n",
    "lr = LinearRegression().fit(X_train, y_train)\n",
    "y_predict = lr.predict(X_train)\n",
    "print('Accuracy of Linear Regression on training set: {:.2f}'\n",
    "     .format(lr.score(X_train, y_train)))\n",
    "print('Accuracy of Linear Regression on test set: {:.2f}'\n",
    "     .format(lr.score(X_test, y_test)))"
   ]
  },
  {
   "cell_type": "code",
   "execution_count": 35,
   "metadata": {},
   "outputs": [
    {
     "name": "stdout",
     "output_type": "stream",
     "text": [
      "lr.coef_: [ -2.57105104e+01   1.16973473e+15  -6.82345261e+14  -8.77301049e+14\n",
      "   1.36250000e+01  -1.03515625e-01   8.11987305e+00   1.11669922e+00]\n",
      "lr.intercept_: 194955788777037.97\n"
     ]
    }
   ],
   "source": [
    "print(\"lr.coef_: {}\".format(lr.coef_))\n",
    "\n",
    "print(\"lr.intercept_: {}\".format(lr.intercept_))"
   ]
  },
  {
   "cell_type": "markdown",
   "metadata": {},
   "source": [
    "## KNN Regressor"
   ]
  },
  {
   "cell_type": "code",
   "execution_count": 36,
   "metadata": {},
   "outputs": [
    {
     "data": {
      "text/plain": [
       "{'n_neighbors': 8}"
      ]
     },
     "execution_count": 36,
     "metadata": {},
     "output_type": "execute_result"
    }
   ],
   "source": [
    "from sklearn.neighbors import KNeighborsRegressor\n",
    "from sklearn.model_selection import GridSearchCV\n",
    "param_grid = {'n_neighbors': [2,4,6,8,10,12]}\n",
    "knn = KNeighborsRegressor()\n",
    "grid_search = GridSearchCV(knn,param_grid,cv=5)\n",
    "grid_search.fit(X_train, y_train)\n",
    "grid_search.best_params_"
   ]
  },
  {
   "cell_type": "code",
   "execution_count": 37,
   "metadata": {},
   "outputs": [
    {
     "name": "stdout",
     "output_type": "stream",
     "text": [
      "Accuracy of Knn Regressor on training set: 0.94\n",
      "Accuracy of Knn Regressor on test set: 0.92\n"
     ]
    }
   ],
   "source": [
    "knn = KNeighborsRegressor(n_neighbors=8).fit(X_train, y_train)\n",
    "print('Accuracy of Knn Regressor on training set: {:.2f}'\n",
    "     .format(knn.score(X_train, y_train)))\n",
    "print('Accuracy of Knn Regressor on test set: {:.2f}'\n",
    "     .format(knn.score(X_test, y_test)))"
   ]
  },
  {
   "cell_type": "markdown",
   "metadata": {},
   "source": [
    "## Ridge"
   ]
  },
  {
   "cell_type": "code",
   "execution_count": 38,
   "metadata": {},
   "outputs": [
    {
     "name": "stdout",
     "output_type": "stream",
     "text": [
      "Best parameters: {'alpha': 0.01}\n"
     ]
    }
   ],
   "source": [
    "from sklearn.linear_model import Ridge\n",
    "ridge = Ridge().fit(X_train,y_train)\n",
    "param_grid = {'alpha':[0.01, 1, 5, 10, 100]}\n",
    "grid_search = GridSearchCV(ridge, param_grid, cv = 5)\n",
    "grid_search.fit(X_train, y_train)\n",
    "print('Best parameters: {}'.format(grid_search.best_params_))"
   ]
  },
  {
   "cell_type": "code",
   "execution_count": 39,
   "metadata": {},
   "outputs": [
    {
     "name": "stdout",
     "output_type": "stream",
     "text": [
      "Accuracy of Ridge Regressor on training set: 0.92\n",
      "Accuracy of Ridge Regressor on test set: 0.91\n"
     ]
    }
   ],
   "source": [
    "ridge = Ridge(alpha=0.01).fit(X_train, y_train)\n",
    "print('Accuracy of Ridge Regressor on training set: {:.2f}'\n",
    "     .format(ridge.score(X_train, y_train)))\n",
    "print('Accuracy of Ridge Regressor on test set: {:.2f}'\n",
    "     .format(ridge.score(X_test, y_test)))"
   ]
  },
  {
   "cell_type": "markdown",
   "metadata": {},
   "source": [
    "## Lasso"
   ]
  },
  {
   "cell_type": "code",
   "execution_count": 40,
   "metadata": {},
   "outputs": [
    {
     "name": "stdout",
     "output_type": "stream",
     "text": [
      "Best parameters: {'alpha': 0.01}\n"
     ]
    }
   ],
   "source": [
    "from sklearn.linear_model import Lasso\n",
    "lasso = Lasso(max_iter = 10000).fit(X_train,y_train)\n",
    "param_grid = {'alpha':[0.01, 1, 5, 10, 100]}\n",
    "grid_search = GridSearchCV(lasso, param_grid, cv = 5)\n",
    "grid_search.fit(X_train, y_train)\n",
    "print('Best parameters: {}'.format(grid_search.best_params_))"
   ]
  },
  {
   "cell_type": "code",
   "execution_count": 41,
   "metadata": {},
   "outputs": [
    {
     "name": "stdout",
     "output_type": "stream",
     "text": [
      "Number of features used: 7\n",
      "Accuracy of Lasso Regressor on training set: 0.91\n",
      "Accuracy of Lasso Regressor on test set: 0.91\n"
     ]
    }
   ],
   "source": [
    "lasso = Lasso(max_iter = 10000, alpha=0.01).fit(X_train,y_train)\n",
    "print(\"Number of features used: {}\".format(np.sum(lasso.coef_ != 0)))\n",
    "print('Accuracy of Lasso Regressor on training set: {:.2f}'\n",
    "     .format(lasso.score(X_train, y_train)))\n",
    "print('Accuracy of Lasso Regressor on test set: {:.2f}'\n",
    "     .format(lasso.score(X_test, y_test)))"
   ]
  },
  {
   "cell_type": "code",
   "execution_count": 42,
   "metadata": {},
   "outputs": [
    {
     "name": "stdout",
     "output_type": "stream",
     "text": [
      "Features with non-zero weight (sorted by absolute magnitude):\n",
      "\tOverall Height, 17.137\n",
      "\tRelative Compactness, -8.868\n",
      "\tGlazing Area, 7.841\n",
      "\tRoof Area, -5.615\n",
      "\tWall Area, 3.758\n",
      "\tGlazing Area Distribution, 1.114\n",
      "\tOrientation, -0.047\n"
     ]
    }
   ],
   "source": [
    "print('Features with non-zero weight (sorted by absolute magnitude):')\n",
    "for e in sorted (list(zip(list(X), lasso.coef_)),\n",
    "                key = lambda e: -abs(e[1])):\n",
    "    if e[1] != 0:\n",
    "        print('\\t{}, {:.3f}'.format(e[0], e[1]))"
   ]
  },
  {
   "cell_type": "markdown",
   "metadata": {},
   "source": [
    "## Polynomial Regression"
   ]
  },
  {
   "cell_type": "code",
   "execution_count": 43,
   "metadata": {},
   "outputs": [
    {
     "name": "stdout",
     "output_type": "stream",
     "text": [
      "X Train Polynomial Shape: - (576, 45)\n",
      "X Test Polynomial Shape: - (192, 45)\n"
     ]
    }
   ],
   "source": [
    "from sklearn.preprocessing import PolynomialFeatures\n",
    "poly = PolynomialFeatures(degree = 2)\n",
    "X_train_poly = poly.fit_transform(X_train)\n",
    "X_test_poly = poly.fit_transform(X_test)\n",
    "print(\"X Train Polynomial Shape: - {}\".format(X_train_poly.shape))\n",
    "print(\"X Test Polynomial Shape: - {}\".format(X_test_poly.shape))"
   ]
  },
  {
   "cell_type": "code",
   "execution_count": 44,
   "metadata": {},
   "outputs": [
    {
     "name": "stdout",
     "output_type": "stream",
     "text": [
      "(poly deg 2) R-squared score (training): 0.9940845052078645\n",
      "(poly deg 2) R-squared score (test): 0.9929388165887001\n",
      "\n"
     ]
    }
   ],
   "source": [
    "lr = LinearRegression().fit(X_train_poly, y_train)\n",
    "predict_lr= lr.predict(X_test_poly)\n",
    "print('(poly deg 2) R-squared score (training): {}'\n",
    "     .format(lr.score(X_train_poly, y_train)))\n",
    "print('(poly deg 2) R-squared score (test): {}\\n'\n",
    "     .format(lr.score(X_test_poly, y_test)))"
   ]
  },
  {
   "cell_type": "markdown",
   "metadata": {},
   "source": [
    "##### Addition of many polynomial features often leads to overfitting, so we often use polynomial features in combination with regression that has a regularization penalty, like ridge regression"
   ]
  },
  {
   "cell_type": "markdown",
   "metadata": {},
   "source": [
    "## Polynomial with Ridge"
   ]
  },
  {
   "cell_type": "code",
   "execution_count": 45,
   "metadata": {},
   "outputs": [
    {
     "name": "stdout",
     "output_type": "stream",
     "text": [
      "(poly deg 2 + ridge) R-squared score (training): 0.9367331731420392\n",
      "(poly deg 2 + ridge) R-squared score (test): 0.9362546524923423\n"
     ]
    }
   ],
   "source": [
    "ridge = Ridge().fit(X_train_poly, y_train)\n",
    "print('(poly deg 2 + ridge) R-squared score (training): {}'\n",
    "     .format(ridge.score(X_train_poly, y_train)))\n",
    "print('(poly deg 2 + ridge) R-squared score (test): {}'\n",
    "     .format(ridge.score(X_test_poly, y_test)))"
   ]
  },
  {
   "cell_type": "markdown",
   "metadata": {},
   "source": [
    "## Linear SVR"
   ]
  },
  {
   "cell_type": "code",
   "execution_count": 46,
   "metadata": {},
   "outputs": [
    {
     "data": {
      "text/plain": [
       "{'C': 10}"
      ]
     },
     "execution_count": 46,
     "metadata": {},
     "output_type": "execute_result"
    }
   ],
   "source": [
    "from sklearn.svm import LinearSVR\n",
    "lsvr = LinearSVR(random_state=10).fit(X_train, y_train)\n",
    "param_grid = {'C': [0.01,0.1,1,10,100]}\n",
    "lsvr=LinearSVR()\n",
    "grid_search = GridSearchCV(lsvr,param_grid,cv=5)\n",
    "grid_search.fit(X_train, y_train)\n",
    "grid_search.best_params_"
   ]
  },
  {
   "cell_type": "code",
   "execution_count": 47,
   "metadata": {},
   "outputs": [
    {
     "name": "stdout",
     "output_type": "stream",
     "text": [
      "Accuracy of Linear SVR classifier on training set: 0.91\n",
      "Accuracy of Linear SVR classifier on test set: 0.91\n"
     ]
    }
   ],
   "source": [
    "lsvr=LinearSVR(C=10).fit(X_train, y_train)\n",
    "print('Accuracy of Linear SVR classifier on training set: {:.2f}'\n",
    "     .format(lsvr.score(X_train, y_train)))\n",
    "print('Accuracy of Linear SVR classifier on test set: {:.2f}'\n",
    "     .format(lsvr.score(X_test, y_test)))"
   ]
  },
  {
   "cell_type": "markdown",
   "metadata": {},
   "source": [
    "## SVM Regressor"
   ]
  },
  {
   "cell_type": "code",
   "execution_count": 48,
   "metadata": {},
   "outputs": [
    {
     "data": {
      "text/plain": [
       "{'C': 100, 'epsilon': 1}"
      ]
     },
     "execution_count": 48,
     "metadata": {},
     "output_type": "execute_result"
    }
   ],
   "source": [
    "from sklearn.svm import SVR\n",
    "param_grid = {'C': [0.01,0.1,1,10,100], 'epsilon': [0.01,0.1,1,10,100]}\n",
    "svr = SVR()\n",
    "grid_search = GridSearchCV(svr,param_grid,cv=5)\n",
    "grid_search.fit(X_train, y_train)\n",
    "grid_search.best_params_"
   ]
  },
  {
   "cell_type": "code",
   "execution_count": 49,
   "metadata": {},
   "outputs": [
    {
     "name": "stdout",
     "output_type": "stream",
     "text": [
      "Accuracy of Knn Regressor on training set: 0.94\n",
      "Accuracy of Knn Regressor on test set: 0.94\n"
     ]
    }
   ],
   "source": [
    "svr = SVR(C=100, epsilon=1).fit(X_train, y_train)\n",
    "print('Accuracy of Knn Regressor on training set: {:.2f}'\n",
    "     .format(svr.score(X_train, y_train)))\n",
    "print('Accuracy of Knn Regressor on test set: {:.2f}'\n",
    "     .format(svr.score(X_test, y_test)))"
   ]
  },
  {
   "cell_type": "markdown",
   "metadata": {},
   "source": [
    "## Decision Tree"
   ]
  },
  {
   "cell_type": "code",
   "execution_count": 50,
   "metadata": {},
   "outputs": [
    {
     "data": {
      "text/plain": [
       "{'max_depth': 8}"
      ]
     },
     "execution_count": 50,
     "metadata": {},
     "output_type": "execute_result"
    }
   ],
   "source": [
    "from sklearn.tree import DecisionTreeRegressor\n",
    "dt = DecisionTreeRegressor()\n",
    "param_grid = {'max_depth': [2, 4, 6 ,8, 10]}\n",
    "grid_search = GridSearchCV(dt, param_grid,cv=5)\n",
    "grid_search.fit(X_train,y_train)\n",
    "grid_search.best_params_"
   ]
  },
  {
   "cell_type": "code",
   "execution_count": 51,
   "metadata": {},
   "outputs": [
    {
     "name": "stdout",
     "output_type": "stream",
     "text": [
      "Accuracy of DT Regressor on training set: 0.9992710026423552\n",
      "Accuracy of Dt Regressor on test set: 0.996601910578816\n"
     ]
    }
   ],
   "source": [
    "dt = DecisionTreeRegressor(max_depth=8).fit(X_train, y_train)\n",
    "print('Accuracy of DT Regressor on training set: {}'\n",
    "     .format(dt.score(X_train, y_train)))\n",
    "print('Accuracy of Dt Regressor on test set: {}'\n",
    "     .format(dt.score(X_test, y_test)))"
   ]
  },
  {
   "cell_type": "markdown",
   "metadata": {},
   "source": [
    "## <font color='Red'> Summary of R- Square Scores for Base Regression Models for Heating Load"
   ]
  },
  {
   "cell_type": "markdown",
   "metadata": {},
   "source": [
    "1. Linear Regression : - 0.91\n",
    "2. KNN Regressor : - 0.92\n",
    "3. Ridge: - 0.91\n",
    "4. Lasso : - 0.91\n",
    "5. Polynomial : - 0.9929\n",
    "6. Polynomial with Ridge: - 0.9362\n",
    "7. Linear SVR : - 0.92\n",
    "8. SVM : - 0.94\n",
    "9. Decision Tree : - 0.9966"
   ]
  },
  {
   "cell_type": "markdown",
   "metadata": {},
   "source": [
    "### Best Base Regression Model :- Decision Tree with R Square= 0.9966"
   ]
  },
  {
   "cell_type": "markdown",
   "metadata": {},
   "source": [
    "# <font color='green'>Ensembles"
   ]
  },
  {
   "cell_type": "markdown",
   "metadata": {},
   "source": [
    "## Random Forest"
   ]
  },
  {
   "cell_type": "code",
   "execution_count": 52,
   "metadata": {},
   "outputs": [
    {
     "data": {
      "text/plain": [
       "{'max_depth': 4, 'max_features': 6, 'max_leaf_nodes': 8}"
      ]
     },
     "execution_count": 52,
     "metadata": {},
     "output_type": "execute_result"
    }
   ],
   "source": [
    "from sklearn.ensemble import RandomForestRegressor\n",
    "param_grid = {'max_features': [2,4,6,8],\n",
    "            'max_depth': [2,4,6,8],\n",
    "           'max_leaf_nodes':[2,4,6,8]}\n",
    "rf = RandomForestRegressor(random_state=10)\n",
    "grid_search = GridSearchCV(rf,param_grid,cv=5)\n",
    "grid_search.fit(X_train, y_train)\n",
    "grid_search.best_params_"
   ]
  },
  {
   "cell_type": "code",
   "execution_count": 53,
   "metadata": {},
   "outputs": [
    {
     "name": "stdout",
     "output_type": "stream",
     "text": [
      "Accuracy of RF Regressor on training set: 0.97\n",
      "Accuracy of Rf Regressor on test set: 0.95\n"
     ]
    }
   ],
   "source": [
    "rf = RandomForestRegressor(max_depth= 4, max_features=6, max_leaf_nodes=8, random_state=10).fit(X_train, y_train)\n",
    "print('Accuracy of RF Regressor on training set: {:.2f}'\n",
    "     .format(rf.score(X_train, y_train)))\n",
    "print('Accuracy of Rf Regressor on test set: {:.2f}'\n",
    "     .format(rf.score(X_test, y_test)))"
   ]
  },
  {
   "cell_type": "markdown",
   "metadata": {},
   "source": [
    "## Bagging and Pasting"
   ]
  },
  {
   "cell_type": "markdown",
   "metadata": {},
   "source": [
    "### <font color='blue'>Bagging with KNN"
   ]
  },
  {
   "cell_type": "code",
   "execution_count": 54,
   "metadata": {},
   "outputs": [
    {
     "name": "stdout",
     "output_type": "stream",
     "text": [
      "Accuracy of Bagging KNN Regressor on training set: 0.86\n",
      "Accuracy of Bagging KNN on test set: 0.85\n"
     ]
    }
   ],
   "source": [
    "from sklearn.ensemble import BaggingRegressor\n",
    "bag_knn = BaggingRegressor(base_estimator=knn,bootstrap_features=True, max_samples=50).fit(X_train, y_train)\n",
    "print('Accuracy of Bagging KNN Regressor on training set: {:.2f}'\n",
    "     .format(bag_knn.score(X_train, y_train)))\n",
    "print('Accuracy of Bagging KNN on test set: {:.2f}'\n",
    "     .format(bag_knn.score(X_test, y_test)))"
   ]
  },
  {
   "cell_type": "markdown",
   "metadata": {},
   "source": [
    "###  <font color='blue'>Pasting with KNN"
   ]
  },
  {
   "cell_type": "code",
   "execution_count": 55,
   "metadata": {},
   "outputs": [
    {
     "name": "stdout",
     "output_type": "stream",
     "text": [
      "Accuracy of Pasting KNN Regressor on training set: 0.88\n",
      "Accuracy of Pasting KNN on test set: 0.88\n"
     ]
    }
   ],
   "source": [
    "paste_knn = BaggingRegressor(base_estimator=knn, max_samples=50, bootstrap=False).fit(X_train, y_train)\n",
    "print('Accuracy of Pasting KNN Regressor on training set: {:.2f}'\n",
    "     .format(paste_knn.score(X_train, y_train)))\n",
    "print('Accuracy of Pasting KNN on test set: {:.2f}'\n",
    "     .format(paste_knn.score(X_test, y_test)))"
   ]
  },
  {
   "cell_type": "markdown",
   "metadata": {},
   "source": [
    "### <font color='blue'>Bagging with Linear SVR"
   ]
  },
  {
   "cell_type": "code",
   "execution_count": 56,
   "metadata": {},
   "outputs": [
    {
     "name": "stdout",
     "output_type": "stream",
     "text": [
      "Accuracy of Bagging Linear SVR Regressor on training set: 0.90\n",
      "Accuracy of Bagging Linear SVR on test set: 0.90\n"
     ]
    }
   ],
   "source": [
    "from sklearn.ensemble import BaggingRegressor\n",
    "bag_lsvr = BaggingRegressor(base_estimator=lsvr,bootstrap_features=True, max_samples=50).fit(X_train, y_train)\n",
    "print('Accuracy of Bagging Linear SVR Regressor on training set: {:.2f}'\n",
    "     .format(bag_lsvr.score(X_train, y_train)))\n",
    "print('Accuracy of Bagging Linear SVR on test set: {:.2f}'\n",
    "     .format(bag_lsvr.score(X_test, y_test)))"
   ]
  },
  {
   "cell_type": "markdown",
   "metadata": {},
   "source": [
    "### <font color='blue'>Pasting with Linear SVR"
   ]
  },
  {
   "cell_type": "code",
   "execution_count": 57,
   "metadata": {},
   "outputs": [
    {
     "name": "stdout",
     "output_type": "stream",
     "text": [
      "Accuracy of Pasting Linear SVR Regressor on training set: 0.91\n",
      "Accuracy of Pasting Linear SVR on test set: 0.91\n"
     ]
    }
   ],
   "source": [
    "from sklearn.ensemble import BaggingRegressor\n",
    "paste_lsvr = BaggingRegressor(base_estimator=lsvr,max_samples=50, bootstrap=False).fit(X_train, y_train)\n",
    "print('Accuracy of Pasting Linear SVR Regressor on training set: {:.2f}'\n",
    "     .format(paste_lsvr.score(X_train, y_train)))\n",
    "print('Accuracy of Pasting Linear SVR on test set: {:.2f}'\n",
    "     .format(paste_lsvr.score(X_test, y_test)))"
   ]
  },
  {
   "cell_type": "markdown",
   "metadata": {},
   "source": [
    "### <font color='blue'> Bagging with SVR"
   ]
  },
  {
   "cell_type": "code",
   "execution_count": 58,
   "metadata": {},
   "outputs": [
    {
     "name": "stdout",
     "output_type": "stream",
     "text": [
      "Accuracy of Bagging Linear SVR Regressor on training set: 0.90\n",
      "Accuracy of Bagging Linear SVR on test set: 0.90\n"
     ]
    }
   ],
   "source": [
    "from sklearn.ensemble import BaggingRegressor\n",
    "bag_svr = BaggingRegressor(base_estimator=svr,bootstrap_features=True, max_samples=50).fit(X_train, y_train)\n",
    "print('Accuracy of Bagging Linear SVR Regressor on training set: {:.2f}'\n",
    "     .format(bag_svr.score(X_train, y_train)))\n",
    "print('Accuracy of Bagging Linear SVR on test set: {:.2f}'\n",
    "     .format(bag_svr.score(X_test, y_test)))"
   ]
  },
  {
   "cell_type": "markdown",
   "metadata": {},
   "source": [
    "###  <font color='blue'>Pasting with SVR"
   ]
  },
  {
   "cell_type": "code",
   "execution_count": 59,
   "metadata": {},
   "outputs": [
    {
     "name": "stdout",
     "output_type": "stream",
     "text": [
      "Accuracy of Pasting Linear SVR Regressor on training set: 0.93\n",
      "Accuracy of Pasting Linear SVR on test set: 0.92\n"
     ]
    }
   ],
   "source": [
    "from sklearn.ensemble import BaggingRegressor\n",
    "paste_svr = BaggingRegressor(base_estimator=svr,max_samples=50, bootstrap=False).fit(X_train, y_train)\n",
    "print('Accuracy of Pasting Linear SVR Regressor on training set: {:.2f}'\n",
    "     .format(paste_svr.score(X_train, y_train)))\n",
    "print('Accuracy of Pasting Linear SVR on test set: {:.2f}'\n",
    "     .format(paste_svr.score(X_test, y_test)))"
   ]
  },
  {
   "cell_type": "markdown",
   "metadata": {},
   "source": [
    "### <font color='blue'> Bagging with Decision Tree"
   ]
  },
  {
   "cell_type": "code",
   "execution_count": 60,
   "metadata": {},
   "outputs": [
    {
     "name": "stdout",
     "output_type": "stream",
     "text": [
      "Accuracy of Bagging Decision Tree Regressor on training set: 0.97\n",
      "Accuracy of Bagging Decision Tree Regressor on test set: 0.96\n"
     ]
    }
   ],
   "source": [
    "from sklearn.ensemble import BaggingRegressor\n",
    "bag_dt = BaggingRegressor(base_estimator=dt,bootstrap_features=True, max_samples=50).fit(X_train, y_train)\n",
    "print('Accuracy of Bagging Decision Tree Regressor on training set: {:.2f}'\n",
    "     .format(bag_dt.score(X_train, y_train)))\n",
    "print('Accuracy of Bagging Decision Tree Regressor on test set: {:.2f}'\n",
    "     .format(bag_dt.score(X_test, y_test)))"
   ]
  },
  {
   "cell_type": "markdown",
   "metadata": {},
   "source": [
    "### <font color='blue'>Pasting with Decision Tree"
   ]
  },
  {
   "cell_type": "code",
   "execution_count": 61,
   "metadata": {},
   "outputs": [
    {
     "name": "stdout",
     "output_type": "stream",
     "text": [
      "Accuracy of Pasting Decision Tree on training set: 0.93\n",
      "Accuracy of Pasting Decision Tree on test set: 0.92\n"
     ]
    }
   ],
   "source": [
    "from sklearn.ensemble import BaggingRegressor\n",
    "paste_dt = BaggingRegressor(base_estimator=dt,max_samples=50, bootstrap=False).fit(X_train, y_train)\n",
    "print('Accuracy of Pasting Decision Tree on training set: {:.2f}'\n",
    "     .format(paste_svr.score(X_train, y_train)))\n",
    "print('Accuracy of Pasting Decision Tree on test set: {:.2f}'\n",
    "     .format(paste_svr.score(X_test, y_test)))"
   ]
  },
  {
   "cell_type": "markdown",
   "metadata": {},
   "source": [
    "## Boosting"
   ]
  },
  {
   "cell_type": "markdown",
   "metadata": {},
   "source": [
    "### <font color='blue'> Adaptive Boosting with Decision Tree Regressor"
   ]
  },
  {
   "cell_type": "code",
   "execution_count": 62,
   "metadata": {},
   "outputs": [
    {
     "name": "stdout",
     "output_type": "stream",
     "text": [
      "Accuracy of Adaptive Boosting with Decision Tree Regressor on training set: 0.9995229797090636\n",
      "Accuracy of Adaptive Boosting with Decision Tree Regressor on test set: 0.9969916026177652\n"
     ]
    }
   ],
   "source": [
    "from sklearn.ensemble import AdaBoostRegressor\n",
    "adaboost_dt = AdaBoostRegressor(base_estimator = dt, learning_rate = 0.5).fit(X_train, y_train)\n",
    "print('Accuracy of Adaptive Boosting with Decision Tree Regressor on training set: {}'\n",
    "     .format(adaboost_dt.score(X_train, y_train)))\n",
    "print('Accuracy of Adaptive Boosting with Decision Tree Regressor on test set: {}'\n",
    "     .format(adaboost_dt.score(X_test, y_test)))"
   ]
  },
  {
   "cell_type": "markdown",
   "metadata": {},
   "source": [
    "### <font color='blue'> Adaptive Boosting with Random Forest Regressor"
   ]
  },
  {
   "cell_type": "code",
   "execution_count": 63,
   "metadata": {},
   "outputs": [
    {
     "name": "stdout",
     "output_type": "stream",
     "text": [
      "Accuracy of Adaptive Boosting with Random Forest Regressor on training set: 0.9773172479983778\n",
      "Accuracy of Adaptive Boosting with Random Forest Regressor on test set: 0.9719262619048493\n"
     ]
    }
   ],
   "source": [
    "from sklearn.ensemble import AdaBoostRegressor\n",
    "adaboost_rf = AdaBoostRegressor(base_estimator = rf, learning_rate = 0.5).fit(X_train, y_train)\n",
    "print('Accuracy of Adaptive Boosting with Random Forest Regressor on training set: {}'\n",
    "     .format(adaboost_rf.score(X_train, y_train)))\n",
    "print('Accuracy of Adaptive Boosting with Random Forest Regressor on test set: {}'\n",
    "     .format(adaboost_rf.score(X_test, y_test)))"
   ]
  },
  {
   "cell_type": "markdown",
   "metadata": {},
   "source": [
    "### <font color='blue'> Adaptive Boosting with SVM Regressor"
   ]
  },
  {
   "cell_type": "code",
   "execution_count": 64,
   "metadata": {},
   "outputs": [
    {
     "name": "stdout",
     "output_type": "stream",
     "text": [
      "Accuracy of Adaptive Boosting with SVM Regressor on training set: 0.9415739549206077\n",
      "Accuracy of Adaptive Boosting with SVM Regressor on test set: 0.9426225813256256\n"
     ]
    }
   ],
   "source": [
    "from sklearn.ensemble import AdaBoostRegressor\n",
    "adaboost_svr = AdaBoostRegressor(base_estimator = svr, learning_rate = 0.5).fit(X_train, y_train)\n",
    "print('Accuracy of Adaptive Boosting with SVM Regressor on training set: {}'\n",
    "     .format(adaboost_svr.score(X_train, y_train)))\n",
    "print('Accuracy of Adaptive Boosting with SVM Regressor on test set: {}'\n",
    "     .format(adaboost_svr.score(X_test, y_test)))"
   ]
  },
  {
   "cell_type": "markdown",
   "metadata": {},
   "source": [
    "## Gradient Boosting Regressor"
   ]
  },
  {
   "cell_type": "code",
   "execution_count": 65,
   "metadata": {},
   "outputs": [
    {
     "data": {
      "text/plain": [
       "{'learning_rate': 1, 'n_estimators': 50}"
      ]
     },
     "execution_count": 65,
     "metadata": {},
     "output_type": "execute_result"
    }
   ],
   "source": [
    "from sklearn.ensemble import GradientBoostingRegressor\n",
    "gb=GradientBoostingRegressor(max_depth=4)\n",
    "param_grid = {'learning_rate': [0.1,1,10,100], 'n_estimators': [5,10,20,50]}\n",
    "gb = GradientBoostingRegressor()\n",
    "grid_search = GridSearchCV(gb,param_grid,cv=5)\n",
    "grid_search.fit(X_train, y_train)\n",
    "grid_search.best_params_"
   ]
  },
  {
   "cell_type": "code",
   "execution_count": 66,
   "metadata": {},
   "outputs": [
    {
     "name": "stdout",
     "output_type": "stream",
     "text": [
      "Accuracy of GB Regressor on training set: 0.999175796543957\n",
      "Accuracy of GB Regressor on test set: 0.9982807759938107\n"
     ]
    }
   ],
   "source": [
    "gb=GradientBoostingRegressor(learning_rate=1, n_estimators=50).fit(X_train, y_train)\n",
    "print('Accuracy of GB Regressor on training set: {}'\n",
    "     .format(gb.score(X_train, y_train)))\n",
    "print('Accuracy of GB Regressor on test set: {}'\n",
    "     .format(gb.score(X_test, y_test)))"
   ]
  },
  {
   "cell_type": "markdown",
   "metadata": {},
   "source": [
    "## Ensemble of All Regressors- Stacking Regressor"
   ]
  },
  {
   "cell_type": "code",
   "execution_count": 67,
   "metadata": {},
   "outputs": [],
   "source": [
    "lr=LinearRegression()\n",
    "knn=KNeighborsRegressor(n_neighbors=8)\n",
    "lsvr=LinearSVR(C=10)\n",
    "svr = SVR(C=100, epsilon=1)\n",
    "rf = RandomForestRegressor(max_depth= 4, max_features=6, max_leaf_nodes=8)"
   ]
  },
  {
   "cell_type": "code",
   "execution_count": 68,
   "metadata": {},
   "outputs": [
    {
     "name": "stdout",
     "output_type": "stream",
     "text": [
      "Accuracy of STR Regressor on training set: 0.996\n",
      "Accuracy of STR Regressor on test set: 0.984\n"
     ]
    }
   ],
   "source": [
    "from mlxtend.regressor import StackingRegressor\n",
    "stregr = StackingRegressor(regressors=[lr, knn, lsvr, svr, rf], \n",
    "                           meta_regressor=svr)\n",
    "stregr.fit(X_train, y_train)\n",
    "str_predict = stregr.predict(X_test)\n",
    "print('Accuracy of STR Regressor on training set: {:.3f}'\n",
    "     .format(stregr.score(X_train, y_train)))\n",
    "print('Accuracy of STR Regressor on test set: {:.3f}'\n",
    "     .format(stregr.score(X_test, y_test)))"
   ]
  },
  {
   "cell_type": "code",
   "execution_count": 69,
   "metadata": {},
   "outputs": [
    {
     "name": "stdout",
     "output_type": "stream",
     "text": [
      "Mean Squared Error: 1.6634\n",
      "Variance Score: 0.9842\n"
     ]
    }
   ],
   "source": [
    "print(\"Mean Squared Error: %.4f\"\n",
    "      % np.mean((stregr.predict(X_test) - y_test) ** 2))\n",
    "print('Variance Score: %.4f' % stregr.score(X_test, y_test))"
   ]
  },
  {
   "cell_type": "markdown",
   "metadata": {},
   "source": [
    "## <font color='Red'> Summary of R- Square Scores for Ensemble Regression Models for Heating Load"
   ]
  },
  {
   "cell_type": "markdown",
   "metadata": {},
   "source": [
    "1. Random Forest: - 0.95\n",
    "2. Bagging(KNN) : - 0.86\n",
    "3. Pasting(KNN) : - 0.89\n",
    "4. Bagging(Linear SVR) : - 0.88\n",
    "5. Pasting(Linear SVR) : - 0.91\n",
    "6. Bagging(SVR) : - 0.91\n",
    "7. Pasting(SVR) : - 0.92\n",
    "8. Bagging(Decision Tree): - 0.96\n",
    "9. Pasting(Decision Tree): - 0.92\n",
    "10. Adaptive Boosting (Decision Tree) : - 0.9969\n",
    "11. Adaptive Boosting (Random Forest) : - 0.97\n",
    "12. Adaptive Boosting (SVM Regressor) : - 0.94\n",
    "13. Gradient Boosting : - 0.9982"
   ]
  },
  {
   "cell_type": "markdown",
   "metadata": {},
   "source": [
    "### Best Ensemble Regression Model for Heating Load :- Gradient Boosting with R Square= 0.9982"
   ]
  },
  {
   "cell_type": "markdown",
   "metadata": {},
   "source": [
    "## <font color=red> Models for predicting cooling load"
   ]
  },
  {
   "cell_type": "markdown",
   "metadata": {},
   "source": [
    "## Data preprocessing"
   ]
  },
  {
   "cell_type": "code",
   "execution_count": 70,
   "metadata": {},
   "outputs": [],
   "source": [
    "X = data_cool.drop(columns=['Cooling Load'])\n",
    "y= data_cool['Cooling Load']"
   ]
  },
  {
   "cell_type": "code",
   "execution_count": 71,
   "metadata": {},
   "outputs": [
    {
     "data": {
      "text/plain": [
       "0    21.33\n",
       "1    21.33\n",
       "2    21.33\n",
       "3    21.33\n",
       "4    28.28\n",
       "Name: Cooling Load, dtype: float64"
      ]
     },
     "execution_count": 71,
     "metadata": {},
     "output_type": "execute_result"
    }
   ],
   "source": [
    "y.head()"
   ]
  },
  {
   "cell_type": "code",
   "execution_count": 72,
   "metadata": {},
   "outputs": [],
   "source": [
    "X_train_org, X_test_org, y_train, y_test = train_test_split(X, y, test_size=0.25, random_state=42)\n",
    "\n",
    "scaler = MinMaxScaler()\n",
    "X_train = scaler.fit_transform(X_train_org)\n",
    "X_test = scaler.transform(X_test_org)"
   ]
  },
  {
   "cell_type": "markdown",
   "metadata": {},
   "source": [
    "## Neural Network Regressor"
   ]
  },
  {
   "cell_type": "markdown",
   "metadata": {},
   "source": [
    "### Grid Search to find the Best Parameters for Nueral Network"
   ]
  },
  {
   "cell_type": "code",
   "execution_count": 73,
   "metadata": {},
   "outputs": [],
   "source": [
    "# ## Neural Network Regressor with Parameter tuning\n",
    "# from keras.wrappers.scikit_learn import KerasRegressor\n",
    "# from sklearn.model_selection import GridSearchCV\n",
    "\n",
    "# Build the neural network regressor function to be used in the keras-sklearn wrapper\n",
    "# def build_reg(optimizer):\n",
    "#    nn_reg = Sequential()\n",
    "#    nn_reg.add(Dense(5, input_dim=8, kernel_initializer='uniform', activation='relu'))\n",
    "#    nn_reg.add(Dense(5, kernel_initializer='uniform', activation='relu'))\n",
    "#    nn_reg.add(Dense(1, activation='linear'))\n",
    "    \n",
    "#    nn_reg.compile(optimizer=optimizer, loss='mse', metrics=['mse'])\n",
    "#    return nn_reg\n",
    "\n",
    "#    nn_reg = KerasRegressor(build_fn=build_reg)\n",
    "\n",
    "# param_grid = {'batch_size': [10,16,25],\n",
    "#          'epochs': [50,75, 100],\n",
    "#          'optimizer': ['rmsprop','adam']}\n",
    "\n",
    "# nn_reg_grid_heat = GridSearchCV(estimator=nn_reg, param_grid=param_grid, scoring='r2', cv=8)\n",
    "\n",
    "# nn_reg_grid_heat.fit(X_train, y_train)"
   ]
  },
  {
   "cell_type": "markdown",
   "metadata": {},
   "source": [
    "### Best Parameters : - Batch Size= 10 , Epochs= 100, Optimizer= 'rmsprop'"
   ]
  },
  {
   "cell_type": "code",
   "execution_count": 74,
   "metadata": {},
   "outputs": [
    {
     "name": "stdout",
     "output_type": "stream",
     "text": [
      "Epoch 1/100\n",
      "576/576 [==============================] - 0s 294us/step - loss: 678.6676 - mean_squared_error: 678.6676\n",
      "Epoch 2/100\n",
      "576/576 [==============================] - 0s 78us/step - loss: 668.9774 - mean_squared_error: 668.9774\n",
      "Epoch 3/100\n",
      "576/576 [==============================] - 0s 77us/step - loss: 653.0755 - mean_squared_error: 653.0755\n",
      "Epoch 4/100\n",
      "576/576 [==============================] - 0s 77us/step - loss: 629.5880 - mean_squared_error: 629.5880\n",
      "Epoch 5/100\n",
      "576/576 [==============================] - 0s 104us/step - loss: 596.9164 - mean_squared_error: 596.9164\n",
      "Epoch 6/100\n",
      "576/576 [==============================] - 0s 75us/step - loss: 555.0941 - mean_squared_error: 555.0941\n",
      "Epoch 7/100\n",
      "576/576 [==============================] - 0s 78us/step - loss: 503.4483 - mean_squared_error: 503.4483\n",
      "Epoch 8/100\n",
      "576/576 [==============================] - 0s 120us/step - loss: 443.3157 - mean_squared_error: 443.3157\n",
      "Epoch 9/100\n",
      "576/576 [==============================] - 0s 87us/step - loss: 376.6808 - mean_squared_error: 376.6808\n",
      "Epoch 10/100\n",
      "576/576 [==============================] - 0s 87us/step - loss: 306.0239 - mean_squared_error: 306.0239\n",
      "Epoch 11/100\n",
      "576/576 [==============================] - 0s 99us/step - loss: 235.0104 - mean_squared_error: 235.0104\n",
      "Epoch 12/100\n",
      "576/576 [==============================] - 0s 117us/step - loss: 170.5563 - mean_squared_error: 170.5563\n",
      "Epoch 13/100\n",
      "576/576 [==============================] - 0s 85us/step - loss: 120.6366 - mean_squared_error: 120.6366\n",
      "Epoch 14/100\n",
      "576/576 [==============================] - 0s 99us/step - loss: 87.7412 - mean_squared_error: 87.7412\n",
      "Epoch 15/100\n",
      "576/576 [==============================] - 0s 141us/step - loss: 71.4612 - mean_squared_error: 71.4612\n",
      "Epoch 16/100\n",
      "576/576 [==============================] - 0s 99us/step - loss: 64.2031 - mean_squared_error: 64.2031\n",
      "Epoch 17/100\n",
      "576/576 [==============================] - 0s 101us/step - loss: 58.6441 - mean_squared_error: 58.6441\n",
      "Epoch 18/100\n",
      "576/576 [==============================] - 0s 125us/step - loss: 53.7768 - mean_squared_error: 53.7768\n",
      "Epoch 19/100\n",
      "576/576 [==============================] - 0s 99us/step - loss: 49.0654 - mean_squared_error: 49.0654\n",
      "Epoch 20/100\n",
      "576/576 [==============================] - 0s 99us/step - loss: 44.4294 - mean_squared_error: 44.4294\n",
      "Epoch 21/100\n",
      "576/576 [==============================] - 0s 132us/step - loss: 40.2459 - mean_squared_error: 40.2459\n",
      "Epoch 22/100\n",
      "576/576 [==============================] - 0s 103us/step - loss: 36.4756 - mean_squared_error: 36.4756\n",
      "Epoch 23/100\n",
      "576/576 [==============================] - 0s 97us/step - loss: 32.8933 - mean_squared_error: 32.8933\n",
      "Epoch 24/100\n",
      "576/576 [==============================] - 0s 129us/step - loss: 29.5097 - mean_squared_error: 29.5097\n",
      "Epoch 25/100\n",
      "576/576 [==============================] - 0s 87us/step - loss: 26.4865 - mean_squared_error: 26.4865\n",
      "Epoch 26/100\n",
      "576/576 [==============================] - 0s 87us/step - loss: 23.9386 - mean_squared_error: 23.9386\n",
      "Epoch 27/100\n",
      "576/576 [==============================] - 0s 106us/step - loss: 21.7576 - mean_squared_error: 21.7576\n",
      "Epoch 28/100\n",
      "576/576 [==============================] - 0s 113us/step - loss: 20.0356 - mean_squared_error: 20.0356\n",
      "Epoch 29/100\n",
      "576/576 [==============================] - 0s 91us/step - loss: 18.5816 - mean_squared_error: 18.5816\n",
      "Epoch 30/100\n",
      "576/576 [==============================] - 0s 91us/step - loss: 17.4347 - mean_squared_error: 17.4347\n",
      "Epoch 31/100\n",
      "576/576 [==============================] - 0s 108us/step - loss: 16.5878 - mean_squared_error: 16.5878\n",
      "Epoch 32/100\n",
      "576/576 [==============================] - 0s 75us/step - loss: 15.9232 - mean_squared_error: 15.9232\n",
      "Epoch 33/100\n",
      "576/576 [==============================] - 0s 75us/step - loss: 15.4966 - mean_squared_error: 15.4966\n",
      "Epoch 34/100\n",
      "576/576 [==============================] - 0s 84us/step - loss: 15.0808 - mean_squared_error: 15.0808\n",
      "Epoch 35/100\n",
      "576/576 [==============================] - 0s 104us/step - loss: 14.8598 - mean_squared_error: 14.8598\n",
      "Epoch 36/100\n",
      "576/576 [==============================] - 0s 78us/step - loss: 14.5420 - mean_squared_error: 14.5420\n",
      "Epoch 37/100\n",
      "576/576 [==============================] - 0s 78us/step - loss: 14.3623 - mean_squared_error: 14.3623\n",
      "Epoch 38/100\n",
      "576/576 [==============================] - 0s 99us/step - loss: 14.1682 - mean_squared_error: 14.1682\n",
      "Epoch 39/100\n",
      "576/576 [==============================] - 0s 99us/step - loss: 14.0130 - mean_squared_error: 14.0130\n",
      "Epoch 40/100\n",
      "576/576 [==============================] - 0s 80us/step - loss: 13.7963 - mean_squared_error: 13.7963\n",
      "Epoch 41/100\n",
      "576/576 [==============================] - 0s 78us/step - loss: 13.6765 - mean_squared_error: 13.6765\n",
      "Epoch 42/100\n",
      "576/576 [==============================] - 0s 108us/step - loss: 13.5450 - mean_squared_error: 13.5450\n",
      "Epoch 43/100\n",
      "576/576 [==============================] - 0s 82us/step - loss: 13.3965 - mean_squared_error: 13.3965\n",
      "Epoch 44/100\n",
      "576/576 [==============================] - 0s 78us/step - loss: 13.2937 - mean_squared_error: 13.2937\n",
      "Epoch 45/100\n",
      "576/576 [==============================] - 0s 78us/step - loss: 13.1760 - mean_squared_error: 13.1760\n",
      "Epoch 46/100\n",
      "576/576 [==============================] - 0s 110us/step - loss: 13.1033 - mean_squared_error: 13.1033\n",
      "Epoch 47/100\n",
      "576/576 [==============================] - 0s 78us/step - loss: 12.9839 - mean_squared_error: 12.9839\n",
      "Epoch 48/100\n",
      "576/576 [==============================] - 0s 78us/step - loss: 12.9371 - mean_squared_error: 12.9371\n",
      "Epoch 49/100\n",
      "576/576 [==============================] - 0s 111us/step - loss: 12.8611 - mean_squared_error: 12.8611\n",
      "Epoch 50/100\n",
      "576/576 [==============================] - 0s 78us/step - loss: 12.7902 - mean_squared_error: 12.7902\n",
      "Epoch 51/100\n",
      "576/576 [==============================] - 0s 77us/step - loss: 12.7839 - mean_squared_error: 12.7839\n",
      "Epoch 52/100\n",
      "576/576 [==============================] - 0s 78us/step - loss: 12.6631 - mean_squared_error: 12.6631\n",
      "Epoch 53/100\n",
      "576/576 [==============================] - 0s 111us/step - loss: 12.6666 - mean_squared_error: 12.6666\n",
      "Epoch 54/100\n",
      "576/576 [==============================] - 0s 78us/step - loss: 12.6209 - mean_squared_error: 12.6209\n",
      "Epoch 55/100\n",
      "576/576 [==============================] - 0s 75us/step - loss: 12.5466 - mean_squared_error: 12.5466\n",
      "Epoch 56/100\n",
      "576/576 [==============================] - 0s 103us/step - loss: 12.5114 - mean_squared_error: 12.5114\n",
      "Epoch 57/100\n",
      "576/576 [==============================] - 0s 85us/step - loss: 12.4780 - mean_squared_error: 12.4780\n",
      "Epoch 58/100\n",
      "576/576 [==============================] - 0s 78us/step - loss: 12.4023 - mean_squared_error: 12.4023\n",
      "Epoch 59/100\n",
      "576/576 [==============================] - 0s 77us/step - loss: 12.4268 - mean_squared_error: 12.4268\n",
      "Epoch 60/100\n",
      "576/576 [==============================] - 0s 104us/step - loss: 12.3734 - mean_squared_error: 12.3734\n",
      "Epoch 61/100\n",
      "576/576 [==============================] - 0s 84us/step - loss: 12.3534 - mean_squared_error: 12.3534\n",
      "Epoch 62/100\n",
      "576/576 [==============================] - 0s 77us/step - loss: 12.3712 - mean_squared_error: 12.3712\n",
      "Epoch 63/100\n",
      "576/576 [==============================] - 0s 80us/step - loss: 12.3055 - mean_squared_error: 12.3055\n",
      "Epoch 64/100\n",
      "576/576 [==============================] - 0s 82us/step - loss: 12.3026 - mean_squared_error: 12.3026\n",
      "Epoch 65/100\n",
      "576/576 [==============================] - 0s 99us/step - loss: 12.2797 - mean_squared_error: 12.2797\n",
      "Epoch 66/100\n",
      "576/576 [==============================] - 0s 89us/step - loss: 12.2811 - mean_squared_error: 12.2811\n",
      "Epoch 67/100\n",
      "576/576 [==============================] - 0s 84us/step - loss: 12.2199 - mean_squared_error: 12.2199\n",
      "Epoch 68/100\n",
      "576/576 [==============================] - 0s 97us/step - loss: 12.2225 - mean_squared_error: 12.2225\n",
      "Epoch 69/100\n",
      "576/576 [==============================] - 0s 101us/step - loss: 12.1657 - mean_squared_error: 12.1657\n",
      "Epoch 70/100\n",
      "576/576 [==============================] - 0s 82us/step - loss: 12.2001 - mean_squared_error: 12.2001\n",
      "Epoch 71/100\n"
     ]
    },
    {
     "name": "stdout",
     "output_type": "stream",
     "text": [
      "576/576 [==============================] - 0s 103us/step - loss: 12.0970 - mean_squared_error: 12.0970\n",
      "Epoch 72/100\n",
      "576/576 [==============================] - 0s 77us/step - loss: 12.1540 - mean_squared_error: 12.1540\n",
      "Epoch 73/100\n",
      "576/576 [==============================] - 0s 104us/step - loss: 12.1192 - mean_squared_error: 12.1192\n",
      "Epoch 74/100\n",
      "576/576 [==============================] - 0s 77us/step - loss: 12.0958 - mean_squared_error: 12.0958\n",
      "Epoch 75/100\n",
      "576/576 [==============================] - 0s 111us/step - loss: 12.1068 - mean_squared_error: 12.1068\n",
      "Epoch 76/100\n",
      "576/576 [==============================] - 0s 110us/step - loss: 12.1201 - mean_squared_error: 12.1201\n",
      "Epoch 77/100\n",
      "576/576 [==============================] - 0s 108us/step - loss: 12.1058 - mean_squared_error: 12.1058\n",
      "Epoch 78/100\n",
      "576/576 [==============================] - 0s 101us/step - loss: 12.0967 - mean_squared_error: 12.0967\n",
      "Epoch 79/100\n",
      "576/576 [==============================] - 0s 87us/step - loss: 12.0869 - mean_squared_error: 12.0869\n",
      "Epoch 80/100\n",
      "576/576 [==============================] - 0s 103us/step - loss: 12.0198 - mean_squared_error: 12.0198\n",
      "Epoch 81/100\n",
      "576/576 [==============================] - 0s 106us/step - loss: 12.0781 - mean_squared_error: 12.0781\n",
      "Epoch 82/100\n",
      "576/576 [==============================] - 0s 99us/step - loss: 12.0319 - mean_squared_error: 12.0319\n",
      "Epoch 83/100\n",
      "576/576 [==============================] - 0s 103us/step - loss: 12.0247 - mean_squared_error: 12.0247\n",
      "Epoch 84/100\n",
      "576/576 [==============================] - 0s 91us/step - loss: 12.0211 - mean_squared_error: 12.0211\n",
      "Epoch 85/100\n",
      "576/576 [==============================] - 0s 97us/step - loss: 12.0224 - mean_squared_error: 12.0224\n",
      "Epoch 86/100\n",
      "576/576 [==============================] - 0s 104us/step - loss: 12.0022 - mean_squared_error: 12.0022\n",
      "Epoch 87/100\n",
      "576/576 [==============================] - 0s 106us/step - loss: 11.9786 - mean_squared_error: 11.9786\n",
      "Epoch 88/100\n",
      "576/576 [==============================] - 0s 108us/step - loss: 11.9781 - mean_squared_error: 11.9781\n",
      "Epoch 89/100\n",
      "576/576 [==============================] - 0s 91us/step - loss: 11.9414 - mean_squared_error: 11.9414\n",
      "Epoch 90/100\n",
      "576/576 [==============================] - 0s 99us/step - loss: 11.9499 - mean_squared_error: 11.9499\n",
      "Epoch 91/100\n",
      "576/576 [==============================] - 0s 106us/step - loss: 11.9151 - mean_squared_error: 11.9151\n",
      "Epoch 92/100\n",
      "576/576 [==============================] - 0s 89us/step - loss: 11.9421 - mean_squared_error: 11.9421\n",
      "Epoch 93/100\n",
      "576/576 [==============================] - 0s 125us/step - loss: 11.9110 - mean_squared_error: 11.9110\n",
      "Epoch 94/100\n",
      "576/576 [==============================] - 0s 101us/step - loss: 11.9171 - mean_squared_error: 11.9171\n",
      "Epoch 95/100\n",
      "576/576 [==============================] - 0s 108us/step - loss: 11.9308 - mean_squared_error: 11.9308\n",
      "Epoch 96/100\n",
      "576/576 [==============================] - 0s 110us/step - loss: 11.8138 - mean_squared_error: 11.8138\n",
      "Epoch 97/100\n",
      "576/576 [==============================] - 0s 101us/step - loss: 11.9082 - mean_squared_error: 11.9082\n",
      "Epoch 98/100\n",
      "576/576 [==============================] - 0s 85us/step - loss: 11.8761 - mean_squared_error: 11.8761\n",
      "Epoch 99/100\n",
      "576/576 [==============================] - 0s 106us/step - loss: 11.8417 - mean_squared_error: 11.8417\n",
      "Epoch 100/100\n",
      "576/576 [==============================] - 0s 106us/step - loss: 11.7934 - mean_squared_error: 11.7934\n"
     ]
    },
    {
     "data": {
      "text/plain": [
       "<keras.callbacks.History at 0x265ce444eb8>"
      ]
     },
     "execution_count": 74,
     "metadata": {},
     "output_type": "execute_result"
    }
   ],
   "source": [
    "nn_reg = Sequential()\n",
    "nn_reg.add(Dense(5, input_dim=8, kernel_initializer='uniform', activation='relu'))\n",
    "nn_reg.add(Dense(5, kernel_initializer='uniform', activation='relu'))\n",
    "nn_reg.add(Dense(1, activation='linear'))\n",
    "\n",
    "nn_reg.compile(optimizer='rmsprop', loss='mse', metrics=['mse'])\n",
    "\n",
    "nn_reg.fit(X_train, y_train, batch_size=10, epochs=100)"
   ]
  },
  {
   "cell_type": "code",
   "execution_count": 75,
   "metadata": {},
   "outputs": [
    {
     "name": "stdout",
     "output_type": "stream",
     "text": [
      "Train r2: 0.87\n",
      "Test r2: 0.87\n"
     ]
    }
   ],
   "source": [
    "y_train_predict = nn_reg.predict(X_train)\n",
    "y_test_predict = nn_reg.predict(X_test)\n",
    "\n",
    "print('Train r2: {:.2f}'.format(r2_score(y_train, y_train_predict)))\n",
    "print('Test r2: {:.2f}'.format(r2_score(y_test, y_test_predict)))"
   ]
  },
  {
   "cell_type": "markdown",
   "metadata": {},
   "source": [
    "## Linear Regression"
   ]
  },
  {
   "cell_type": "code",
   "execution_count": 76,
   "metadata": {},
   "outputs": [
    {
     "name": "stdout",
     "output_type": "stream",
     "text": [
      "Accuracy of Linear Regression on training set: 0.89\n",
      "Accuracy of Linear Regression on test set: 0.89\n"
     ]
    }
   ],
   "source": [
    "from sklearn.linear_model import LinearRegression\n",
    "lr = LinearRegression().fit(X_train, y_train)\n",
    "y_predict = lr.predict(X_train)\n",
    "print('Accuracy of Linear Regression on training set: {:.2f}'\n",
    "     .format(lr.score(X_train, y_train)))\n",
    "print('Accuracy of Linear Regression on test set: {:.2f}'\n",
    "     .format(lr.score(X_test, y_test)))"
   ]
  },
  {
   "cell_type": "code",
   "execution_count": 77,
   "metadata": {},
   "outputs": [
    {
     "name": "stdout",
     "output_type": "stream",
     "text": [
      "lr.coef_: [ -2.90096516e+01   1.07815524e+15  -6.28923890e+14  -8.08616429e+14\n",
      "   1.36250000e+01   4.76562500e-01   5.66479492e+00   9.27734375e-02]\n",
      "lr.intercept_: 179692539872223.3\n"
     ]
    }
   ],
   "source": [
    "print(\"lr.coef_: {}\".format(lr.coef_))\n",
    "\n",
    "print(\"lr.intercept_: {}\".format(lr.intercept_))"
   ]
  },
  {
   "cell_type": "markdown",
   "metadata": {},
   "source": [
    "## KNN Regressor"
   ]
  },
  {
   "cell_type": "code",
   "execution_count": 78,
   "metadata": {},
   "outputs": [
    {
     "data": {
      "text/plain": [
       "{'n_neighbors': 8}"
      ]
     },
     "execution_count": 78,
     "metadata": {},
     "output_type": "execute_result"
    }
   ],
   "source": [
    "from sklearn.neighbors import KNeighborsRegressor\n",
    "from sklearn.model_selection import GridSearchCV\n",
    "param_grid = {'n_neighbors': [2,4,6,8,10,12]}\n",
    "knn = KNeighborsRegressor()\n",
    "grid_search = GridSearchCV(knn,param_grid,cv=5)\n",
    "grid_search.fit(X_train, y_train)\n",
    "grid_search.best_params_"
   ]
  },
  {
   "cell_type": "code",
   "execution_count": 79,
   "metadata": {},
   "outputs": [
    {
     "name": "stdout",
     "output_type": "stream",
     "text": [
      "Accuracy of Knn Regressor on training set: 0.92\n",
      "Accuracy of Knn Regressor on test set: 0.91\n"
     ]
    }
   ],
   "source": [
    "knn = KNeighborsRegressor(n_neighbors=8).fit(X_train, y_train)\n",
    "print('Accuracy of Knn Regressor on training set: {:.2f}'\n",
    "     .format(knn.score(X_train, y_train)))\n",
    "print('Accuracy of Knn Regressor on test set: {:.2f}'\n",
    "     .format(knn.score(X_test, y_test)))"
   ]
  },
  {
   "cell_type": "markdown",
   "metadata": {},
   "source": [
    "## Ridge"
   ]
  },
  {
   "cell_type": "code",
   "execution_count": 80,
   "metadata": {},
   "outputs": [
    {
     "name": "stdout",
     "output_type": "stream",
     "text": [
      "Best parameters: {'alpha': 0.01}\n"
     ]
    }
   ],
   "source": [
    "from sklearn.linear_model import Ridge\n",
    "ridge = Ridge().fit(X_train,y_train)\n",
    "param_grid = {'alpha':[0.01, 1, 5, 10, 100]}\n",
    "grid_search = GridSearchCV(ridge, param_grid, cv = 5)\n",
    "grid_search.fit(X_train, y_train)\n",
    "print('Best parameters: {}'.format(grid_search.best_params_))"
   ]
  },
  {
   "cell_type": "code",
   "execution_count": 81,
   "metadata": {},
   "outputs": [
    {
     "name": "stdout",
     "output_type": "stream",
     "text": [
      "Accuracy of Ridge Regressor on training set: 0.89\n",
      "Accuracy of Ridge Regressor on test set: 0.89\n"
     ]
    }
   ],
   "source": [
    "ridge = Ridge(alpha=0.01).fit(X_train, y_train)\n",
    "print('Accuracy of Ridge Regressor on training set: {:.2f}'\n",
    "     .format(ridge.score(X_train, y_train)))\n",
    "print('Accuracy of Ridge Regressor on test set: {:.2f}'\n",
    "     .format(ridge.score(X_test, y_test)))"
   ]
  },
  {
   "cell_type": "markdown",
   "metadata": {},
   "source": [
    "## Lasso"
   ]
  },
  {
   "cell_type": "code",
   "execution_count": 82,
   "metadata": {},
   "outputs": [
    {
     "name": "stdout",
     "output_type": "stream",
     "text": [
      "Best parameters: {'alpha': 0.01}\n"
     ]
    }
   ],
   "source": [
    "from sklearn.linear_model import Lasso\n",
    "lasso = Lasso(max_iter = 10000).fit(X_train,y_train)\n",
    "param_grid = {'alpha':[0.01, 1, 5, 10, 100]}\n",
    "grid_search = GridSearchCV(lasso, param_grid, cv = 5)\n",
    "grid_search.fit(X_train, y_train)\n",
    "print('Best parameters: {}'.format(grid_search.best_params_))"
   ]
  },
  {
   "cell_type": "code",
   "execution_count": 83,
   "metadata": {},
   "outputs": [
    {
     "name": "stdout",
     "output_type": "stream",
     "text": [
      "Number of features used: 7\n",
      "Accuracy of Lasso Regressor on training set: 0.88\n",
      "Accuracy of Lasso Regressor on test set: 0.89\n"
     ]
    }
   ],
   "source": [
    "lasso = Lasso(max_iter = 10000, alpha=0.01).fit(X_train,y_train)\n",
    "print(\"Number of features used: {}\".format(np.sum(lasso.coef_ != 0)))\n",
    "print('Accuracy of Lasso Regressor on training set: {:.2f}'\n",
    "     .format(lasso.score(X_train, y_train)))\n",
    "print('Accuracy of Lasso Regressor on test set: {:.2f}'\n",
    "     .format(lasso.score(X_test, y_test)))"
   ]
  },
  {
   "cell_type": "code",
   "execution_count": 84,
   "metadata": {},
   "outputs": [
    {
     "name": "stdout",
     "output_type": "stream",
     "text": [
      "Features with non-zero weight (sorted by absolute magnitude):\n",
      "\tOverall Height, 17.072\n",
      "\tRelative Compactness, -12.405\n",
      "\tRoof Area, -7.361\n",
      "\tGlazing Area, 5.643\n",
      "\tGlazing Area Distribution, 0.237\n",
      "\tOrientation, 0.114\n",
      "\tWall Area, 0.017\n"
     ]
    }
   ],
   "source": [
    "print('Features with non-zero weight (sorted by absolute magnitude):')\n",
    "for e in sorted (list(zip(list(X), lasso.coef_)),\n",
    "                key = lambda e: -abs(e[1])):\n",
    "    if e[1] != 0:\n",
    "        print('\\t{}, {:.3f}'.format(e[0], e[1]))"
   ]
  },
  {
   "cell_type": "markdown",
   "metadata": {},
   "source": [
    "## Polynomial Regression"
   ]
  },
  {
   "cell_type": "code",
   "execution_count": 85,
   "metadata": {},
   "outputs": [
    {
     "name": "stdout",
     "output_type": "stream",
     "text": [
      "X Train Polynomial Shape: - (576, 45)\n",
      "X Test Polynomial Shape: - (192, 45)\n"
     ]
    }
   ],
   "source": [
    "from sklearn.preprocessing import PolynomialFeatures\n",
    "poly = PolynomialFeatures(degree = 2)\n",
    "X_train_poly = poly.fit_transform(X_train)\n",
    "X_test_poly = poly.fit_transform(X_test)\n",
    "print(\"X Train Polynomial Shape: - {}\".format(X_train_poly.shape))\n",
    "print(\"X Test Polynomial Shape: - {}\".format(X_test_poly.shape))"
   ]
  },
  {
   "cell_type": "code",
   "execution_count": 86,
   "metadata": {},
   "outputs": [
    {
     "name": "stdout",
     "output_type": "stream",
     "text": [
      "(poly deg 2) R-squared score (training): 0.9658797170462006\n",
      "(poly deg 2) R-squared score (test): 0.9639159673952116\n",
      "\n"
     ]
    }
   ],
   "source": [
    "lr = LinearRegression().fit(X_train_poly, y_train)\n",
    "predict_lr= lr.predict(X_test_poly)\n",
    "print('(poly deg 2) R-squared score (training): {}'\n",
    "     .format(lr.score(X_train_poly, y_train)))\n",
    "print('(poly deg 2) R-squared score (test): {}\\n'\n",
    "     .format(lr.score(X_test_poly, y_test)))"
   ]
  },
  {
   "cell_type": "markdown",
   "metadata": {},
   "source": [
    "#### Addition of many polynomial features often leads to overfitting, so we often use polynomial features in combination with regression that has a regularization penalty, like ridge regression"
   ]
  },
  {
   "cell_type": "markdown",
   "metadata": {},
   "source": [
    "## Polynomial with Ridge"
   ]
  },
  {
   "cell_type": "code",
   "execution_count": 87,
   "metadata": {},
   "outputs": [
    {
     "name": "stdout",
     "output_type": "stream",
     "text": [
      "(poly deg 2 + ridge) R-squared score (training): 0.903179909591962\n",
      "(poly deg 2 + ridge) R-squared score (test): 0.9098974961197432\n"
     ]
    }
   ],
   "source": [
    "ridge = Ridge().fit(X_train_poly, y_train)\n",
    "print('(poly deg 2 + ridge) R-squared score (training): {}'\n",
    "     .format(ridge.score(X_train_poly, y_train)))\n",
    "print('(poly deg 2 + ridge) R-squared score (test): {}'\n",
    "     .format(ridge.score(X_test_poly, y_test)))"
   ]
  },
  {
   "cell_type": "markdown",
   "metadata": {},
   "source": [
    "## Linear SVR"
   ]
  },
  {
   "cell_type": "code",
   "execution_count": 88,
   "metadata": {},
   "outputs": [
    {
     "data": {
      "text/plain": [
       "{'C': 10}"
      ]
     },
     "execution_count": 88,
     "metadata": {},
     "output_type": "execute_result"
    }
   ],
   "source": [
    "from sklearn.svm import LinearSVR\n",
    "lsvr = LinearSVR(random_state=10).fit(X_train, y_train)\n",
    "param_grid = {'C': [0.01,0.1,1,10,100]}\n",
    "lsvr=LinearSVR()\n",
    "grid_search = GridSearchCV(lsvr,param_grid,cv=5)\n",
    "grid_search.fit(X_train, y_train)\n",
    "grid_search.best_params_"
   ]
  },
  {
   "cell_type": "code",
   "execution_count": 89,
   "metadata": {},
   "outputs": [
    {
     "name": "stdout",
     "output_type": "stream",
     "text": [
      "Accuracy of Linear SVR classifier on training set: 0.88\n",
      "Accuracy of Linear SVR classifier on test set: 0.89\n"
     ]
    }
   ],
   "source": [
    "lsvr=LinearSVR(C=100).fit(X_train, y_train)\n",
    "print('Accuracy of Linear SVR classifier on training set: {:.2f}'\n",
    "     .format(lsvr.score(X_train, y_train)))\n",
    "print('Accuracy of Linear SVR classifier on test set: {:.2f}'\n",
    "     .format(lsvr.score(X_test, y_test)))"
   ]
  },
  {
   "cell_type": "markdown",
   "metadata": {},
   "source": [
    "## SVM Regressor"
   ]
  },
  {
   "cell_type": "code",
   "execution_count": 90,
   "metadata": {},
   "outputs": [
    {
     "data": {
      "text/plain": [
       "{'C': 100, 'epsilon': 1}"
      ]
     },
     "execution_count": 90,
     "metadata": {},
     "output_type": "execute_result"
    }
   ],
   "source": [
    "from sklearn.svm import SVR\n",
    "param_grid = {'C': [0.01,0.1,1,10,100], 'epsilon': [0.01,0.1,1,10,100]}\n",
    "svr = SVR()\n",
    "grid_search = GridSearchCV(svr,param_grid,cv=5)\n",
    "grid_search.fit(X_train, y_train)\n",
    "grid_search.best_params_"
   ]
  },
  {
   "cell_type": "code",
   "execution_count": 91,
   "metadata": {},
   "outputs": [
    {
     "name": "stdout",
     "output_type": "stream",
     "text": [
      "Accuracy of Knn Regressor on training set: 0.90\n",
      "Accuracy of Knn Regressor on test set: 0.91\n"
     ]
    }
   ],
   "source": [
    "svr = SVR(C=100, epsilon=1).fit(X_train, y_train)\n",
    "print('Accuracy of Knn Regressor on training set: {:.2f}'\n",
    "     .format(svr.score(X_train, y_train)))\n",
    "print('Accuracy of Knn Regressor on test set: {:.2f}'\n",
    "     .format(svr.score(X_test, y_test)))"
   ]
  },
  {
   "cell_type": "markdown",
   "metadata": {},
   "source": [
    "## Decision Tree"
   ]
  },
  {
   "cell_type": "code",
   "execution_count": 92,
   "metadata": {},
   "outputs": [
    {
     "data": {
      "text/plain": [
       "{'max_depth': 6}"
      ]
     },
     "execution_count": 92,
     "metadata": {},
     "output_type": "execute_result"
    }
   ],
   "source": [
    "from sklearn.tree import DecisionTreeRegressor\n",
    "dt = DecisionTreeRegressor(random_state=10)\n",
    "param_grid = {'max_depth': [2, 4, 6 ,8, 10]}\n",
    "grid_search = GridSearchCV(dt, param_grid,cv=5)\n",
    "grid_search.fit(X_train,y_train)\n",
    "grid_search.best_params_"
   ]
  },
  {
   "cell_type": "code",
   "execution_count": 93,
   "metadata": {},
   "outputs": [
    {
     "name": "stdout",
     "output_type": "stream",
     "text": [
      "Accuracy of DT Regressor on training set: 0.9753913875987169\n",
      "Accuracy of Dt Regressor on test set: 0.9650350273065317\n"
     ]
    }
   ],
   "source": [
    "dt = DecisionTreeRegressor(max_depth=6, random_state=10).fit(X_train, y_train)\n",
    "print('Accuracy of DT Regressor on training set: {}'\n",
    "     .format(dt.score(X_train, y_train)))\n",
    "print('Accuracy of Dt Regressor on test set: {}'\n",
    "     .format(dt.score(X_test, y_test)))"
   ]
  },
  {
   "cell_type": "markdown",
   "metadata": {},
   "source": [
    "## <font color='red'>Summary of R- Square Scores for Base Regression Models for Cooling Load"
   ]
  },
  {
   "cell_type": "markdown",
   "metadata": {},
   "source": [
    "1. Linear Regression : - 0.89\n",
    "2. KNN Regressor : - 0.91\n",
    "3. Ridge: - 0.89\n",
    "4. Lasso : - 0.89\n",
    "5. Polynomial : - 0.9639\n",
    "6. Polynomial with Ridge: - 0.90\n",
    "7. Linear SVR : - 0.88\n",
    "8. SVM : - 0.91\n",
    "9. Decision Tree : - 0.9650"
   ]
  },
  {
   "cell_type": "markdown",
   "metadata": {},
   "source": [
    "### Best Base Regression Model for Cooling Load :- Decision Tree with R Square= 0.9650"
   ]
  },
  {
   "cell_type": "markdown",
   "metadata": {},
   "source": [
    "# <font color='green'> Ensembles"
   ]
  },
  {
   "cell_type": "markdown",
   "metadata": {},
   "source": [
    "## Random Forest"
   ]
  },
  {
   "cell_type": "code",
   "execution_count": 94,
   "metadata": {},
   "outputs": [
    {
     "data": {
      "text/plain": [
       "{'max_depth': 6, 'max_features': 6, 'max_leaf_nodes': 8}"
      ]
     },
     "execution_count": 94,
     "metadata": {},
     "output_type": "execute_result"
    }
   ],
   "source": [
    "from sklearn.ensemble import RandomForestRegressor\n",
    "param_grid = {'max_features': [2,4,6,8],\n",
    "            'max_depth': [2,4,6,8],\n",
    "           'max_leaf_nodes':[2,4,6,8]}\n",
    "rf = RandomForestRegressor()\n",
    "grid_search = GridSearchCV(rf,param_grid,cv=5)\n",
    "grid_search.fit(X_train, y_train)\n",
    "grid_search.best_params_"
   ]
  },
  {
   "cell_type": "code",
   "execution_count": 95,
   "metadata": {},
   "outputs": [
    {
     "name": "stdout",
     "output_type": "stream",
     "text": [
      "Accuracy of RF Regressor on training set: 0.94\n",
      "Accuracy of Rf Regressor on test set: 0.93\n"
     ]
    }
   ],
   "source": [
    "rf = RandomForestRegressor(max_depth= 6, max_features=6, max_leaf_nodes=8).fit(X_train, y_train)\n",
    "print('Accuracy of RF Regressor on training set: {:.2f}'\n",
    "     .format(rf.score(X_train, y_train)))\n",
    "print('Accuracy of Rf Regressor on test set: {:.2f}'\n",
    "     .format(rf.score(X_test, y_test)))"
   ]
  },
  {
   "cell_type": "markdown",
   "metadata": {},
   "source": [
    "## Bagging and Pasting"
   ]
  },
  {
   "cell_type": "markdown",
   "metadata": {},
   "source": [
    "### <font color='blue'> Bagging with KNN"
   ]
  },
  {
   "cell_type": "code",
   "execution_count": 96,
   "metadata": {},
   "outputs": [
    {
     "name": "stdout",
     "output_type": "stream",
     "text": [
      "Accuracy of Bagging KNN Regressor on training set: 0.86\n",
      "Accuracy of Bagging KNN on test set: 0.86\n"
     ]
    }
   ],
   "source": [
    "from sklearn.ensemble import BaggingRegressor\n",
    "bag_knn = BaggingRegressor(base_estimator=knn,bootstrap_features=True, max_samples=50).fit(X_train, y_train)\n",
    "print('Accuracy of Bagging KNN Regressor on training set: {:.2f}'\n",
    "     .format(bag_knn.score(X_train, y_train)))\n",
    "print('Accuracy of Bagging KNN on test set: {:.2f}'\n",
    "     .format(bag_knn.score(X_test, y_test)))"
   ]
  },
  {
   "cell_type": "markdown",
   "metadata": {},
   "source": [
    "### <font color='blue'> Pasting with KNN"
   ]
  },
  {
   "cell_type": "code",
   "execution_count": 97,
   "metadata": {},
   "outputs": [
    {
     "name": "stdout",
     "output_type": "stream",
     "text": [
      "Accuracy of Pasting KNN Regressor on training set: 0.86\n",
      "Accuracy of Pasting KNN on test set: 0.87\n"
     ]
    }
   ],
   "source": [
    "paste_knn = BaggingRegressor(base_estimator=knn, max_samples=50, bootstrap=False).fit(X_train, y_train)\n",
    "print('Accuracy of Pasting KNN Regressor on training set: {:.2f}'\n",
    "     .format(paste_knn.score(X_train, y_train)))\n",
    "print('Accuracy of Pasting KNN on test set: {:.2f}'\n",
    "     .format(paste_knn.score(X_test, y_test)))"
   ]
  },
  {
   "cell_type": "markdown",
   "metadata": {},
   "source": [
    "### <font color='blue'> Bagging with Linear SVR"
   ]
  },
  {
   "cell_type": "code",
   "execution_count": 98,
   "metadata": {},
   "outputs": [
    {
     "name": "stdout",
     "output_type": "stream",
     "text": [
      "Accuracy of Bagging Linear SVR Regressor on training set: 0.85\n",
      "Accuracy of Bagging Linear SVR on test set: 0.84\n"
     ]
    }
   ],
   "source": [
    "from sklearn.ensemble import BaggingRegressor\n",
    "bag_lsvr = BaggingRegressor(base_estimator=lsvr,bootstrap_features=True, max_samples=50).fit(X_train, y_train)\n",
    "print('Accuracy of Bagging Linear SVR Regressor on training set: {:.2f}'\n",
    "     .format(bag_lsvr.score(X_train, y_train)))\n",
    "print('Accuracy of Bagging Linear SVR on test set: {:.2f}'\n",
    "     .format(bag_lsvr.score(X_test, y_test)))"
   ]
  },
  {
   "cell_type": "markdown",
   "metadata": {},
   "source": [
    "### <font color='blue'> Pasting with Linear SVR"
   ]
  },
  {
   "cell_type": "code",
   "execution_count": 99,
   "metadata": {},
   "outputs": [
    {
     "name": "stdout",
     "output_type": "stream",
     "text": [
      "Accuracy of Pasting Linear SVR Regressor on training set: 0.88\n",
      "Accuracy of Pasting Linear SVR on test set: 0.88\n"
     ]
    }
   ],
   "source": [
    "from sklearn.ensemble import BaggingRegressor\n",
    "paste_lsvr = BaggingRegressor(base_estimator=lsvr,max_samples=50, bootstrap=False).fit(X_train, y_train)\n",
    "print('Accuracy of Pasting Linear SVR Regressor on training set: {:.2f}'\n",
    "     .format(paste_lsvr.score(X_train, y_train)))\n",
    "print('Accuracy of Pasting Linear SVR on test set: {:.2f}'\n",
    "     .format(paste_lsvr.score(X_test, y_test)))"
   ]
  },
  {
   "cell_type": "markdown",
   "metadata": {},
   "source": [
    "### <font color='blue'> Bagging with SVR"
   ]
  },
  {
   "cell_type": "code",
   "execution_count": 100,
   "metadata": {},
   "outputs": [
    {
     "name": "stdout",
     "output_type": "stream",
     "text": [
      "Accuracy of Bagging Linear SVR Regressor on training set: 0.88\n",
      "Accuracy of Bagging Linear SVR on test set: 0.88\n"
     ]
    }
   ],
   "source": [
    "from sklearn.ensemble import BaggingRegressor\n",
    "bag_svr = BaggingRegressor(base_estimator=svr,bootstrap_features=True, max_samples=50).fit(X_train, y_train)\n",
    "print('Accuracy of Bagging Linear SVR Regressor on training set: {:.2f}'\n",
    "     .format(bag_svr.score(X_train, y_train)))\n",
    "print('Accuracy of Bagging Linear SVR on test set: {:.2f}'\n",
    "     .format(bag_svr.score(X_test, y_test)))"
   ]
  },
  {
   "cell_type": "markdown",
   "metadata": {},
   "source": [
    "### <font color='blue'> Pasting with SVR"
   ]
  },
  {
   "cell_type": "code",
   "execution_count": 101,
   "metadata": {},
   "outputs": [
    {
     "name": "stdout",
     "output_type": "stream",
     "text": [
      "Accuracy of Pasting Linear SVR Regressor on training set: 0.89\n",
      "Accuracy of Pasting Linear SVR on test set: 0.89\n"
     ]
    }
   ],
   "source": [
    "from sklearn.ensemble import BaggingRegressor\n",
    "paste_svr = BaggingRegressor(base_estimator=svr,max_samples=50, bootstrap=False).fit(X_train, y_train)\n",
    "print('Accuracy of Pasting Linear SVR Regressor on training set: {:.2f}'\n",
    "     .format(paste_svr.score(X_train, y_train)))\n",
    "print('Accuracy of Pasting Linear SVR on test set: {:.2f}'\n",
    "     .format(paste_svr.score(X_test, y_test)))"
   ]
  },
  {
   "cell_type": "markdown",
   "metadata": {},
   "source": [
    "### <font color='blue'> Bagging with Decision Tree"
   ]
  },
  {
   "cell_type": "code",
   "execution_count": 102,
   "metadata": {},
   "outputs": [
    {
     "name": "stdout",
     "output_type": "stream",
     "text": [
      "Accuracy of Bagging Decision Tree Regressor on training set: 0.96\n",
      "Accuracy of Bagging Decision Tree Regressor on test set: 0.95\n"
     ]
    }
   ],
   "source": [
    "from sklearn.ensemble import BaggingRegressor\n",
    "bag_dt = BaggingRegressor(base_estimator=dt,bootstrap_features=True, max_samples=50).fit(X_train, y_train)\n",
    "print('Accuracy of Bagging Decision Tree Regressor on training set: {:.2f}'\n",
    "     .format(bag_dt.score(X_train, y_train)))\n",
    "print('Accuracy of Bagging Decision Tree Regressor on test set: {:.2f}'\n",
    "     .format(bag_dt.score(X_test, y_test)))"
   ]
  },
  {
   "cell_type": "markdown",
   "metadata": {},
   "source": [
    "### <font color='blue'> Pasting with Decision Tree"
   ]
  },
  {
   "cell_type": "code",
   "execution_count": 103,
   "metadata": {},
   "outputs": [
    {
     "name": "stdout",
     "output_type": "stream",
     "text": [
      "Accuracy of Pasting Decision Tree on training set: 0.89\n",
      "Accuracy of Pasting Decision Tree on test set: 0.89\n"
     ]
    }
   ],
   "source": [
    "from sklearn.ensemble import BaggingRegressor\n",
    "paste_dt = BaggingRegressor(base_estimator=dt,max_samples=50, bootstrap=False).fit(X_train, y_train)\n",
    "print('Accuracy of Pasting Decision Tree on training set: {:.2f}'\n",
    "     .format(paste_svr.score(X_train, y_train)))\n",
    "print('Accuracy of Pasting Decision Tree on test set: {:.2f}'\n",
    "     .format(paste_svr.score(X_test, y_test)))"
   ]
  },
  {
   "cell_type": "markdown",
   "metadata": {},
   "source": [
    "## Boosting"
   ]
  },
  {
   "cell_type": "markdown",
   "metadata": {},
   "source": [
    "### <font color='blue'> Adaptive Boosting with Decision Tree Regressor"
   ]
  },
  {
   "cell_type": "code",
   "execution_count": 104,
   "metadata": {},
   "outputs": [
    {
     "name": "stdout",
     "output_type": "stream",
     "text": [
      "Accuracy of Adaptive Boosting with Decision Tree Regressor on training set: 0.9803709614273555\n",
      "Accuracy of Adaptive Boosting with Decision Tree Regressor on test set: 0.9680460671013219\n"
     ]
    }
   ],
   "source": [
    "from sklearn.ensemble import AdaBoostRegressor\n",
    "adaboost_dt = AdaBoostRegressor(base_estimator = dt, learning_rate = 0.5).fit(X_train, y_train)\n",
    "print('Accuracy of Adaptive Boosting with Decision Tree Regressor on training set: {}'\n",
    "     .format(adaboost_dt.score(X_train, y_train)))\n",
    "print('Accuracy of Adaptive Boosting with Decision Tree Regressor on test set: {}'\n",
    "     .format(adaboost_dt.score(X_test, y_test)))"
   ]
  },
  {
   "cell_type": "markdown",
   "metadata": {},
   "source": [
    "### <font color='blue'> Adaptive Boosting with Random Forest Regressor"
   ]
  },
  {
   "cell_type": "code",
   "execution_count": 105,
   "metadata": {},
   "outputs": [
    {
     "name": "stdout",
     "output_type": "stream",
     "text": [
      "Accuracy of Adaptive Boosting with Random Forest Regressor on training set: 0.9492990731222487\n",
      "Accuracy of Adaptive Boosting with Random Forest Regressor on test set: 0.9395079595888418\n"
     ]
    }
   ],
   "source": [
    "from sklearn.ensemble import AdaBoostRegressor\n",
    "adaboost_rf = AdaBoostRegressor(base_estimator = rf, learning_rate = 0.5).fit(X_train, y_train)\n",
    "print('Accuracy of Adaptive Boosting with Random Forest Regressor on training set: {}'\n",
    "     .format(adaboost_rf.score(X_train, y_train)))\n",
    "print('Accuracy of Adaptive Boosting with Random Forest Regressor on test set: {}'\n",
    "     .format(adaboost_rf.score(X_test, y_test)))"
   ]
  },
  {
   "cell_type": "markdown",
   "metadata": {},
   "source": [
    "### <font color='blue'> Adaptive Boosting with SVM Regressor"
   ]
  },
  {
   "cell_type": "code",
   "execution_count": 106,
   "metadata": {},
   "outputs": [
    {
     "name": "stdout",
     "output_type": "stream",
     "text": [
      "Accuracy of Adaptive Boosting with SVM Regressor on training set: 0.9095018133123005\n",
      "Accuracy of Adaptive Boosting with SVM Regressor on test set: 0.9146267393218407\n"
     ]
    }
   ],
   "source": [
    "from sklearn.ensemble import AdaBoostRegressor\n",
    "adaboost_svr = AdaBoostRegressor(base_estimator = svr, learning_rate = 0.5).fit(X_train, y_train)\n",
    "print('Accuracy of Adaptive Boosting with SVM Regressor on training set: {}'\n",
    "     .format(adaboost_svr.score(X_train, y_train)))\n",
    "print('Accuracy of Adaptive Boosting with SVM Regressor on test set: {}'\n",
    "     .format(adaboost_svr.score(X_test, y_test)))"
   ]
  },
  {
   "cell_type": "markdown",
   "metadata": {},
   "source": [
    "## Gradient Boosting Regressor"
   ]
  },
  {
   "cell_type": "code",
   "execution_count": 107,
   "metadata": {},
   "outputs": [
    {
     "data": {
      "text/plain": [
       "{'learning_rate': 1, 'n_estimators': 50}"
      ]
     },
     "execution_count": 107,
     "metadata": {},
     "output_type": "execute_result"
    }
   ],
   "source": [
    "from sklearn.ensemble import GradientBoostingRegressor\n",
    "gb=GradientBoostingRegressor(max_depth=4)\n",
    "param_grid = {'learning_rate': [0.1,1,10,100], 'n_estimators': [5,10,20,50]}\n",
    "gb = GradientBoostingRegressor()\n",
    "grid_search = GridSearchCV(gb,param_grid,cv=5)\n",
    "grid_search.fit(X_train, y_train)\n",
    "grid_search.best_params_"
   ]
  },
  {
   "cell_type": "code",
   "execution_count": 108,
   "metadata": {},
   "outputs": [
    {
     "name": "stdout",
     "output_type": "stream",
     "text": [
      "Accuracy of GB Regressor on training set: 0.9936629042839792\n",
      "Accuracy of GB Regressor on test set: 0.9863475217063883\n"
     ]
    }
   ],
   "source": [
    "gb=GradientBoostingRegressor(learning_rate=1, n_estimators=50).fit(X_train, y_train)\n",
    "print('Accuracy of GB Regressor on training set: {}'\n",
    "     .format(gb.score(X_train, y_train)))\n",
    "print('Accuracy of GB Regressor on test set: {}'\n",
    "     .format(gb.score(X_test, y_test)))"
   ]
  },
  {
   "cell_type": "markdown",
   "metadata": {},
   "source": [
    "## Ensemble of All Regressors- Stacking Regressor"
   ]
  },
  {
   "cell_type": "code",
   "execution_count": 109,
   "metadata": {},
   "outputs": [],
   "source": [
    "lr=LinearRegression()\n",
    "knn=KNeighborsRegressor(n_neighbors=8)\n",
    "lsvr=LinearSVR(C=100)\n",
    "svr = SVR(C=100, epsilon=1)\n",
    "rf = RandomForestRegressor(max_depth= 6, max_features=4, max_leaf_nodes=8)"
   ]
  },
  {
   "cell_type": "code",
   "execution_count": 110,
   "metadata": {},
   "outputs": [
    {
     "name": "stdout",
     "output_type": "stream",
     "text": [
      "Accuracy of STR Regressor on training set: 0.991\n",
      "Accuracy of STR Regressor on test set: 0.966\n"
     ]
    }
   ],
   "source": [
    "from mlxtend.regressor import StackingRegressor\n",
    "stregr = StackingRegressor(regressors=[lr, knn, lsvr, svr, rf], \n",
    "                           meta_regressor=svr)\n",
    "stregr.fit(X_train, y_train)\n",
    "str_predict = stregr.predict(X_test)\n",
    "print('Accuracy of STR Regressor on training set: {:.3f}'\n",
    "     .format(stregr.score(X_train, y_train)))\n",
    "print('Accuracy of STR Regressor on test set: {:.3f}'\n",
    "     .format(stregr.score(X_test, y_test)))"
   ]
  },
  {
   "cell_type": "code",
   "execution_count": 111,
   "metadata": {},
   "outputs": [
    {
     "name": "stdout",
     "output_type": "stream",
     "text": [
      "Mean Squared Error: 3.1573\n",
      "Variance Score: 0.9662\n"
     ]
    }
   ],
   "source": [
    "print(\"Mean Squared Error: %.4f\"\n",
    "      % np.mean((stregr.predict(X_test) - y_test) ** 2))\n",
    "print('Variance Score: %.4f' % stregr.score(X_test, y_test))"
   ]
  },
  {
   "cell_type": "markdown",
   "metadata": {},
   "source": [
    "## <font color='Red'> Summary of R- Square Scores for Ensemble Regression Models for Cooling Load"
   ]
  },
  {
   "cell_type": "markdown",
   "metadata": {},
   "source": [
    "1. Random Forest: - 0.93\n",
    "2. Bagging(KNN) : - 0.84\n",
    "3. Pasting(KNN) : - 0.86\n",
    "4. Bagging(Linear SVR) : - 0.87\n",
    "5. Pasting(Linear SVR) : - 0.88\n",
    "6. Bagging(SVR) : - 0.88\n",
    "7. Pasting(SVR) : - 0.89\n",
    "8. Bagging(Decision Tree): - 0.95\n",
    "9. Pasting(Decision Tree): - 0.89\n",
    "10. Adaptive Boosting (Decision Tree) : - 0.9661\n",
    "11. Adaptive Boosting (Random Forest) : - 0.9438\n",
    "12. Adaptive Boosting (SVM Regressor) : - 0.92\n",
    "13. Gradient Boosting : - 0.9863"
   ]
  },
  {
   "cell_type": "markdown",
   "metadata": {},
   "source": [
    "### Best Ensemble Regression Model for Cooling Load :- Gradient Boosting with R Square= 0.9863"
   ]
  },
  {
   "cell_type": "markdown",
   "metadata": {},
   "source": [
    "## <font color=red> Models for classification of efficiency"
   ]
  },
  {
   "cell_type": "markdown",
   "metadata": {},
   "source": [
    "## Data preprocessing"
   ]
  },
  {
   "cell_type": "code",
   "execution_count": 112,
   "metadata": {},
   "outputs": [],
   "source": [
    "X = data_eff.drop(columns=['Efficiency'])\n",
    "y= data_eff['Efficiency']\n",
    "from sklearn.preprocessing import LabelEncoder\n",
    "LE = LabelEncoder()\n",
    "y = LE.fit_transform(y)"
   ]
  },
  {
   "cell_type": "code",
   "execution_count": 113,
   "metadata": {},
   "outputs": [
    {
     "data": {
      "text/plain": [
       "array([0, 0, 0, 0, 0, 0, 0, 0, 0, 0, 0, 0, 0, 0, 0, 0, 1, 0, 0, 1, 0, 0, 0,\n",
       "       0, 2, 2, 2, 2, 2, 2, 2, 2, 2, 2, 2, 2, 2, 2, 2, 2, 2, 2, 2, 2, 2, 2,\n",
       "       2, 2, 0, 0, 0, 0, 0, 0, 0, 0, 0, 0, 0, 0, 0, 0, 0, 0, 1, 1, 1, 1, 1,\n",
       "       1, 1, 1, 2, 2, 2, 2, 2, 2, 2, 2, 2, 2, 2, 2, 2, 2, 2, 2, 0, 0, 0, 0,\n",
       "       2, 2, 2, 2, 0, 0, 0, 0, 0, 0, 0, 0, 0, 0, 0, 0, 0, 0, 0, 0, 1, 1, 1,\n",
       "       1, 1, 1, 1, 1, 2, 2, 2, 2, 2, 2, 2, 2, 2, 2, 2, 2, 2, 2, 2, 2, 0, 0,\n",
       "       0, 0, 2, 2, 2, 2, 0, 0, 0, 0, 0, 0, 0, 0, 0, 0, 0, 0, 0, 0, 0, 0, 1,\n",
       "       1, 1, 1, 1, 1, 1, 1, 2, 2, 2, 2, 2, 2, 2, 2, 2, 2, 2, 2, 2, 2, 2, 2,\n",
       "       0, 0, 0, 0, 2, 2, 2, 2, 0, 0, 0, 0, 0, 0, 0, 0, 0, 0, 0, 0, 0, 0, 0,\n",
       "       0, 1, 1, 1, 1, 1, 1, 1, 1, 2, 2, 2, 2, 2, 2, 2, 2, 2, 2, 2, 2, 2, 2,\n",
       "       2, 2, 0, 0, 0, 0, 2, 2, 2, 2, 0, 0, 0, 0, 0, 0, 0, 0, 0, 0, 0, 0, 0,\n",
       "       0, 0, 0, 1, 1, 1, 1, 1, 1, 1, 1, 2, 2, 2, 2, 2, 2, 2, 2, 2, 2, 2, 2,\n",
       "       2, 2, 2, 2, 0, 0, 0, 0, 2, 2, 2, 2, 0, 0, 0, 0, 1, 1, 1, 1, 0, 0, 0,\n",
       "       0, 0, 0, 0, 0, 1, 1, 1, 1, 1, 1, 1, 1, 2, 2, 2, 2, 2, 2, 2, 2, 2, 2,\n",
       "       2, 2, 0, 0, 0, 0, 0, 0, 0, 0, 0, 0, 0, 0, 0, 0, 0, 0, 1, 1, 1, 1, 0,\n",
       "       0, 0, 0, 0, 0, 0, 0, 1, 1, 1, 1, 1, 1, 1, 1, 2, 2, 2, 2, 2, 2, 2, 2,\n",
       "       2, 2, 2, 2, 2, 2, 2, 2, 0, 0, 0, 0, 0, 0, 0, 0, 0, 0, 0, 0, 1, 1, 1,\n",
       "       1, 0, 0, 0, 0, 0, 0, 0, 0, 1, 1, 1, 1, 1, 1, 1, 1, 2, 2, 2, 2, 2, 2,\n",
       "       2, 2, 2, 2, 2, 2, 2, 2, 2, 0, 0, 0, 0, 0, 2, 0, 2, 2, 0, 0, 0, 0, 1,\n",
       "       1, 1, 1, 0, 0, 0, 0, 0, 0, 0, 0, 1, 1, 1, 1, 1, 1, 1, 1, 2, 2, 2, 2,\n",
       "       2, 2, 2, 2, 2, 2, 2, 2, 2, 2, 0, 0, 0, 0, 0, 0, 0, 0, 0, 0, 0, 0, 0,\n",
       "       0, 1, 1, 1, 1, 0, 0, 0, 0, 0, 0, 0, 0, 1, 1, 1, 1, 1, 1, 1, 1, 2, 2,\n",
       "       2, 2, 2, 2, 2, 2, 2, 2, 2, 2, 2, 2, 2, 0, 0, 0, 0, 0, 2, 2, 2, 2, 1,\n",
       "       1, 1, 1, 1, 1, 1, 1, 1, 0, 0, 1, 0, 0, 0, 0, 1, 1, 1, 1, 1, 1, 1, 1,\n",
       "       0, 0, 0, 0, 0, 0, 0, 0, 0, 0, 0, 0, 0, 0, 0, 0, 0, 0, 0, 0, 0, 0, 0,\n",
       "       0, 1, 1, 1, 1, 1, 1, 1, 1, 1, 0, 1, 1, 0, 0, 0, 0, 1, 1, 1, 1, 1, 1,\n",
       "       1, 1, 0, 0, 0, 0, 0, 0, 0, 0, 0, 0, 0, 0, 0, 0, 0, 0, 0, 0, 0, 0, 0,\n",
       "       0, 0, 0, 1, 1, 1, 1, 1, 1, 1, 1, 1, 1, 0, 0, 0, 0, 0, 0, 1, 1, 1, 1,\n",
       "       1, 1, 1, 1, 0, 0, 0, 0, 0, 0, 0, 0, 0, 0, 0, 0, 0, 0, 0, 0, 0, 0, 0,\n",
       "       0, 0, 0, 0, 0, 1, 1, 1, 1, 1, 1, 1, 1, 0, 1, 1, 0, 0, 0, 0, 0, 1, 1,\n",
       "       1, 1, 1, 1, 1, 1, 0, 0, 0, 0, 0, 0, 0, 0, 0, 0, 0, 0, 0, 0, 0, 0, 0,\n",
       "       0, 0, 0, 0, 0, 0, 0, 1, 1, 1, 1, 1, 1, 1, 1, 0, 0, 1, 1, 0, 0, 0, 0,\n",
       "       1, 1, 1, 1, 1, 1, 1, 1, 0, 0, 0, 0, 2, 2, 2, 2, 0, 0, 0, 0, 0, 0, 0,\n",
       "       0, 0, 0, 0, 0, 0, 0, 0, 0], dtype=int64)"
      ]
     },
     "execution_count": 113,
     "metadata": {},
     "output_type": "execute_result"
    }
   ],
   "source": [
    "y"
   ]
  },
  {
   "cell_type": "code",
   "execution_count": 114,
   "metadata": {},
   "outputs": [],
   "source": [
    "X_train_org, X_test_org, y_train, y_test = train_test_split(X, y, test_size=0.3, random_state=42)\n",
    "\n",
    "scaler = MinMaxScaler()\n",
    "X_train = scaler.fit_transform(X_train_org)\n",
    "X_test = scaler.transform(X_test_org)"
   ]
  },
  {
   "cell_type": "markdown",
   "metadata": {},
   "source": [
    "## Neural Network Classifier"
   ]
  },
  {
   "cell_type": "code",
   "execution_count": 115,
   "metadata": {},
   "outputs": [
    {
     "data": {
      "text/html": [
       "<div>\n",
       "<style scoped>\n",
       "    .dataframe tbody tr th:only-of-type {\n",
       "        vertical-align: middle;\n",
       "    }\n",
       "\n",
       "    .dataframe tbody tr th {\n",
       "        vertical-align: top;\n",
       "    }\n",
       "\n",
       "    .dataframe thead th {\n",
       "        text-align: right;\n",
       "    }\n",
       "</style>\n",
       "<table border=\"1\" class=\"dataframe\">\n",
       "  <thead>\n",
       "    <tr style=\"text-align: right;\">\n",
       "      <th></th>\n",
       "      <th>0</th>\n",
       "      <th>1</th>\n",
       "      <th>2</th>\n",
       "    </tr>\n",
       "  </thead>\n",
       "  <tbody>\n",
       "    <tr>\n",
       "      <th>0</th>\n",
       "      <td>1</td>\n",
       "      <td>0</td>\n",
       "      <td>0</td>\n",
       "    </tr>\n",
       "    <tr>\n",
       "      <th>1</th>\n",
       "      <td>1</td>\n",
       "      <td>0</td>\n",
       "      <td>0</td>\n",
       "    </tr>\n",
       "    <tr>\n",
       "      <th>2</th>\n",
       "      <td>1</td>\n",
       "      <td>0</td>\n",
       "      <td>0</td>\n",
       "    </tr>\n",
       "    <tr>\n",
       "      <th>3</th>\n",
       "      <td>1</td>\n",
       "      <td>0</td>\n",
       "      <td>0</td>\n",
       "    </tr>\n",
       "    <tr>\n",
       "      <th>4</th>\n",
       "      <td>1</td>\n",
       "      <td>0</td>\n",
       "      <td>0</td>\n",
       "    </tr>\n",
       "  </tbody>\n",
       "</table>\n",
       "</div>"
      ],
      "text/plain": [
       "   0  1  2\n",
       "0  1  0  0\n",
       "1  1  0  0\n",
       "2  1  0  0\n",
       "3  1  0  0\n",
       "4  1  0  0"
      ]
     },
     "execution_count": 115,
     "metadata": {},
     "output_type": "execute_result"
    }
   ],
   "source": [
    "y_dummy = pd.get_dummies(y)\n",
    "y_dummy.head()"
   ]
  },
  {
   "cell_type": "code",
   "execution_count": 116,
   "metadata": {},
   "outputs": [],
   "source": [
    "X_train_org, X_test_org, y_train_dummy, y_test_dummy = train_test_split(X, y_dummy, test_size=0.3, random_state=42)\n",
    "\n",
    "scaler = MinMaxScaler()\n",
    "X_train = scaler.fit_transform(X_train_org)\n",
    "X_test = scaler.transform(X_test_org)"
   ]
  },
  {
   "cell_type": "code",
   "execution_count": 117,
   "metadata": {},
   "outputs": [
    {
     "name": "stdout",
     "output_type": "stream",
     "text": [
      "Epoch 1/150\n",
      "537/537 [==============================] - 0s 368us/step - loss: 1.0953 - acc: 0.4674\n",
      "Epoch 2/150\n",
      "537/537 [==============================] - 0s 84us/step - loss: 1.0888 - acc: 0.4749\n",
      "Epoch 3/150\n",
      "537/537 [==============================] - 0s 86us/step - loss: 1.0799 - acc: 0.4749\n",
      "Epoch 4/150\n",
      "537/537 [==============================] - 0s 97us/step - loss: 1.0667 - acc: 0.5251\n",
      "Epoch 5/150\n",
      "537/537 [==============================] - 0s 110us/step - loss: 1.0504 - acc: 0.5568\n",
      "Epoch 6/150\n",
      "537/537 [==============================] - 0s 82us/step - loss: 1.0294 - acc: 0.4991\n",
      "Epoch 7/150\n",
      "537/537 [==============================] - 0s 86us/step - loss: 1.0037 - acc: 0.4879\n",
      "Epoch 8/150\n",
      "537/537 [==============================] - 0s 125us/step - loss: 0.9760 - acc: 0.4804\n",
      "Epoch 9/150\n",
      "537/537 [==============================] - 0s 84us/step - loss: 0.9481 - acc: 0.4804\n",
      "Epoch 10/150\n",
      "537/537 [==============================] - 0s 84us/step - loss: 0.9228 - acc: 0.4804\n",
      "Epoch 11/150\n",
      "537/537 [==============================] - 0s 120us/step - loss: 0.9010 - acc: 0.4804\n",
      "Epoch 12/150\n",
      "537/537 [==============================] - 0s 86us/step - loss: 0.8827 - acc: 0.4804\n",
      "Epoch 13/150\n",
      "537/537 [==============================] - 0s 90us/step - loss: 0.8664 - acc: 0.4804\n",
      "Epoch 14/150\n",
      "537/537 [==============================] - 0s 121us/step - loss: 0.8524 - acc: 0.4804\n",
      "Epoch 15/150\n",
      "537/537 [==============================] - 0s 93us/step - loss: 0.8401 - acc: 0.4804\n",
      "Epoch 16/150\n",
      "537/537 [==============================] - 0s 86us/step - loss: 0.8288 - acc: 0.4916\n",
      "Epoch 17/150\n",
      "537/537 [==============================] - 0s 91us/step - loss: 0.8185 - acc: 0.5047\n",
      "Epoch 18/150\n",
      "537/537 [==============================] - 0s 136us/step - loss: 0.8088 - acc: 0.5084\n",
      "Epoch 19/150\n",
      "537/537 [==============================] - 0s 91us/step - loss: 0.7995 - acc: 0.5270\n",
      "Epoch 20/150\n",
      "537/537 [==============================] - 0s 84us/step - loss: 0.7909 - acc: 0.5475\n",
      "Epoch 21/150\n",
      "537/537 [==============================] - 0s 112us/step - loss: 0.7819 - acc: 0.5363\n",
      "Epoch 22/150\n",
      "537/537 [==============================] - 0s 108us/step - loss: 0.7737 - acc: 0.5754\n",
      "Epoch 23/150\n",
      "537/537 [==============================] - 0s 90us/step - loss: 0.7655 - acc: 0.5624\n",
      "Epoch 24/150\n",
      "537/537 [==============================] - 0s 88us/step - loss: 0.7564 - acc: 0.5996\n",
      "Epoch 25/150\n",
      "537/537 [==============================] - 0s 123us/step - loss: 0.7485 - acc: 0.5922\n",
      "Epoch 26/150\n",
      "537/537 [==============================] - 0s 82us/step - loss: 0.7395 - acc: 0.6127\n",
      "Epoch 27/150\n",
      "537/537 [==============================] - 0s 84us/step - loss: 0.7314 - acc: 0.6108\n",
      "Epoch 28/150\n",
      "537/537 [==============================] - 0s 121us/step - loss: 0.7228 - acc: 0.6108\n",
      "Epoch 29/150\n",
      "537/537 [==============================] - 0s 123us/step - loss: 0.7144 - acc: 0.6387\n",
      "Epoch 30/150\n",
      "537/537 [==============================] - 0s 105us/step - loss: 0.7062 - acc: 0.7616\n",
      "Epoch 31/150\n",
      "537/537 [==============================] - 0s 133us/step - loss: 0.6984 - acc: 0.7821\n",
      "Epoch 32/150\n",
      "537/537 [==============================] - 0s 136us/step - loss: 0.6903 - acc: 0.7877\n",
      "Epoch 33/150\n",
      "537/537 [==============================] - 0s 114us/step - loss: 0.6821 - acc: 0.7933\n",
      "Epoch 34/150\n",
      "537/537 [==============================] - 0s 151us/step - loss: 0.6747 - acc: 0.8138\n",
      "Epoch 35/150\n",
      "537/537 [==============================] - 0s 135us/step - loss: 0.6674 - acc: 0.8156\n",
      "Epoch 36/150\n",
      "537/537 [==============================] - 0s 120us/step - loss: 0.6593 - acc: 0.8175\n",
      "Epoch 37/150\n",
      "537/537 [==============================] - 0s 124us/step - loss: 0.6524 - acc: 0.8212\n",
      "Epoch 38/150\n",
      "537/537 [==============================] - 0s 151us/step - loss: 0.6454 - acc: 0.8212\n",
      "Epoch 39/150\n",
      "537/537 [==============================] - 0s 126us/step - loss: 0.6382 - acc: 0.8268\n",
      "Epoch 40/150\n",
      "537/537 [==============================] - 0s 120us/step - loss: 0.6316 - acc: 0.8250\n",
      "Epoch 41/150\n",
      "537/537 [==============================] - 0s 142us/step - loss: 0.6252 - acc: 0.8156\n",
      "Epoch 42/150\n",
      "537/537 [==============================] - 0s 125us/step - loss: 0.6186 - acc: 0.8305\n",
      "Epoch 43/150\n",
      "537/537 [==============================] - 0s 120us/step - loss: 0.6121 - acc: 0.8287\n",
      "Epoch 44/150\n",
      "537/537 [==============================] - 0s 155us/step - loss: 0.6059 - acc: 0.8175\n",
      "Epoch 45/150\n",
      "537/537 [==============================] - 0s 120us/step - loss: 0.6003 - acc: 0.8305\n",
      "Epoch 46/150\n",
      "537/537 [==============================] - 0s 121us/step - loss: 0.5943 - acc: 0.8305\n",
      "Epoch 47/150\n",
      "537/537 [==============================] - 0s 121us/step - loss: 0.5892 - acc: 0.8380\n",
      "Epoch 48/150\n",
      "537/537 [==============================] - 0s 118us/step - loss: 0.5838 - acc: 0.8361\n",
      "Epoch 49/150\n",
      "537/537 [==============================] - 0s 93us/step - loss: 0.5787 - acc: 0.8305\n",
      "Epoch 50/150\n",
      "537/537 [==============================] - 0s 93us/step - loss: 0.5738 - acc: 0.8343\n",
      "Epoch 51/150\n",
      "537/537 [==============================] - 0s 127us/step - loss: 0.5682 - acc: 0.8399\n",
      "Epoch 52/150\n",
      "537/537 [==============================] - 0s 129us/step - loss: 0.5642 - acc: 0.8399\n",
      "Epoch 53/150\n",
      "537/537 [==============================] - 0s 129us/step - loss: 0.5599 - acc: 0.8361\n",
      "Epoch 54/150\n",
      "537/537 [==============================] - 0s 138us/step - loss: 0.5561 - acc: 0.8436\n",
      "Epoch 55/150\n",
      "537/537 [==============================] - 0s 148us/step - loss: 0.5512 - acc: 0.8399\n",
      "Epoch 56/150\n",
      "537/537 [==============================] - 0s 136us/step - loss: 0.5470 - acc: 0.8268\n",
      "Epoch 57/150\n",
      "537/537 [==============================] - 0s 131us/step - loss: 0.5441 - acc: 0.8417\n",
      "Epoch 58/150\n",
      "537/537 [==============================] - 0s 140us/step - loss: 0.5402 - acc: 0.8473\n",
      "Epoch 59/150\n",
      "537/537 [==============================] - 0s 153us/step - loss: 0.5369 - acc: 0.8454\n",
      "Epoch 60/150\n",
      "537/537 [==============================] - 0s 146us/step - loss: 0.5340 - acc: 0.8436\n",
      "Epoch 61/150\n",
      "537/537 [==============================] - 0s 123us/step - loss: 0.5304 - acc: 0.8492\n",
      "Epoch 62/150\n",
      "537/537 [==============================] - 0s 127us/step - loss: 0.5273 - acc: 0.8547\n",
      "Epoch 63/150\n",
      "537/537 [==============================] - 0s 146us/step - loss: 0.5245 - acc: 0.8454\n",
      "Epoch 64/150\n",
      "537/537 [==============================] - 0s 140us/step - loss: 0.5214 - acc: 0.8492\n",
      "Epoch 65/150\n",
      "537/537 [==============================] - 0s 136us/step - loss: 0.5188 - acc: 0.8547\n",
      "Epoch 66/150\n",
      "537/537 [==============================] - 0s 136us/step - loss: 0.5160 - acc: 0.8510\n",
      "Epoch 67/150\n",
      "537/537 [==============================] - 0s 138us/step - loss: 0.5142 - acc: 0.8566\n",
      "Epoch 68/150\n",
      "537/537 [==============================] - 0s 144us/step - loss: 0.5099 - acc: 0.8566\n",
      "Epoch 69/150\n",
      "537/537 [==============================] - 0s 155us/step - loss: 0.5094 - acc: 0.8510\n",
      "Epoch 70/150\n",
      "537/537 [==============================] - 0s 136us/step - loss: 0.5066 - acc: 0.8510\n",
      "Epoch 71/150\n",
      "537/537 [==============================] - 0s 155us/step - loss: 0.5038 - acc: 0.8529\n",
      "Epoch 72/150\n",
      "537/537 [==============================] - 0s 155us/step - loss: 0.5023 - acc: 0.8547\n",
      "Epoch 73/150\n",
      "537/537 [==============================] - 0s 129us/step - loss: 0.4994 - acc: 0.8547\n",
      "Epoch 74/150\n",
      "537/537 [==============================] - 0s 177us/step - loss: 0.4988 - acc: 0.8566\n",
      "Epoch 75/150\n",
      "537/537 [==============================] - 0s 137us/step - loss: 0.4961 - acc: 0.8566\n",
      "Epoch 76/150\n",
      "537/537 [==============================] - 0s 159us/step - loss: 0.4944 - acc: 0.8510\n",
      "Epoch 77/150\n",
      "537/537 [==============================] - 0s 149us/step - loss: 0.4929 - acc: 0.8510\n",
      "Epoch 78/150\n",
      "537/537 [==============================] - 0s 138us/step - loss: 0.4913 - acc: 0.8566\n",
      "Epoch 79/150\n",
      "537/537 [==============================] - 0s 166us/step - loss: 0.4901 - acc: 0.8529\n",
      "Epoch 80/150\n",
      "537/537 [==============================] - 0s 155us/step - loss: 0.4877 - acc: 0.8585\n",
      "Epoch 81/150\n",
      "537/537 [==============================] - 0s 144us/step - loss: 0.4857 - acc: 0.8510\n",
      "Epoch 82/150\n",
      "537/537 [==============================] - 0s 140us/step - loss: 0.4851 - acc: 0.8547\n",
      "Epoch 83/150\n",
      "537/537 [==============================] - 0s 157us/step - loss: 0.4836 - acc: 0.8510\n",
      "Epoch 84/150\n"
     ]
    },
    {
     "name": "stdout",
     "output_type": "stream",
     "text": [
      "537/537 [==============================] - 0s 133us/step - loss: 0.4818 - acc: 0.8547\n",
      "Epoch 85/150\n",
      "537/537 [==============================] - 0s 174us/step - loss: 0.4804 - acc: 0.8492\n",
      "Epoch 86/150\n",
      "537/537 [==============================] - 0s 140us/step - loss: 0.4792 - acc: 0.8603\n",
      "Epoch 87/150\n",
      "537/537 [==============================] - 0s 142us/step - loss: 0.4770 - acc: 0.8566\n",
      "Epoch 88/150\n",
      "537/537 [==============================] - 0s 159us/step - loss: 0.4775 - acc: 0.8547\n",
      "Epoch 89/150\n",
      "537/537 [==============================] - 0s 159us/step - loss: 0.4754 - acc: 0.8566\n",
      "Epoch 90/150\n",
      "537/537 [==============================] - 0s 144us/step - loss: 0.4740 - acc: 0.8492\n",
      "Epoch 91/150\n",
      "537/537 [==============================] - 0s 118us/step - loss: 0.4731 - acc: 0.8529\n",
      "Epoch 92/150\n",
      "537/537 [==============================] - 0s 105us/step - loss: 0.4721 - acc: 0.8622\n",
      "Epoch 93/150\n",
      "537/537 [==============================] - 0s 116us/step - loss: 0.4706 - acc: 0.8547\n",
      "Epoch 94/150\n",
      "537/537 [==============================] - 0s 116us/step - loss: 0.4700 - acc: 0.8585\n",
      "Epoch 95/150\n",
      "537/537 [==============================] - 0s 114us/step - loss: 0.4682 - acc: 0.8529\n",
      "Epoch 96/150\n",
      "537/537 [==============================] - 0s 97us/step - loss: 0.4666 - acc: 0.8585\n",
      "Epoch 97/150\n",
      "537/537 [==============================] - 0s 108us/step - loss: 0.4670 - acc: 0.8510\n",
      "Epoch 98/150\n",
      "537/537 [==============================] - 0s 118us/step - loss: 0.4659 - acc: 0.8547\n",
      "Epoch 99/150\n",
      "537/537 [==============================] - 0s 108us/step - loss: 0.4638 - acc: 0.8529\n",
      "Epoch 100/150\n",
      "537/537 [==============================] - 0s 110us/step - loss: 0.4627 - acc: 0.8622\n",
      "Epoch 101/150\n",
      "537/537 [==============================] - 0s 95us/step - loss: 0.4626 - acc: 0.8566\n",
      "Epoch 102/150\n",
      "537/537 [==============================] - 0s 108us/step - loss: 0.4616 - acc: 0.8566\n",
      "Epoch 103/150\n",
      "537/537 [==============================] - 0s 116us/step - loss: 0.4601 - acc: 0.8585\n",
      "Epoch 104/150\n",
      "537/537 [==============================] - 0s 114us/step - loss: 0.4599 - acc: 0.8492\n",
      "Epoch 105/150\n",
      "537/537 [==============================] - 0s 110us/step - loss: 0.4587 - acc: 0.8492\n",
      "Epoch 106/150\n",
      "537/537 [==============================] - 0s 114us/step - loss: 0.4590 - acc: 0.8492\n",
      "Epoch 107/150\n",
      "537/537 [==============================] - 0s 110us/step - loss: 0.4568 - acc: 0.8585\n",
      "Epoch 108/150\n",
      "537/537 [==============================] - 0s 99us/step - loss: 0.4561 - acc: 0.8603\n",
      "Epoch 109/150\n",
      "537/537 [==============================] - 0s 120us/step - loss: 0.4555 - acc: 0.8529\n",
      "Epoch 110/150\n",
      "537/537 [==============================] - 0s 112us/step - loss: 0.4544 - acc: 0.8622\n",
      "Epoch 111/150\n",
      "537/537 [==============================] - 0s 112us/step - loss: 0.4540 - acc: 0.8510\n",
      "Epoch 112/150\n",
      "537/537 [==============================] - 0s 90us/step - loss: 0.4531 - acc: 0.8547\n",
      "Epoch 113/150\n",
      "537/537 [==============================] - 0s 118us/step - loss: 0.4526 - acc: 0.8529\n",
      "Epoch 114/150\n",
      "537/537 [==============================] - 0s 91us/step - loss: 0.4519 - acc: 0.8510\n",
      "Epoch 115/150\n",
      "537/537 [==============================] - 0s 90us/step - loss: 0.4501 - acc: 0.8603\n",
      "Epoch 116/150\n",
      "537/537 [==============================] - 0s 120us/step - loss: 0.4502 - acc: 0.8566\n",
      "Epoch 117/150\n",
      "537/537 [==============================] - 0s 140us/step - loss: 0.4501 - acc: 0.8547\n",
      "Epoch 118/150\n",
      "537/537 [==============================] - 0s 97us/step - loss: 0.4481 - acc: 0.8566\n",
      "Epoch 119/150\n",
      "537/537 [==============================] - 0s 120us/step - loss: 0.4482 - acc: 0.8585\n",
      "Epoch 120/150\n",
      "537/537 [==============================] - 0s 120us/step - loss: 0.4476 - acc: 0.8603\n",
      "Epoch 121/150\n",
      "537/537 [==============================] - 0s 95us/step - loss: 0.4458 - acc: 0.8566\n",
      "Epoch 122/150\n",
      "537/537 [==============================] - 0s 111us/step - loss: 0.4459 - acc: 0.8566\n",
      "Epoch 123/150\n",
      "537/537 [==============================] - 0s 115us/step - loss: 0.4439 - acc: 0.8603\n",
      "Epoch 124/150\n",
      "537/537 [==============================] - 0s 96us/step - loss: 0.4444 - acc: 0.8547\n",
      "Epoch 125/150\n",
      "537/537 [==============================] - 0s 110us/step - loss: 0.4429 - acc: 0.8585\n",
      "Epoch 126/150\n",
      "537/537 [==============================] - 0s 120us/step - loss: 0.4431 - acc: 0.8585\n",
      "Epoch 127/150\n",
      "537/537 [==============================] - 0s 91us/step - loss: 0.4393 - acc: 0.8603\n",
      "Epoch 128/150\n",
      "537/537 [==============================] - 0s 121us/step - loss: 0.4417 - acc: 0.8492\n",
      "Epoch 129/150\n",
      "537/537 [==============================] - 0s 110us/step - loss: 0.4412 - acc: 0.8603\n",
      "Epoch 130/150\n",
      "537/537 [==============================] - 0s 95us/step - loss: 0.4391 - acc: 0.8585\n",
      "Epoch 131/150\n",
      "537/537 [==============================] - 0s 112us/step - loss: 0.4404 - acc: 0.8473\n",
      "Epoch 132/150\n",
      "537/537 [==============================] - 0s 123us/step - loss: 0.4385 - acc: 0.8566\n",
      "Epoch 133/150\n",
      "537/537 [==============================] - 0s 110us/step - loss: 0.4391 - acc: 0.8529\n",
      "Epoch 134/150\n",
      "537/537 [==============================] - 0s 108us/step - loss: 0.4371 - acc: 0.8436\n",
      "Epoch 135/150\n",
      "537/537 [==============================] - 0s 123us/step - loss: 0.4375 - acc: 0.8566\n",
      "Epoch 136/150\n",
      "537/537 [==============================] - 0s 116us/step - loss: 0.4359 - acc: 0.8529\n",
      "Epoch 137/150\n",
      "537/537 [==============================] - 0s 93us/step - loss: 0.4365 - acc: 0.8566\n",
      "Epoch 138/150\n",
      "537/537 [==============================] - 0s 116us/step - loss: 0.4342 - acc: 0.8529\n",
      "Epoch 139/150\n",
      "537/537 [==============================] - 0s 97us/step - loss: 0.4361 - acc: 0.8529\n",
      "Epoch 140/150\n",
      "537/537 [==============================] - 0s 114us/step - loss: 0.4344 - acc: 0.8566\n",
      "Epoch 141/150\n",
      "537/537 [==============================] - 0s 114us/step - loss: 0.4324 - acc: 0.8473\n",
      "Epoch 142/150\n",
      "537/537 [==============================] - 0s 120us/step - loss: 0.4332 - acc: 0.8492\n",
      "Epoch 143/150\n",
      "537/537 [==============================] - 0s 97us/step - loss: 0.4323 - acc: 0.8529\n",
      "Epoch 144/150\n",
      "537/537 [==============================] - 0s 118us/step - loss: 0.4321 - acc: 0.8641\n",
      "Epoch 145/150\n",
      "537/537 [==============================] - 0s 120us/step - loss: 0.4325 - acc: 0.8585\n",
      "Epoch 146/150\n",
      "537/537 [==============================] - 0s 103us/step - loss: 0.4302 - acc: 0.8603\n",
      "Epoch 147/150\n",
      "537/537 [==============================] - 0s 108us/step - loss: 0.4288 - acc: 0.8566\n",
      "Epoch 148/150\n",
      "537/537 [==============================] - 0s 131us/step - loss: 0.4303 - acc: 0.8454\n",
      "Epoch 149/150\n",
      "537/537 [==============================] - 0s 106us/step - loss: 0.4294 - acc: 0.8529\n",
      "Epoch 150/150\n",
      "537/537 [==============================] - 0s 118us/step - loss: 0.4288 - acc: 0.8529\n"
     ]
    },
    {
     "data": {
      "text/plain": [
       "<keras.callbacks.History at 0x265cd3a3438>"
      ]
     },
     "execution_count": 117,
     "metadata": {},
     "output_type": "execute_result"
    }
   ],
   "source": [
    "nn_clf = Sequential()\n",
    "nn_clf.add(Dense(5, input_dim=8, kernel_initializer='uniform', activation='relu'))\n",
    "nn_clf.add(Dense(5, kernel_initializer='uniform', activation='relu'))\n",
    "nn_clf.add(Dense(3, activation='sigmoid'))\n",
    "\n",
    "nn_clf.compile(loss='categorical_crossentropy', metrics=['accuracy'], optimizer='rmsprop')\n",
    "\n",
    "nn_clf.fit(X_train, y_train_dummy, batch_size=10, epochs=150)"
   ]
  },
  {
   "cell_type": "code",
   "execution_count": 118,
   "metadata": {},
   "outputs": [
    {
     "data": {
      "text/plain": [
       "array([0, 0, 1, 1, 0, 0, 0, 0, 0, 0, 0, 1, 0, 2, 0, 1, 1, 2, 0, 1, 1, 1, 2,\n",
       "       0, 2, 0, 1, 1, 0, 0, 2, 2, 0, 0, 0, 0, 1, 0, 1, 2, 0, 2, 2, 1, 2, 2,\n",
       "       2, 2, 0, 0, 1, 2, 0, 0, 2, 2, 2, 0, 1, 1, 0, 0, 2, 0, 0, 0, 0, 2, 2,\n",
       "       2, 0, 1, 2, 0, 1, 2, 1, 0, 1, 0, 0, 0, 2, 0, 2, 0, 0, 1, 0, 0, 2, 0,\n",
       "       2, 2, 1, 2, 0, 0, 2, 2, 1, 1, 2, 0, 0, 0, 0, 0, 0, 2, 1, 1, 0, 0, 2,\n",
       "       0, 2, 2, 2, 0, 0, 2, 0, 0, 0, 0, 0, 0, 0, 1, 0, 1, 0, 0, 0, 0, 1, 1,\n",
       "       0, 0, 2, 1, 0, 0, 1, 2, 2, 0, 1, 1, 1, 0, 0, 2, 0, 0, 0, 1, 2, 1, 1,\n",
       "       1, 0, 2, 0, 2, 0, 1, 1, 2, 2, 1, 2, 1, 2, 1, 2, 2, 1, 1, 2, 0, 1, 2,\n",
       "       1, 2, 0, 0, 2, 1, 0, 0, 1, 2, 1, 0, 0, 2, 1, 2, 0, 1, 0, 0, 2, 1, 0,\n",
       "       0, 0, 2, 1, 0, 0, 1, 2, 2, 0, 0, 0, 0, 0, 2, 0, 0, 0, 0, 0, 0, 1, 0,\n",
       "       0], dtype=int64)"
      ]
     },
     "execution_count": 118,
     "metadata": {},
     "output_type": "execute_result"
    }
   ],
   "source": [
    "y_pred = nn_clf.predict(X_test)\n",
    "y_pred = np.argmax(y_pred, axis=1)\n",
    "y_pred"
   ]
  },
  {
   "cell_type": "code",
   "execution_count": 119,
   "metadata": {},
   "outputs": [
    {
     "name": "stdout",
     "output_type": "stream",
     "text": [
      "Test accuracy score: 0.8354978354978355\n"
     ]
    }
   ],
   "source": [
    "from sklearn.metrics import accuracy_score\n",
    "print('Test accuracy score: {}'.format(accuracy_score(y_true=y_test, y_pred=y_pred)))"
   ]
  },
  {
   "cell_type": "code",
   "execution_count": 120,
   "metadata": {},
   "outputs": [
    {
     "name": "stdout",
     "output_type": "stream",
     "text": [
      "Confusion matrix for efficiency: \n",
      "\n",
      "[[93 10 10]\n",
      " [14 47  0]\n",
      " [ 4  0 53]] \n",
      "\n"
     ]
    }
   ],
   "source": [
    "from sklearn.metrics import confusion_matrix\n",
    "\n",
    "print('Confusion matrix for efficiency: \\n')\n",
    "print(confusion_matrix(y_true=y_test, y_pred=y_pred), '\\n')"
   ]
  },
  {
   "cell_type": "code",
   "execution_count": 121,
   "metadata": {},
   "outputs": [
    {
     "name": "stdout",
     "output_type": "stream",
     "text": [
      "Classification Report for efficiency: \n",
      "\n",
      "             precision    recall  f1-score   support\n",
      "\n",
      "          0       0.84      0.82      0.83       113\n",
      "          1       0.82      0.77      0.80        61\n",
      "          2       0.84      0.93      0.88        57\n",
      "\n",
      "avg / total       0.84      0.84      0.83       231\n",
      "\n"
     ]
    }
   ],
   "source": [
    "from sklearn.metrics import classification_report, confusion_matrix\n",
    "print('Classification Report for efficiency: \\n')\n",
    "print(classification_report(y_true=y_test, y_pred=y_pred))"
   ]
  },
  {
   "cell_type": "code",
   "execution_count": 122,
   "metadata": {},
   "outputs": [
    {
     "name": "stdout",
     "output_type": "stream",
     "text": [
      "Epoch 1/100\n",
      "537/537 [==============================] - 0s 454us/step - loss: 1.0856 - acc: 0.3482\n",
      "Epoch 2/100\n",
      "537/537 [==============================] - 0s 83us/step - loss: 1.0172 - acc: 0.4898\n",
      "Epoch 3/100\n",
      "537/537 [==============================] - 0s 84us/step - loss: 0.9299 - acc: 0.5307\n",
      "Epoch 4/100\n",
      "537/537 [==============================] - 0s 120us/step - loss: 0.8446 - acc: 0.5475\n",
      "Epoch 5/100\n",
      "537/537 [==============================] - 0s 88us/step - loss: 0.7708 - acc: 0.5661\n",
      "Epoch 6/100\n",
      "537/537 [==============================] - 0s 85us/step - loss: 0.7130 - acc: 0.5549\n",
      "Epoch 7/100\n",
      "537/537 [==============================] - 0s 116us/step - loss: 0.6693 - acc: 0.6518\n",
      "Epoch 8/100\n",
      "537/537 [==============================] - 0s 93us/step - loss: 0.6319 - acc: 0.6983\n",
      "Epoch 9/100\n",
      "537/537 [==============================] - 0s 95us/step - loss: 0.5993 - acc: 0.7896\n",
      "Epoch 10/100\n",
      "537/537 [==============================] - 0s 95us/step - loss: 0.5699 - acc: 0.7821\n",
      "Epoch 11/100\n",
      "537/537 [==============================] - 0s 116us/step - loss: 0.5440 - acc: 0.8156\n",
      "Epoch 12/100\n",
      "537/537 [==============================] - 0s 88us/step - loss: 0.5169 - acc: 0.8324\n",
      "Epoch 13/100\n",
      "537/537 [==============================] - 0s 91us/step - loss: 0.4937 - acc: 0.8361\n",
      "Epoch 14/100\n",
      "537/537 [==============================] - 0s 129us/step - loss: 0.4739 - acc: 0.8417\n",
      "Epoch 15/100\n",
      "537/537 [==============================] - 0s 84us/step - loss: 0.4573 - acc: 0.8287\n",
      "Epoch 16/100\n",
      "537/537 [==============================] - 0s 88us/step - loss: 0.4468 - acc: 0.8454\n",
      "Epoch 17/100\n",
      "537/537 [==============================] - 0s 97us/step - loss: 0.4336 - acc: 0.8603\n",
      "Epoch 18/100\n",
      "537/537 [==============================] - 0s 120us/step - loss: 0.4231 - acc: 0.8510\n",
      "Epoch 19/100\n",
      "537/537 [==============================] - 0s 93us/step - loss: 0.4142 - acc: 0.8417\n",
      "Epoch 20/100\n",
      "537/537 [==============================] - 0s 86us/step - loss: 0.4062 - acc: 0.8529\n",
      "Epoch 21/100\n",
      "537/537 [==============================] - 0s 120us/step - loss: 0.4028 - acc: 0.8510\n",
      "Epoch 22/100\n",
      "537/537 [==============================] - 0s 88us/step - loss: 0.3957 - acc: 0.8547\n",
      "Epoch 23/100\n",
      "537/537 [==============================] - 0s 88us/step - loss: 0.3912 - acc: 0.8510\n",
      "Epoch 24/100\n",
      "537/537 [==============================] - 0s 108us/step - loss: 0.3872 - acc: 0.8622\n",
      "Epoch 25/100\n",
      "537/537 [==============================] - 0s 97us/step - loss: 0.3811 - acc: 0.8603\n",
      "Epoch 26/100\n",
      "537/537 [==============================] - 0s 91us/step - loss: 0.3803 - acc: 0.8454\n",
      "Epoch 27/100\n",
      "537/537 [==============================] - 0s 90us/step - loss: 0.3779 - acc: 0.8529\n",
      "Epoch 28/100\n",
      "537/537 [==============================] - 0s 127us/step - loss: 0.3784 - acc: 0.8622\n",
      "Epoch 29/100\n",
      "537/537 [==============================] - 0s 88us/step - loss: 0.3745 - acc: 0.8622\n",
      "Epoch 30/100\n",
      "537/537 [==============================] - 0s 88us/step - loss: 0.3731 - acc: 0.8641\n",
      "Epoch 31/100\n",
      "537/537 [==============================] - 0s 120us/step - loss: 0.3717 - acc: 0.8492\n",
      "Epoch 32/100\n",
      "537/537 [==============================] - 0s 95us/step - loss: 0.3688 - acc: 0.8622\n",
      "Epoch 33/100\n",
      "537/537 [==============================] - 0s 90us/step - loss: 0.3686 - acc: 0.8603\n",
      "Epoch 34/100\n",
      "537/537 [==============================] - 0s 90us/step - loss: 0.3657 - acc: 0.8622\n",
      "Epoch 35/100\n",
      "537/537 [==============================] - 0s 121us/step - loss: 0.3625 - acc: 0.8696\n",
      "Epoch 36/100\n",
      "537/537 [==============================] - 0s 91us/step - loss: 0.3620 - acc: 0.8603\n",
      "Epoch 37/100\n",
      "537/537 [==============================] - 0s 88us/step - loss: 0.3619 - acc: 0.8678\n",
      "Epoch 38/100\n",
      "537/537 [==============================] - 0s 108us/step - loss: 0.3613 - acc: 0.8641\n",
      "Epoch 39/100\n",
      "537/537 [==============================] - 0s 105us/step - loss: 0.3619 - acc: 0.8641\n",
      "Epoch 40/100\n",
      "537/537 [==============================] - 0s 90us/step - loss: 0.3574 - acc: 0.8529\n",
      "Epoch 41/100\n",
      "537/537 [==============================] - 0s 88us/step - loss: 0.3592 - acc: 0.8585\n",
      "Epoch 42/100\n",
      "537/537 [==============================] - 0s 125us/step - loss: 0.3569 - acc: 0.8734\n",
      "Epoch 43/100\n",
      "537/537 [==============================] - 0s 86us/step - loss: 0.3567 - acc: 0.8622\n",
      "Epoch 44/100\n",
      "537/537 [==============================] - 0s 88us/step - loss: 0.3560 - acc: 0.8585\n",
      "Epoch 45/100\n",
      "537/537 [==============================] - 0s 99us/step - loss: 0.3523 - acc: 0.8696\n",
      "Epoch 46/100\n",
      "537/537 [==============================] - 0s 112us/step - loss: 0.3518 - acc: 0.8566\n",
      "Epoch 47/100\n",
      "537/537 [==============================] - 0s 91us/step - loss: 0.3524 - acc: 0.8678\n",
      "Epoch 48/100\n",
      "537/537 [==============================] - 0s 88us/step - loss: 0.3512 - acc: 0.8547\n",
      "Epoch 49/100\n",
      "537/537 [==============================] - 0s 118us/step - loss: 0.3486 - acc: 0.8696\n",
      "Epoch 50/100\n",
      "537/537 [==============================] - 0s 88us/step - loss: 0.3493 - acc: 0.8678\n",
      "Epoch 51/100\n",
      "537/537 [==============================] - 0s 88us/step - loss: 0.3490 - acc: 0.8566\n",
      "Epoch 52/100\n",
      "537/537 [==============================] - 0s 90us/step - loss: 0.3466 - acc: 0.8585\n",
      "Epoch 53/100\n",
      "537/537 [==============================] - 0s 118us/step - loss: 0.3477 - acc: 0.8641\n",
      "Epoch 54/100\n",
      "537/537 [==============================] - 0s 90us/step - loss: 0.3452 - acc: 0.8622\n",
      "Epoch 55/100\n",
      "537/537 [==============================] - 0s 120us/step - loss: 0.3400 - acc: 0.8622\n",
      "Epoch 56/100\n",
      "537/537 [==============================] - 0s 88us/step - loss: 0.3443 - acc: 0.8566\n",
      "Epoch 57/100\n",
      "537/537 [==============================] - 0s 90us/step - loss: 0.3429 - acc: 0.8603\n",
      "Epoch 58/100\n",
      "537/537 [==============================] - 0s 86us/step - loss: 0.3460 - acc: 0.8715\n",
      "Epoch 59/100\n",
      "537/537 [==============================] - 0s 125us/step - loss: 0.3430 - acc: 0.8585\n",
      "Epoch 60/100\n",
      "537/537 [==============================] - 0s 86us/step - loss: 0.3428 - acc: 0.8715\n",
      "Epoch 61/100\n",
      "537/537 [==============================] - 0s 86us/step - loss: 0.3398 - acc: 0.8585\n",
      "Epoch 62/100\n",
      "537/537 [==============================] - 0s 86us/step - loss: 0.3419 - acc: 0.8659\n",
      "Epoch 63/100\n",
      "537/537 [==============================] - 0s 118us/step - loss: 0.3397 - acc: 0.8622\n",
      "Epoch 64/100\n",
      "537/537 [==============================] - 0s 99us/step - loss: 0.3390 - acc: 0.8659\n",
      "Epoch 65/100\n",
      "537/537 [==============================] - 0s 120us/step - loss: 0.3417 - acc: 0.8622\n",
      "Epoch 66/100\n",
      "537/537 [==============================] - 0s 106us/step - loss: 0.3383 - acc: 0.8752\n",
      "Epoch 67/100\n",
      "537/537 [==============================] - 0s 99us/step - loss: 0.3348 - acc: 0.8808\n",
      "Epoch 68/100\n",
      "537/537 [==============================] - 0s 114us/step - loss: 0.3376 - acc: 0.8696\n",
      "Epoch 69/100\n",
      "537/537 [==============================] - 0s 88us/step - loss: 0.3347 - acc: 0.8696\n",
      "Epoch 70/100\n",
      "537/537 [==============================] - 0s 123us/step - loss: 0.3368 - acc: 0.8622\n",
      "Epoch 71/100\n",
      "537/537 [==============================] - 0s 91us/step - loss: 0.3310 - acc: 0.8715\n",
      "Epoch 72/100\n",
      "537/537 [==============================] - 0s 110us/step - loss: 0.3312 - acc: 0.8622\n",
      "Epoch 73/100\n",
      "537/537 [==============================] - 0s 118us/step - loss: 0.3353 - acc: 0.8678\n",
      "Epoch 74/100\n",
      "537/537 [==============================] - 0s 95us/step - loss: 0.3329 - acc: 0.8678\n",
      "Epoch 75/100\n",
      "537/537 [==============================] - 0s 125us/step - loss: 0.3326 - acc: 0.8678\n",
      "Epoch 76/100\n",
      "537/537 [==============================] - 0s 121us/step - loss: 0.3249 - acc: 0.8734\n",
      "Epoch 77/100\n",
      "537/537 [==============================] - 0s 112us/step - loss: 0.3345 - acc: 0.8678\n",
      "Epoch 78/100\n",
      "537/537 [==============================] - 0s 133us/step - loss: 0.3315 - acc: 0.8696\n",
      "Epoch 79/100\n",
      "537/537 [==============================] - 0s 105us/step - loss: 0.3290 - acc: 0.8734\n",
      "Epoch 80/100\n",
      "537/537 [==============================] - 0s 127us/step - loss: 0.3280 - acc: 0.8678\n",
      "Epoch 81/100\n",
      "537/537 [==============================] - 0s 93us/step - loss: 0.3268 - acc: 0.8734\n",
      "Epoch 82/100\n",
      "537/537 [==============================] - 0s 120us/step - loss: 0.3249 - acc: 0.8678\n",
      "Epoch 83/100\n",
      "537/537 [==============================] - 0s 93us/step - loss: 0.3249 - acc: 0.8659\n",
      "Epoch 84/100\n"
     ]
    },
    {
     "name": "stdout",
     "output_type": "stream",
     "text": [
      "537/537 [==============================] - 0s 112us/step - loss: 0.3233 - acc: 0.8678\n",
      "Epoch 85/100\n",
      "537/537 [==============================] - 0s 93us/step - loss: 0.3259 - acc: 0.8622\n",
      "Epoch 86/100\n",
      "537/537 [==============================] - 0s 112us/step - loss: 0.3220 - acc: 0.8734\n",
      "Epoch 87/100\n",
      "537/537 [==============================] - 0s 90us/step - loss: 0.3231 - acc: 0.8678\n",
      "Epoch 88/100\n",
      "537/537 [==============================] - 0s 114us/step - loss: 0.3201 - acc: 0.8622\n",
      "Epoch 89/100\n",
      "537/537 [==============================] - 0s 121us/step - loss: 0.3227 - acc: 0.8752\n",
      "Epoch 90/100\n",
      "537/537 [==============================] - 0s 123us/step - loss: 0.3197 - acc: 0.8678\n",
      "Epoch 91/100\n",
      "537/537 [==============================] - 0s 95us/step - loss: 0.3207 - acc: 0.8864\n",
      "Epoch 92/100\n",
      "537/537 [==============================] - 0s 114us/step - loss: 0.3208 - acc: 0.8734\n",
      "Epoch 93/100\n",
      "537/537 [==============================] - 0s 105us/step - loss: 0.3182 - acc: 0.8845\n",
      "Epoch 94/100\n",
      "537/537 [==============================] - 0s 108us/step - loss: 0.3188 - acc: 0.8771\n",
      "Epoch 95/100\n",
      "537/537 [==============================] - 0s 120us/step - loss: 0.3181 - acc: 0.8790\n",
      "Epoch 96/100\n",
      "537/537 [==============================] - 0s 118us/step - loss: 0.3177 - acc: 0.8771\n",
      "Epoch 97/100\n",
      "537/537 [==============================] - 0s 118us/step - loss: 0.3189 - acc: 0.8864\n",
      "Epoch 98/100\n",
      "537/537 [==============================] - 0s 99us/step - loss: 0.3176 - acc: 0.8771\n",
      "Epoch 99/100\n",
      "537/537 [==============================] - 0s 112us/step - loss: 0.3152 - acc: 0.8827\n",
      "Epoch 100/100\n",
      "537/537 [==============================] - 0s 116us/step - loss: 0.3142 - acc: 0.8790\n"
     ]
    },
    {
     "data": {
      "text/plain": [
       "<keras.callbacks.History at 0x265ceb0cf98>"
      ]
     },
     "execution_count": 122,
     "metadata": {},
     "output_type": "execute_result"
    }
   ],
   "source": [
    "model = Sequential()\n",
    "model.add(Dense(15, input_dim=8, activation='relu'))\n",
    "model.add(Dense(12, activation='relu'))\n",
    "model.add(Dense(3, activation='sigmoid'))\n",
    "model.compile(loss='categorical_crossentropy', optimizer='rmsprop', metrics=['accuracy'])\n",
    "model.fit(X_train, y_train_dummy, batch_size=10, epochs=100)"
   ]
  },
  {
   "cell_type": "code",
   "execution_count": 123,
   "metadata": {},
   "outputs": [
    {
     "name": "stdout",
     "output_type": "stream",
     "text": [
      "Test accuracy score: 0.9090909090909091\n",
      "Classification Report for efficiency: \n",
      "\n",
      "             precision    recall  f1-score   support\n",
      "\n",
      "          0       0.93      0.88      0.90       113\n",
      "          1       0.91      0.95      0.93        61\n",
      "          2       0.87      0.93      0.90        57\n",
      "\n",
      "avg / total       0.91      0.91      0.91       231\n",
      "\n"
     ]
    }
   ],
   "source": [
    "y_pred = model.predict(X_test)\n",
    "y_pred = np.argmax(y_pred, axis=1)\n",
    "y_pred\n",
    "print('Test accuracy score: {}'.format(accuracy_score(y_true=y_test, y_pred=y_pred)))\n",
    "print('Classification Report for efficiency: \\n')\n",
    "print(classification_report(y_true=y_test, y_pred=y_pred))"
   ]
  },
  {
   "cell_type": "markdown",
   "metadata": {},
   "source": [
    "## Grid Search to find the Best Parameters for Nueral Network"
   ]
  },
  {
   "cell_type": "code",
   "execution_count": 124,
   "metadata": {},
   "outputs": [],
   "source": [
    "## Neural Network Classifier with Parameter tuning\n",
    "# def build_class(optimizer):\n",
    "#    model = Sequential()\n",
    "#    model.add(Dense(15, input_dim=8, kernel_initializer='uniform', activation='relu'))\n",
    "#    model.add(Dense(12, kernel_initializer='uniform', activation='relu'))\n",
    "#    model.add(Dense(3, activation='sigmoid'))\n",
    "#    model.compile(loss='categorical_crossentropy', metrics=['accuracy'], optimizer=optimizer)\n",
    "#    return model\n",
    "\n",
    "# model = KerasClassifier(build_fn=build_class)\n",
    "\n",
    "# param_grid = {'batch_size': [10,16,25],\n",
    "#              'epochs': [50, 100,150],\n",
    "#          'optimizer': ['rmsprop','adam']}\n",
    "\n",
    "# model = GridSearchCV(estimator=model, scoring='accuracy', cv=8, return_train_score=True, param_grid=param_grid)\n",
    "# model.fit(X_train, y_train_dummy, epochs=150)"
   ]
  },
  {
   "cell_type": "markdown",
   "metadata": {},
   "source": [
    "### Best Parameters : - Batch Size= 10 , Epochs= 100, Optimizer= 'rmsprop'"
   ]
  },
  {
   "cell_type": "code",
   "execution_count": 125,
   "metadata": {},
   "outputs": [
    {
     "name": "stdout",
     "output_type": "stream",
     "text": [
      "Epoch 1/150\n",
      "537/537 [==============================] - 0s 514us/step - loss: 1.0414 - acc: 0.5102\n",
      "Epoch 2/150\n",
      "537/537 [==============================] - 0s 120us/step - loss: 0.9590 - acc: 0.5326\n",
      "Epoch 3/150\n",
      "537/537 [==============================] - 0s 118us/step - loss: 0.8686 - acc: 0.5680\n",
      "Epoch 4/150\n",
      "537/537 [==============================] - 0s 151us/step - loss: 0.7824 - acc: 0.5885\n",
      "Epoch 5/150\n",
      "537/537 [==============================] - 0s 116us/step - loss: 0.7168 - acc: 0.6071\n",
      "Epoch 6/150\n",
      "537/537 [==============================] - 0s 118us/step - loss: 0.6706 - acc: 0.6611\n",
      "Epoch 7/150\n",
      "537/537 [==============================] - 0s 155us/step - loss: 0.6321 - acc: 0.7281\n",
      "Epoch 8/150\n",
      "537/537 [==============================] - 0s 116us/step - loss: 0.5976 - acc: 0.7523\n",
      "Epoch 9/150\n",
      "537/537 [==============================] - 0s 114us/step - loss: 0.5646 - acc: 0.7914\n",
      "Epoch 10/150\n",
      "537/537 [==============================] - 0s 170us/step - loss: 0.5344 - acc: 0.8268\n",
      "Epoch 11/150\n",
      "537/537 [==============================] - 0s 120us/step - loss: 0.5072 - acc: 0.8212\n",
      "Epoch 12/150\n",
      "537/537 [==============================] - 0s 123us/step - loss: 0.4859 - acc: 0.8361\n",
      "Epoch 13/150\n",
      "537/537 [==============================] - 0s 166us/step - loss: 0.4651 - acc: 0.8361\n",
      "Epoch 14/150\n",
      "537/537 [==============================] - 0s 127us/step - loss: 0.4516 - acc: 0.8343\n",
      "Epoch 15/150\n",
      "537/537 [==============================] - 0s 118us/step - loss: 0.4389 - acc: 0.8436\n",
      "Epoch 16/150\n",
      "537/537 [==============================] - 0s 125us/step - loss: 0.4281 - acc: 0.8380\n",
      "Epoch 17/150\n",
      "537/537 [==============================] - 0s 144us/step - loss: 0.4207 - acc: 0.8436\n",
      "Epoch 18/150\n",
      "537/537 [==============================] - 0s 120us/step - loss: 0.4119 - acc: 0.8454\n",
      "Epoch 19/150\n",
      "537/537 [==============================] - 0s 121us/step - loss: 0.4075 - acc: 0.8417\n",
      "Epoch 20/150\n",
      "537/537 [==============================] - 0s 155us/step - loss: 0.4008 - acc: 0.8454\n",
      "Epoch 21/150\n",
      "537/537 [==============================] - 0s 120us/step - loss: 0.3946 - acc: 0.8529\n",
      "Epoch 22/150\n",
      "537/537 [==============================] - 0s 116us/step - loss: 0.3921 - acc: 0.8473\n",
      "Epoch 23/150\n",
      "537/537 [==============================] - 0s 131us/step - loss: 0.3890 - acc: 0.8436\n",
      "Epoch 24/150\n",
      "537/537 [==============================] - 0s 142us/step - loss: 0.3817 - acc: 0.8436\n",
      "Epoch 25/150\n",
      "537/537 [==============================] - 0s 114us/step - loss: 0.3803 - acc: 0.8510\n",
      "Epoch 26/150\n",
      "537/537 [==============================] - 0s 123us/step - loss: 0.3775 - acc: 0.8547\n",
      "Epoch 27/150\n",
      "537/537 [==============================] - 0s 136us/step - loss: 0.3752 - acc: 0.8473\n",
      "Epoch 28/150\n",
      "537/537 [==============================] - 0s 133us/step - loss: 0.3746 - acc: 0.8492\n",
      "Epoch 29/150\n",
      "537/537 [==============================] - 0s 116us/step - loss: 0.3712 - acc: 0.8510\n",
      "Epoch 30/150\n",
      "537/537 [==============================] - 0s 138us/step - loss: 0.3677 - acc: 0.8492\n",
      "Epoch 31/150\n",
      "537/537 [==============================] - 0s 131us/step - loss: 0.3692 - acc: 0.8603\n",
      "Epoch 32/150\n",
      "537/537 [==============================] - 0s 118us/step - loss: 0.3607 - acc: 0.8529\n",
      "Epoch 33/150\n",
      "537/537 [==============================] - 0s 116us/step - loss: 0.3666 - acc: 0.8529\n",
      "Epoch 34/150\n",
      "537/537 [==============================] - 0s 146us/step - loss: 0.3632 - acc: 0.8566\n",
      "Epoch 35/150\n",
      "537/537 [==============================] - 0s 123us/step - loss: 0.3618 - acc: 0.8547\n",
      "Epoch 36/150\n",
      "537/537 [==============================] - 0s 118us/step - loss: 0.3606 - acc: 0.8566\n",
      "Epoch 37/150\n",
      "537/537 [==============================] - 0s 153us/step - loss: 0.3578 - acc: 0.8510\n",
      "Epoch 38/150\n",
      "537/537 [==============================] - 0s 135us/step - loss: 0.3578 - acc: 0.8510\n",
      "Epoch 39/150\n",
      "537/537 [==============================] - 0s 121us/step - loss: 0.3565 - acc: 0.8566\n",
      "Epoch 40/150\n",
      "537/537 [==============================] - 0s 118us/step - loss: 0.3533 - acc: 0.8547\n",
      "Epoch 41/150\n",
      "537/537 [==============================] - 0s 133us/step - loss: 0.3506 - acc: 0.8659\n",
      "Epoch 42/150\n",
      "537/537 [==============================] - 0s 84us/step - loss: 0.3522 - acc: 0.8566\n",
      "Epoch 43/150\n",
      "537/537 [==============================] - 0s 87us/step - loss: 0.3496 - acc: 0.8585\n",
      "Epoch 44/150\n",
      "537/537 [==============================] - 0s 90us/step - loss: 0.3488 - acc: 0.8510\n",
      "Epoch 45/150\n",
      "537/537 [==============================] - 0s 118us/step - loss: 0.3474 - acc: 0.8622\n",
      "Epoch 46/150\n",
      "537/537 [==============================] - 0s 86us/step - loss: 0.3455 - acc: 0.8603\n",
      "Epoch 47/150\n",
      "537/537 [==============================] - 0s 86us/step - loss: 0.3449 - acc: 0.8529\n",
      "Epoch 48/150\n",
      "537/537 [==============================] - 0s 84us/step - loss: 0.3402 - acc: 0.8529\n",
      "Epoch 49/150\n",
      "537/537 [==============================] - 0s 123us/step - loss: 0.3444 - acc: 0.8585\n",
      "Epoch 50/150\n",
      "537/537 [==============================] - 0s 86us/step - loss: 0.3382 - acc: 0.8641\n",
      "Epoch 51/150\n",
      "537/537 [==============================] - 0s 84us/step - loss: 0.3398 - acc: 0.8696\n",
      "Epoch 52/150\n",
      "537/537 [==============================] - 0s 91us/step - loss: 0.3379 - acc: 0.8641\n",
      "Epoch 53/150\n",
      "537/537 [==============================] - 0s 118us/step - loss: 0.3351 - acc: 0.8585\n",
      "Epoch 54/150\n",
      "537/537 [==============================] - 0s 86us/step - loss: 0.3350 - acc: 0.8659\n",
      "Epoch 55/150\n",
      "537/537 [==============================] - 0s 88us/step - loss: 0.3351 - acc: 0.8603\n",
      "Epoch 56/150\n",
      "537/537 [==============================] - 0s 90us/step - loss: 0.3339 - acc: 0.8603\n",
      "Epoch 57/150\n",
      "537/537 [==============================] - 0s 118us/step - loss: 0.3340 - acc: 0.8603\n",
      "Epoch 58/150\n",
      "537/537 [==============================] - 0s 86us/step - loss: 0.3310 - acc: 0.8696\n",
      "Epoch 59/150\n",
      "537/537 [==============================] - 0s 93us/step - loss: 0.3287 - acc: 0.8659\n",
      "Epoch 60/150\n",
      "537/537 [==============================] - 0s 88us/step - loss: 0.3290 - acc: 0.8547\n",
      "Epoch 61/150\n",
      "537/537 [==============================] - 0s 123us/step - loss: 0.3274 - acc: 0.8585\n",
      "Epoch 62/150\n",
      "537/537 [==============================] - 0s 88us/step - loss: 0.3276 - acc: 0.8696\n",
      "Epoch 63/150\n",
      "537/537 [==============================] - 0s 121us/step - loss: 0.3237 - acc: 0.8641\n",
      "Epoch 64/150\n",
      "537/537 [==============================] - 0s 97us/step - loss: 0.3252 - acc: 0.8603\n",
      "Epoch 65/150\n",
      "537/537 [==============================] - 0s 101us/step - loss: 0.3238 - acc: 0.8603\n",
      "Epoch 66/150\n",
      "537/537 [==============================] - 0s 116us/step - loss: 0.3226 - acc: 0.8752\n",
      "Epoch 67/150\n",
      "537/537 [==============================] - 0s 90us/step - loss: 0.3209 - acc: 0.8641\n",
      "Epoch 68/150\n",
      "537/537 [==============================] - 0s 114us/step - loss: 0.3187 - acc: 0.8696\n",
      "Epoch 69/150\n",
      "537/537 [==============================] - 0s 101us/step - loss: 0.3159 - acc: 0.8659\n",
      "Epoch 70/150\n",
      "537/537 [==============================] - 0s 101us/step - loss: 0.3176 - acc: 0.8752\n",
      "Epoch 71/150\n",
      "537/537 [==============================] - 0s 118us/step - loss: 0.3134 - acc: 0.8808\n",
      "Epoch 72/150\n",
      "537/537 [==============================] - 0s 92us/step - loss: 0.3159 - acc: 0.8622\n",
      "Epoch 73/150\n",
      "537/537 [==============================] - 0s 112us/step - loss: 0.3124 - acc: 0.8641\n",
      "Epoch 74/150\n",
      "537/537 [==============================] - 0s 93us/step - loss: 0.3121 - acc: 0.8659\n",
      "Epoch 75/150\n",
      "537/537 [==============================] - 0s 110us/step - loss: 0.3120 - acc: 0.8734\n",
      "Epoch 76/150\n",
      "537/537 [==============================] - 0s 105us/step - loss: 0.3136 - acc: 0.8790\n",
      "Epoch 77/150\n",
      "537/537 [==============================] - 0s 95us/step - loss: 0.3102 - acc: 0.8771\n",
      "Epoch 78/150\n",
      "537/537 [==============================] - 0s 118us/step - loss: 0.3102 - acc: 0.8715\n",
      "Epoch 79/150\n",
      "537/537 [==============================] - 0s 99us/step - loss: 0.3078 - acc: 0.8734\n",
      "Epoch 80/150\n",
      "537/537 [==============================] - 0s 110us/step - loss: 0.3069 - acc: 0.8715\n",
      "Epoch 81/150\n",
      "537/537 [==============================] - 0s 118us/step - loss: 0.3090 - acc: 0.8715\n",
      "Epoch 82/150\n",
      "537/537 [==============================] - 0s 91us/step - loss: 0.3034 - acc: 0.8790\n",
      "Epoch 83/150\n",
      "537/537 [==============================] - 0s 110us/step - loss: 0.3045 - acc: 0.8734\n",
      "Epoch 84/150\n"
     ]
    },
    {
     "name": "stdout",
     "output_type": "stream",
     "text": [
      "537/537 [==============================] - 0s 91us/step - loss: 0.3030 - acc: 0.8771\n",
      "Epoch 85/150\n",
      "537/537 [==============================] - 0s 116us/step - loss: 0.3036 - acc: 0.8678\n",
      "Epoch 86/150\n",
      "537/537 [==============================] - 0s 90us/step - loss: 0.3011 - acc: 0.8734\n",
      "Epoch 87/150\n",
      "537/537 [==============================] - 0s 118us/step - loss: 0.3005 - acc: 0.8808\n",
      "Epoch 88/150\n",
      "537/537 [==============================] - 0s 142us/step - loss: 0.2995 - acc: 0.8696\n",
      "Epoch 89/150\n",
      "537/537 [==============================] - 0s 148us/step - loss: 0.3011 - acc: 0.8808\n",
      "Epoch 90/150\n",
      "537/537 [==============================] - 0s 148us/step - loss: 0.2969 - acc: 0.8790\n",
      "Epoch 91/150\n",
      "537/537 [==============================] - 0s 147us/step - loss: 0.2940 - acc: 0.8734\n",
      "Epoch 92/150\n",
      "537/537 [==============================] - 0s 145us/step - loss: 0.2979 - acc: 0.8715\n",
      "Epoch 93/150\n",
      "537/537 [==============================] - 0s 141us/step - loss: 0.2950 - acc: 0.8808\n",
      "Epoch 94/150\n",
      "537/537 [==============================] - 0s 138us/step - loss: 0.2931 - acc: 0.8771\n",
      "Epoch 95/150\n",
      "537/537 [==============================] - 0s 148us/step - loss: 0.2951 - acc: 0.8808\n",
      "Epoch 96/150\n",
      "537/537 [==============================] - 0s 146us/step - loss: 0.2952 - acc: 0.8752\n",
      "Epoch 97/150\n",
      "537/537 [==============================] - 0s 127us/step - loss: 0.2913 - acc: 0.8901\n",
      "Epoch 98/150\n",
      "537/537 [==============================] - 0s 134us/step - loss: 0.2924 - acc: 0.8845\n",
      "Epoch 99/150\n",
      "537/537 [==============================] - 0s 142us/step - loss: 0.2836 - acc: 0.8808\n",
      "Epoch 100/150\n",
      "537/537 [==============================] - 0s 134us/step - loss: 0.2897 - acc: 0.8790\n",
      "Epoch 101/150\n",
      "537/537 [==============================] - 0s 134us/step - loss: 0.2886 - acc: 0.8808\n",
      "Epoch 102/150\n",
      "537/537 [==============================] - 0s 129us/step - loss: 0.2873 - acc: 0.8808\n",
      "Epoch 103/150\n",
      "537/537 [==============================] - 0s 146us/step - loss: 0.2889 - acc: 0.8771\n",
      "Epoch 104/150\n",
      "537/537 [==============================] - 0s 142us/step - loss: 0.2839 - acc: 0.8864\n",
      "Epoch 105/150\n",
      "537/537 [==============================] - 0s 140us/step - loss: 0.2841 - acc: 0.8845\n",
      "Epoch 106/150\n",
      "537/537 [==============================] - 0s 127us/step - loss: 0.2858 - acc: 0.8808\n",
      "Epoch 107/150\n",
      "537/537 [==============================] - 0s 142us/step - loss: 0.2852 - acc: 0.8939\n",
      "Epoch 108/150\n",
      "537/537 [==============================] - 0s 148us/step - loss: 0.2839 - acc: 0.8771\n",
      "Epoch 109/150\n",
      "537/537 [==============================] - 0s 146us/step - loss: 0.2796 - acc: 0.8845\n",
      "Epoch 110/150\n",
      "537/537 [==============================] - 0s 142us/step - loss: 0.2841 - acc: 0.8790\n",
      "Epoch 111/150\n",
      "537/537 [==============================] - 0s 127us/step - loss: 0.2855 - acc: 0.8734\n",
      "Epoch 112/150\n",
      "537/537 [==============================] - 0s 146us/step - loss: 0.2807 - acc: 0.8845\n",
      "Epoch 113/150\n",
      "537/537 [==============================] - 0s 140us/step - loss: 0.2806 - acc: 0.8808\n",
      "Epoch 114/150\n",
      "537/537 [==============================] - 0s 127us/step - loss: 0.2822 - acc: 0.8976\n",
      "Epoch 115/150\n",
      "537/537 [==============================] - 0s 140us/step - loss: 0.2783 - acc: 0.8920\n",
      "Epoch 116/150\n",
      "537/537 [==============================] - 0s 138us/step - loss: 0.2798 - acc: 0.8883\n",
      "Epoch 117/150\n",
      "537/537 [==============================] - 0s 136us/step - loss: 0.2760 - acc: 0.8939\n",
      "Epoch 118/150\n",
      "537/537 [==============================] - 0s 133us/step - loss: 0.2782 - acc: 0.8957\n",
      "Epoch 119/150\n",
      "537/537 [==============================] - 0s 138us/step - loss: 0.2779 - acc: 0.8901\n",
      "Epoch 120/150\n",
      "537/537 [==============================] - 0s 142us/step - loss: 0.2774 - acc: 0.8845\n",
      "Epoch 121/150\n",
      "537/537 [==============================] - 0s 140us/step - loss: 0.2784 - acc: 0.8752\n",
      "Epoch 122/150\n",
      "537/537 [==============================] - 0s 120us/step - loss: 0.2752 - acc: 0.8939\n",
      "Epoch 123/150\n",
      "537/537 [==============================] - 0s 149us/step - loss: 0.2740 - acc: 0.8864\n",
      "Epoch 124/150\n",
      "537/537 [==============================] - 0s 149us/step - loss: 0.2759 - acc: 0.8976\n",
      "Epoch 125/150\n",
      "537/537 [==============================] - 0s 146us/step - loss: 0.2772 - acc: 0.8957\n",
      "Epoch 126/150\n",
      "537/537 [==============================] - 0s 131us/step - loss: 0.2750 - acc: 0.8939\n",
      "Epoch 127/150\n",
      "537/537 [==============================] - 0s 157us/step - loss: 0.2732 - acc: 0.8939\n",
      "Epoch 128/150\n",
      "537/537 [==============================] - 0s 149us/step - loss: 0.2712 - acc: 0.8808\n",
      "Epoch 129/150\n",
      "537/537 [==============================] - 0s 148us/step - loss: 0.2723 - acc: 0.8901\n",
      "Epoch 130/150\n",
      "537/537 [==============================] - 0s 134us/step - loss: 0.2732 - acc: 0.8976\n",
      "Epoch 131/150\n",
      "537/537 [==============================] - 0s 118us/step - loss: 0.2714 - acc: 0.8883\n",
      "Epoch 132/150\n",
      "537/537 [==============================] - 0s 121us/step - loss: 0.2705 - acc: 0.8976\n",
      "Epoch 133/150\n",
      "537/537 [==============================] - 0s 108us/step - loss: 0.2645 - acc: 0.8808\n",
      "Epoch 134/150\n",
      "537/537 [==============================] - 0s 93us/step - loss: 0.2677 - acc: 0.8827\n",
      "Epoch 135/150\n",
      "537/537 [==============================] - 0s 123us/step - loss: 0.2712 - acc: 0.8994\n",
      "Epoch 136/150\n",
      "537/537 [==============================] - 0s 116us/step - loss: 0.2702 - acc: 0.8901\n",
      "Epoch 137/150\n",
      "537/537 [==============================] - 0s 90us/step - loss: 0.2684 - acc: 0.8994\n",
      "Epoch 138/150\n",
      "537/537 [==============================] - 0s 114us/step - loss: 0.2654 - acc: 0.8864\n",
      "Epoch 139/150\n",
      "537/537 [==============================] - 0s 120us/step - loss: 0.2665 - acc: 0.9013\n",
      "Epoch 140/150\n",
      "537/537 [==============================] - 0s 95us/step - loss: 0.2659 - acc: 0.8939\n",
      "Epoch 141/150\n",
      "537/537 [==============================] - 0s 112us/step - loss: 0.2652 - acc: 0.9050\n",
      "Epoch 142/150\n",
      "537/537 [==============================] - 0s 119us/step - loss: 0.2713 - acc: 0.8808\n",
      "Epoch 143/150\n",
      "537/537 [==============================] - 0s 106us/step - loss: 0.2668 - acc: 0.9013\n",
      "Epoch 144/150\n",
      "537/537 [==============================] - 0s 103us/step - loss: 0.2671 - acc: 0.8994\n",
      "Epoch 145/150\n",
      "537/537 [==============================] - 0s 114us/step - loss: 0.2653 - acc: 0.8957\n",
      "Epoch 146/150\n",
      "537/537 [==============================] - 0s 121us/step - loss: 0.2665 - acc: 0.9088\n",
      "Epoch 147/150\n",
      "537/537 [==============================] - 0s 105us/step - loss: 0.2636 - acc: 0.8994\n",
      "Epoch 148/150\n",
      "537/537 [==============================] - 0s 106us/step - loss: 0.2663 - acc: 0.9013\n",
      "Epoch 149/150\n",
      "537/537 [==============================] - 0s 123us/step - loss: 0.2661 - acc: 0.9032\n",
      "Epoch 150/150\n",
      "537/537 [==============================] - 0s 112us/step - loss: 0.2640 - acc: 0.9013\n"
     ]
    },
    {
     "data": {
      "text/plain": [
       "<keras.callbacks.History at 0x265cee14be0>"
      ]
     },
     "execution_count": 125,
     "metadata": {},
     "output_type": "execute_result"
    }
   ],
   "source": [
    "model = Sequential()\n",
    "model.add(Dense(15, input_dim=8, activation='relu'))\n",
    "model.add(Dense(12, activation='relu'))\n",
    "model.add(Dense(3, activation='sigmoid'))\n",
    "model.compile(loss='categorical_crossentropy', optimizer='rmsprop', metrics=['accuracy'])\n",
    "model.fit(X_train, y_train_dummy, batch_size=10, epochs=150)"
   ]
  },
  {
   "cell_type": "code",
   "execution_count": 126,
   "metadata": {},
   "outputs": [
    {
     "name": "stdout",
     "output_type": "stream",
     "text": [
      "Test accuracy score: 0.8917748917748918\n",
      "Classification Report for efficiency: \n",
      "\n",
      "             precision    recall  f1-score   support\n",
      "\n",
      "          0       0.94      0.83      0.88       113\n",
      "          1       0.84      0.97      0.90        61\n",
      "          2       0.87      0.93      0.90        57\n",
      "\n",
      "avg / total       0.90      0.89      0.89       231\n",
      "\n"
     ]
    }
   ],
   "source": [
    "y_pred = model.predict(X_test)\n",
    "y_pred = np.argmax(y_pred, axis=1)\n",
    "y_pred\n",
    "print('Test accuracy score: {}'.format(accuracy_score(y_true=y_test, y_pred=y_pred)))\n",
    "print('Classification Report for efficiency: \\n')\n",
    "print(classification_report(y_true=y_test, y_pred=y_pred))"
   ]
  },
  {
   "cell_type": "markdown",
   "metadata": {},
   "source": [
    "## <font color='green'>Accuracy of Deep Learning Model for Efficiency Classification: - 91%"
   ]
  },
  {
   "cell_type": "markdown",
   "metadata": {},
   "source": [
    "## Effort Table"
   ]
  },
  {
   "cell_type": "code",
   "execution_count": 127,
   "metadata": {},
   "outputs": [
    {
     "data": {
      "text/html": [
       "<div>\n",
       "<style scoped>\n",
       "    .dataframe tbody tr th:only-of-type {\n",
       "        vertical-align: middle;\n",
       "    }\n",
       "\n",
       "    .dataframe tbody tr th {\n",
       "        vertical-align: top;\n",
       "    }\n",
       "\n",
       "    .dataframe thead th {\n",
       "        text-align: right;\n",
       "    }\n",
       "</style>\n",
       "<table border=\"1\" class=\"dataframe\">\n",
       "  <thead>\n",
       "    <tr style=\"text-align: right;\">\n",
       "      <th></th>\n",
       "      <th>Name</th>\n",
       "      <th>Effort</th>\n",
       "    </tr>\n",
       "  </thead>\n",
       "  <tbody>\n",
       "    <tr>\n",
       "      <th>0</th>\n",
       "      <td>Mehul Patel</td>\n",
       "      <td>50%</td>\n",
       "    </tr>\n",
       "    <tr>\n",
       "      <th>1</th>\n",
       "      <td>Shaurya Trehan</td>\n",
       "      <td>50%</td>\n",
       "    </tr>\n",
       "  </tbody>\n",
       "</table>\n",
       "</div>"
      ],
      "text/plain": [
       "             Name Effort\n",
       "0     Mehul Patel    50%\n",
       "1  Shaurya Trehan    50%"
      ]
     },
     "execution_count": 127,
     "metadata": {},
     "output_type": "execute_result"
    }
   ],
   "source": [
    "effort = { 'Name':[\"Mehul Patel\",\"Shaurya Trehan\"],'Effort':[\"50%\",\"50%\"]}\n",
    "effort_table = pd.DataFrame(effort)\n",
    "effort_table = effort_table[['Name', 'Effort']]\n",
    "effort_table"
   ]
  }
 ],
 "metadata": {
  "kernelspec": {
   "display_name": "Python 3",
   "language": "python",
   "name": "python3"
  },
  "language_info": {
   "codemirror_mode": {
    "name": "ipython",
    "version": 3
   },
   "file_extension": ".py",
   "mimetype": "text/x-python",
   "name": "python",
   "nbconvert_exporter": "python",
   "pygments_lexer": "ipython3",
   "version": "3.6.4"
  }
 },
 "nbformat": 4,
 "nbformat_minor": 2
}
